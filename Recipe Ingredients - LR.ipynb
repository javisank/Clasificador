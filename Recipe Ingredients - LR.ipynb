{
 "cells": [
  {
   "cell_type": "markdown",
   "metadata": {},
   "source": [
    "# 1. Importar librerías"
   ]
  },
  {
   "cell_type": "code",
   "execution_count": 1,
   "metadata": {},
   "outputs": [],
   "source": [
    "import numpy as np\n",
    "import pandas as pd\n",
    "import matplotlib.pyplot as plt\n",
    "import seaborn as sns\n",
    "\n",
    "from sklearn.model_selection import train_test_split\n",
    "from sklearn import linear_model \n",
    "from sklearn.linear_model import LogisticRegression \n",
    "from sklearn.model_selection import RandomizedSearchCV\n",
    "from sklearn.model_selection import GridSearchCV\n",
    "\n",
    "from sklearn.metrics import confusion_matrix,accuracy_score\n",
    "# !pip install git+http://github.com/scikit-learn/scikit-learn.git\n",
    "# from sklearn.metrics import multilabel_confusion_matrix\n",
    "from sklearn.feature_extraction.text import TfidfVectorizer,CountVectorizer"
   ]
  },
  {
   "cell_type": "markdown",
   "metadata": {},
   "source": [
    "# 2. Importar set de entrenamiento y Limpieza"
   ]
  },
  {
   "cell_type": "code",
   "execution_count": 2,
   "metadata": {
    "scrolled": false
   },
   "outputs": [
    {
     "data": {
      "text/html": [
       "<div>\n",
       "<style scoped>\n",
       "    .dataframe tbody tr th:only-of-type {\n",
       "        vertical-align: middle;\n",
       "    }\n",
       "\n",
       "    .dataframe tbody tr th {\n",
       "        vertical-align: top;\n",
       "    }\n",
       "\n",
       "    .dataframe thead th {\n",
       "        text-align: right;\n",
       "    }\n",
       "</style>\n",
       "<table border=\"1\" class=\"dataframe\">\n",
       "  <thead>\n",
       "    <tr style=\"text-align: right;\">\n",
       "      <th></th>\n",
       "      <th>cuisine</th>\n",
       "      <th>id</th>\n",
       "      <th>ingredients</th>\n",
       "    </tr>\n",
       "  </thead>\n",
       "  <tbody>\n",
       "    <tr>\n",
       "      <th>0</th>\n",
       "      <td>greek</td>\n",
       "      <td>10259</td>\n",
       "      <td>[romaine lettuce, black olives, grape tomatoes...</td>\n",
       "    </tr>\n",
       "    <tr>\n",
       "      <th>1</th>\n",
       "      <td>southern_us</td>\n",
       "      <td>25693</td>\n",
       "      <td>[plain flour, ground pepper, salt, tomatoes, g...</td>\n",
       "    </tr>\n",
       "    <tr>\n",
       "      <th>2</th>\n",
       "      <td>filipino</td>\n",
       "      <td>20130</td>\n",
       "      <td>[eggs, pepper, salt, mayonaise, cooking oil, g...</td>\n",
       "    </tr>\n",
       "    <tr>\n",
       "      <th>3</th>\n",
       "      <td>indian</td>\n",
       "      <td>22213</td>\n",
       "      <td>[water, vegetable oil, wheat, salt]</td>\n",
       "    </tr>\n",
       "    <tr>\n",
       "      <th>4</th>\n",
       "      <td>indian</td>\n",
       "      <td>13162</td>\n",
       "      <td>[black pepper, shallots, cornflour, cayenne pe...</td>\n",
       "    </tr>\n",
       "  </tbody>\n",
       "</table>\n",
       "</div>"
      ],
      "text/plain": [
       "       cuisine     id                                        ingredients\n",
       "0        greek  10259  [romaine lettuce, black olives, grape tomatoes...\n",
       "1  southern_us  25693  [plain flour, ground pepper, salt, tomatoes, g...\n",
       "2     filipino  20130  [eggs, pepper, salt, mayonaise, cooking oil, g...\n",
       "3       indian  22213                [water, vegetable oil, wheat, salt]\n",
       "4       indian  13162  [black pepper, shallots, cornflour, cayenne pe..."
      ]
     },
     "execution_count": 2,
     "metadata": {},
     "output_type": "execute_result"
    }
   ],
   "source": [
    "data_train = pd.read_json('train.json')\n",
    "data_train.head()"
   ]
  },
  {
   "cell_type": "code",
   "execution_count": 3,
   "metadata": {},
   "outputs": [
    {
     "data": {
      "text/plain": [
       "italian         7838\n",
       "mexican         6438\n",
       "southern_us     4320\n",
       "indian          3003\n",
       "chinese         2673\n",
       "french          2646\n",
       "cajun_creole    1546\n",
       "thai            1539\n",
       "japanese        1423\n",
       "greek           1175\n",
       "spanish          989\n",
       "korean           830\n",
       "vietnamese       825\n",
       "moroccan         821\n",
       "british          804\n",
       "filipino         755\n",
       "irish            667\n",
       "jamaican         526\n",
       "russian          489\n",
       "brazilian        467\n",
       "Name: cuisine, dtype: int64"
      ]
     },
     "execution_count": 3,
     "metadata": {},
     "output_type": "execute_result"
    }
   ],
   "source": [
    "data_train['cuisine'].value_counts()"
   ]
  },
  {
   "cell_type": "code",
   "execution_count": 4,
   "metadata": {
    "scrolled": true
   },
   "outputs": [
    {
     "data": {
      "text/plain": [
       "list"
      ]
     },
     "execution_count": 4,
     "metadata": {},
     "output_type": "execute_result"
    }
   ],
   "source": [
    "type(data_train['ingredients'][0])"
   ]
  },
  {
   "cell_type": "markdown",
   "metadata": {},
   "source": [
    "Primero se necesita una columna con un string de ingredientes."
   ]
  },
  {
   "cell_type": "code",
   "execution_count": 5,
   "metadata": {},
   "outputs": [],
   "source": [
    "#data_train['ingr_lst'] = data_train['ingredients'].apply(lambda x: [item.replace(' ','') for item in x])"
   ]
  },
  {
   "cell_type": "code",
   "execution_count": 6,
   "metadata": {},
   "outputs": [
    {
     "data": {
      "text/html": [
       "<div>\n",
       "<style scoped>\n",
       "    .dataframe tbody tr th:only-of-type {\n",
       "        vertical-align: middle;\n",
       "    }\n",
       "\n",
       "    .dataframe tbody tr th {\n",
       "        vertical-align: top;\n",
       "    }\n",
       "\n",
       "    .dataframe thead th {\n",
       "        text-align: right;\n",
       "    }\n",
       "</style>\n",
       "<table border=\"1\" class=\"dataframe\">\n",
       "  <thead>\n",
       "    <tr style=\"text-align: right;\">\n",
       "      <th></th>\n",
       "      <th>cuisine</th>\n",
       "      <th>id</th>\n",
       "      <th>ingredients</th>\n",
       "      <th>ingr_str</th>\n",
       "    </tr>\n",
       "  </thead>\n",
       "  <tbody>\n",
       "    <tr>\n",
       "      <th>0</th>\n",
       "      <td>greek</td>\n",
       "      <td>10259</td>\n",
       "      <td>[romaine lettuce, black olives, grape tomatoes...</td>\n",
       "      <td>romaine lettuce black olives grape tomatoes ga...</td>\n",
       "    </tr>\n",
       "    <tr>\n",
       "      <th>1</th>\n",
       "      <td>southern_us</td>\n",
       "      <td>25693</td>\n",
       "      <td>[plain flour, ground pepper, salt, tomatoes, g...</td>\n",
       "      <td>plain flour ground pepper salt tomatoes ground...</td>\n",
       "    </tr>\n",
       "    <tr>\n",
       "      <th>2</th>\n",
       "      <td>filipino</td>\n",
       "      <td>20130</td>\n",
       "      <td>[eggs, pepper, salt, mayonaise, cooking oil, g...</td>\n",
       "      <td>eggs pepper salt mayonaise cooking oil green c...</td>\n",
       "    </tr>\n",
       "    <tr>\n",
       "      <th>3</th>\n",
       "      <td>indian</td>\n",
       "      <td>22213</td>\n",
       "      <td>[water, vegetable oil, wheat, salt]</td>\n",
       "      <td>water vegetable oil wheat salt</td>\n",
       "    </tr>\n",
       "    <tr>\n",
       "      <th>4</th>\n",
       "      <td>indian</td>\n",
       "      <td>13162</td>\n",
       "      <td>[black pepper, shallots, cornflour, cayenne pe...</td>\n",
       "      <td>black pepper shallots cornflour cayenne pepper...</td>\n",
       "    </tr>\n",
       "  </tbody>\n",
       "</table>\n",
       "</div>"
      ],
      "text/plain": [
       "       cuisine     id                                        ingredients  \\\n",
       "0        greek  10259  [romaine lettuce, black olives, grape tomatoes...   \n",
       "1  southern_us  25693  [plain flour, ground pepper, salt, tomatoes, g...   \n",
       "2     filipino  20130  [eggs, pepper, salt, mayonaise, cooking oil, g...   \n",
       "3       indian  22213                [water, vegetable oil, wheat, salt]   \n",
       "4       indian  13162  [black pepper, shallots, cornflour, cayenne pe...   \n",
       "\n",
       "                                            ingr_str  \n",
       "0  romaine lettuce black olives grape tomatoes ga...  \n",
       "1  plain flour ground pepper salt tomatoes ground...  \n",
       "2  eggs pepper salt mayonaise cooking oil green c...  \n",
       "3                     water vegetable oil wheat salt  \n",
       "4  black pepper shallots cornflour cayenne pepper...  "
      ]
     },
     "execution_count": 6,
     "metadata": {},
     "output_type": "execute_result"
    }
   ],
   "source": [
    "data_train['ingr_str'] = data_train['ingredients'].apply(lambda x: ' '.join(x))\n",
    "data_train.head()"
   ]
  },
  {
   "cell_type": "code",
   "execution_count": 7,
   "metadata": {},
   "outputs": [],
   "source": [
    "# data_train['ingr_str2'] = data_train['ingredients'].apply(lambda x: ' '.join(x))\n",
    "# data_train.head()"
   ]
  },
  {
   "cell_type": "code",
   "execution_count": 8,
   "metadata": {
    "scrolled": true
   },
   "outputs": [],
   "source": [
    "data_train['cant_ingr'] = data_train['ingredients'].str.len()\n",
    "# data_train.head()"
   ]
  },
  {
   "cell_type": "markdown",
   "metadata": {},
   "source": [
    " Vamos a eliminar las recetas vistas en el EDA que tienen sólo 1 ingrediente y aquellas mayores a 30"
   ]
  },
  {
   "cell_type": "code",
   "execution_count": 9,
   "metadata": {},
   "outputs": [],
   "source": [
    "data_train.drop(index=data_train.loc[data_train['cant_ingr']>30].index, inplace=True)"
   ]
  },
  {
   "cell_type": "code",
   "execution_count": 10,
   "metadata": {},
   "outputs": [],
   "source": [
    "data_train.drop(index=data_train.loc[data_train['cant_ingr']==1].index, inplace=True)"
   ]
  },
  {
   "cell_type": "code",
   "execution_count": 11,
   "metadata": {},
   "outputs": [
    {
     "data": {
      "text/html": [
       "<div>\n",
       "<style scoped>\n",
       "    .dataframe tbody tr th:only-of-type {\n",
       "        vertical-align: middle;\n",
       "    }\n",
       "\n",
       "    .dataframe tbody tr th {\n",
       "        vertical-align: top;\n",
       "    }\n",
       "\n",
       "    .dataframe thead th {\n",
       "        text-align: right;\n",
       "    }\n",
       "</style>\n",
       "<table border=\"1\" class=\"dataframe\">\n",
       "  <thead>\n",
       "    <tr style=\"text-align: right;\">\n",
       "      <th></th>\n",
       "      <th>cuisine</th>\n",
       "      <th>id</th>\n",
       "      <th>ingredients</th>\n",
       "      <th>ingr_str</th>\n",
       "      <th>cant_ingr</th>\n",
       "    </tr>\n",
       "  </thead>\n",
       "  <tbody>\n",
       "    <tr>\n",
       "      <th>0</th>\n",
       "      <td>greek</td>\n",
       "      <td>10259</td>\n",
       "      <td>[romaine lettuce, black olives, grape tomatoes...</td>\n",
       "      <td>romaine lettuce black olives grape tomatoes ga...</td>\n",
       "      <td>9</td>\n",
       "    </tr>\n",
       "    <tr>\n",
       "      <th>1</th>\n",
       "      <td>southern_us</td>\n",
       "      <td>25693</td>\n",
       "      <td>[plain flour, ground pepper, salt, tomatoes, g...</td>\n",
       "      <td>plain flour ground pepper salt tomatoes ground...</td>\n",
       "      <td>11</td>\n",
       "    </tr>\n",
       "    <tr>\n",
       "      <th>2</th>\n",
       "      <td>filipino</td>\n",
       "      <td>20130</td>\n",
       "      <td>[eggs, pepper, salt, mayonaise, cooking oil, g...</td>\n",
       "      <td>eggs pepper salt mayonaise cooking oil green c...</td>\n",
       "      <td>12</td>\n",
       "    </tr>\n",
       "    <tr>\n",
       "      <th>3</th>\n",
       "      <td>indian</td>\n",
       "      <td>22213</td>\n",
       "      <td>[water, vegetable oil, wheat, salt]</td>\n",
       "      <td>water vegetable oil wheat salt</td>\n",
       "      <td>4</td>\n",
       "    </tr>\n",
       "    <tr>\n",
       "      <th>4</th>\n",
       "      <td>indian</td>\n",
       "      <td>13162</td>\n",
       "      <td>[black pepper, shallots, cornflour, cayenne pe...</td>\n",
       "      <td>black pepper shallots cornflour cayenne pepper...</td>\n",
       "      <td>20</td>\n",
       "    </tr>\n",
       "  </tbody>\n",
       "</table>\n",
       "</div>"
      ],
      "text/plain": [
       "       cuisine     id                                        ingredients  \\\n",
       "0        greek  10259  [romaine lettuce, black olives, grape tomatoes...   \n",
       "1  southern_us  25693  [plain flour, ground pepper, salt, tomatoes, g...   \n",
       "2     filipino  20130  [eggs, pepper, salt, mayonaise, cooking oil, g...   \n",
       "3       indian  22213                [water, vegetable oil, wheat, salt]   \n",
       "4       indian  13162  [black pepper, shallots, cornflour, cayenne pe...   \n",
       "\n",
       "                                            ingr_str  cant_ingr  \n",
       "0  romaine lettuce black olives grape tomatoes ga...          9  \n",
       "1  plain flour ground pepper salt tomatoes ground...         11  \n",
       "2  eggs pepper salt mayonaise cooking oil green c...         12  \n",
       "3                     water vegetable oil wheat salt          4  \n",
       "4  black pepper shallots cornflour cayenne pepper...         20  "
      ]
     },
     "execution_count": 11,
     "metadata": {},
     "output_type": "execute_result"
    }
   ],
   "source": [
    "data_train.head()"
   ]
  },
  {
   "cell_type": "code",
   "execution_count": 12,
   "metadata": {},
   "outputs": [
    {
     "data": {
      "text/plain": [
       "(39712, 5)"
      ]
     },
     "execution_count": 12,
     "metadata": {},
     "output_type": "execute_result"
    }
   ],
   "source": [
    "data_train.shape"
   ]
  },
  {
   "cell_type": "markdown",
   "metadata": {},
   "source": [
    "Ya que los ingredientes a veces vienen como 2 palabras juntas, se decidió tomar esta representación. Luego se harán pruebas tomando la otra columna."
   ]
  },
  {
   "cell_type": "code",
   "execution_count": 13,
   "metadata": {},
   "outputs": [],
   "source": [
    "X = data_train['ingr_str']\n",
    "y = data_train['cuisine']"
   ]
  },
  {
   "cell_type": "markdown",
   "metadata": {},
   "source": [
    "# 3. Split en Train y Test\n",
    "\n",
    "Para armar y validar el modelo dividimos los datos del archivo 'train.json' en train y test. Luego de haber probado y elegido el mejor modelo posible, se realizarán predicciones sobre un nuevo set de datos del archivo 'test.json', del cual no se conocen las etiquetas."
   ]
  },
  {
   "cell_type": "code",
   "execution_count": 14,
   "metadata": {},
   "outputs": [],
   "source": [
    "X_train, X_test, y_train, y_test = train_test_split(X, y, test_size=0.25, stratify=y)"
   ]
  },
  {
   "cell_type": "code",
   "execution_count": 15,
   "metadata": {},
   "outputs": [
    {
     "data": {
      "text/plain": [
       "((39712,), (39712,))"
      ]
     },
     "execution_count": 15,
     "metadata": {},
     "output_type": "execute_result"
    }
   ],
   "source": [
    "X.shape,y.shape"
   ]
  },
  {
   "cell_type": "code",
   "execution_count": 16,
   "metadata": {},
   "outputs": [
    {
     "data": {
      "text/plain": [
       "((29784,), (29784,))"
      ]
     },
     "execution_count": 16,
     "metadata": {},
     "output_type": "execute_result"
    }
   ],
   "source": [
    "X_train.shape,y_train.shape"
   ]
  },
  {
   "cell_type": "code",
   "execution_count": 17,
   "metadata": {},
   "outputs": [
    {
     "data": {
      "text/plain": [
       "((9928,), (9928,))"
      ]
     },
     "execution_count": 17,
     "metadata": {},
     "output_type": "execute_result"
    }
   ],
   "source": [
    "X_test.shape,y_test.shape"
   ]
  },
  {
   "cell_type": "code",
   "execution_count": 18,
   "metadata": {},
   "outputs": [
    {
     "data": {
      "text/plain": [
       "italian         5876\n",
       "mexican         4818\n",
       "southern_us     3238\n",
       "indian          2244\n",
       "chinese         2003\n",
       "french          1982\n",
       "cajun_creole    1158\n",
       "thai            1150\n",
       "japanese        1064\n",
       "greek            881\n",
       "spanish          740\n",
       "korean           622\n",
       "vietnamese       617\n",
       "moroccan         614\n",
       "british          603\n",
       "filipino         565\n",
       "irish            500\n",
       "jamaican         393\n",
       "russian          367\n",
       "brazilian        349\n",
       "Name: cuisine, dtype: int64"
      ]
     },
     "execution_count": 18,
     "metadata": {},
     "output_type": "execute_result"
    }
   ],
   "source": [
    "y_train.value_counts()"
   ]
  },
  {
   "cell_type": "code",
   "execution_count": 19,
   "metadata": {},
   "outputs": [
    {
     "data": {
      "text/plain": [
       "italian         1958\n",
       "mexican         1606\n",
       "southern_us     1079\n",
       "indian           748\n",
       "chinese          668\n",
       "french           661\n",
       "cajun_creole     386\n",
       "thai             383\n",
       "japanese         355\n",
       "greek            293\n",
       "spanish          246\n",
       "korean           208\n",
       "vietnamese       206\n",
       "moroccan         205\n",
       "british          201\n",
       "filipino         189\n",
       "irish            167\n",
       "jamaican         131\n",
       "russian          122\n",
       "brazilian        116\n",
       "Name: cuisine, dtype: int64"
      ]
     },
     "execution_count": 19,
     "metadata": {},
     "output_type": "execute_result"
    }
   ],
   "source": [
    "y_test.value_counts()"
   ]
  },
  {
   "cell_type": "markdown",
   "metadata": {},
   "source": [
    "# 4. Pruebas con CountVectorizer y TfidfVectorizer"
   ]
  },
  {
   "cell_type": "code",
   "execution_count": 20,
   "metadata": {},
   "outputs": [
    {
     "data": {
      "text/plain": [
       "20000"
      ]
     },
     "execution_count": 20,
     "metadata": {},
     "output_type": "execute_result"
    }
   ],
   "source": [
    "vec = CountVectorizer(lowercase=True,stop_words='english',token_pattern=r'(?u)\\b\\w\\w\\w+\\b',\n",
    "                       ngram_range=(1,2),max_features=20000)\n",
    "\n",
    "X_train_vec = vec.fit_transform(X_train)\n",
    "X_test_vec = vec.transform(X_test)\n",
    "len(vec.get_feature_names())"
   ]
  },
  {
   "cell_type": "code",
   "execution_count": 21,
   "metadata": {},
   "outputs": [
    {
     "data": {
      "text/plain": [
       "(29784, 20000)"
      ]
     },
     "execution_count": 21,
     "metadata": {},
     "output_type": "execute_result"
    }
   ],
   "source": [
    "X_train_vec.shape"
   ]
  },
  {
   "cell_type": "code",
   "execution_count": 22,
   "metadata": {},
   "outputs": [
    {
     "data": {
      "text/plain": [
       "(9928, 20000)"
      ]
     },
     "execution_count": 22,
     "metadata": {},
     "output_type": "execute_result"
    }
   ],
   "source": [
    "X_test_vec.shape"
   ]
  },
  {
   "cell_type": "code",
   "execution_count": 23,
   "metadata": {},
   "outputs": [
    {
     "data": {
      "text/plain": [
       "20000"
      ]
     },
     "execution_count": 23,
     "metadata": {},
     "output_type": "execute_result"
    }
   ],
   "source": [
    "tfidf = TfidfVectorizer(lowercase=True,stop_words='english',token_pattern=r'(?u)\\b\\w\\w\\w+\\b',\n",
    "                       ngram_range=(1,2),max_features=20000)\n",
    "\n",
    "X_train_tfidf = tfidf.fit_transform(X_train)\n",
    "X_test_tfidf = tfidf.transform(X_test)\n",
    "len(tfidf.get_feature_names())"
   ]
  },
  {
   "cell_type": "code",
   "execution_count": 24,
   "metadata": {},
   "outputs": [
    {
     "data": {
      "text/plain": [
       "(29784, 20000)"
      ]
     },
     "execution_count": 24,
     "metadata": {},
     "output_type": "execute_result"
    }
   ],
   "source": [
    "X_train_tfidf.shape"
   ]
  },
  {
   "cell_type": "code",
   "execution_count": 25,
   "metadata": {},
   "outputs": [
    {
     "data": {
      "text/plain": [
       "(9928, 20000)"
      ]
     },
     "execution_count": 25,
     "metadata": {},
     "output_type": "execute_result"
    }
   ],
   "source": [
    "X_test_tfidf.shape"
   ]
  },
  {
   "cell_type": "code",
   "execution_count": 26,
   "metadata": {},
   "outputs": [],
   "source": [
    "from sklearn.feature_selection import SelectPercentile, f_classif"
   ]
  },
  {
   "cell_type": "code",
   "execution_count": 27,
   "metadata": {},
   "outputs": [
    {
     "data": {
      "text/plain": [
       "(29784, 3000)"
      ]
     },
     "execution_count": 27,
     "metadata": {},
     "output_type": "execute_result"
    }
   ],
   "source": [
    "feat_selector=SelectPercentile(f_classif, percentile=15)\n",
    "feat_selector=feat_selector.fit(X_train_vec, y_train)\n",
    "X_train_vec=feat_selector.transform(X_train_vec)\n",
    "#CHEQUEAR VARIABLES QUE FITEAN Y TRANSFORMAN!!!!!!! \n",
    "X_train_vec.shape"
   ]
  },
  {
   "cell_type": "code",
   "execution_count": 28,
   "metadata": {},
   "outputs": [
    {
     "data": {
      "text/plain": [
       "(29784, 3000)"
      ]
     },
     "execution_count": 28,
     "metadata": {},
     "output_type": "execute_result"
    }
   ],
   "source": [
    "feat_selector=SelectPercentile(f_classif, percentile=15)\n",
    "feat_selector=feat_selector.fit(X_train_tfidf, y_train)\n",
    "X_train_tfidf=feat_selector.transform(X_train_tfidf)\n",
    "X_train_tfidf.shape"
   ]
  },
  {
   "cell_type": "code",
   "execution_count": 29,
   "metadata": {},
   "outputs": [],
   "source": [
    "X_test_vec=feat_selector.transform(X_test_vec)"
   ]
  },
  {
   "cell_type": "code",
   "execution_count": 30,
   "metadata": {},
   "outputs": [],
   "source": [
    "X_test_tfidf=feat_selector.transform(X_test_tfidf)"
   ]
  },
  {
   "cell_type": "code",
   "execution_count": 31,
   "metadata": {},
   "outputs": [],
   "source": [
    "#vec.vocabulary_\n",
    "#tfidf.vocabulary"
   ]
  },
  {
   "cell_type": "markdown",
   "metadata": {},
   "source": [
    "# 5. Pruebas con Logistic Regresion"
   ]
  },
  {
   "cell_type": "code",
   "execution_count": 32,
   "metadata": {},
   "outputs": [
    {
     "name": "stderr",
     "output_type": "stream",
     "text": [
      "C:\\Users\\Noe\\Anaconda3II\\lib\\site-packages\\sklearn\\linear_model\\logistic.py:432: FutureWarning: Default solver will be changed to 'lbfgs' in 0.22. Specify a solver to silence this warning.\n",
      "  FutureWarning)\n",
      "C:\\Users\\Noe\\Anaconda3II\\lib\\site-packages\\sklearn\\linear_model\\logistic.py:469: FutureWarning: Default multi_class will be changed to 'auto' in 0.22. Specify the multi_class option to silence this warning.\n",
      "  \"this warning.\", FutureWarning)\n"
     ]
    },
    {
     "name": "stdout",
     "output_type": "stream",
     "text": [
      "Accuracy sobre Train: 0.8696951383293043\n",
      "Accuracy sobre Test: 0.10505640612409348\n"
     ]
    }
   ],
   "source": [
    "# Modelo Features tratadas con Countvectorizer\n",
    "modelo_LR_vec = LogisticRegression()\n",
    "modelo_LR_vec.fit(X_train_vec, y_train)\n",
    "y_pred_LR_vec = modelo_LR_vec.predict(X_test_vec)\n",
    "\n",
    "print(\"Accuracy sobre Train: {}\".format(accuracy_score(y_train, modelo_LR_vec.predict(X_train_vec))))\n",
    "print(\"Accuracy sobre Test: {}\".format(accuracy_score(y_test, y_pred_LR_vec)))\n",
    "\n"
   ]
  },
  {
   "cell_type": "code",
   "execution_count": 33,
   "metadata": {},
   "outputs": [
    {
     "name": "stdout",
     "output_type": "stream",
     "text": [
      "Accuracy sobre Train: 0.7841794251947354\n",
      "Accuracy sobre Test: 0.7520145044319098\n"
     ]
    }
   ],
   "source": [
    "# Modelo Features tratadas con tfidf\n",
    "\n",
    "modelo_LR_tfidf = LogisticRegression()\n",
    "modelo_LR_tfidf.fit(X_train_tfidf, y_train)\n",
    "y_pred_tfidf = modelo_LR_tfidf.predict(X_test_tfidf)\n",
    "\n",
    "print(\"Accuracy sobre Train: {}\".format(accuracy_score(y_train, modelo_LR_tfidf.predict(X_train_tfidf))))\n",
    "print(\"Accuracy sobre Test: {}\".format(accuracy_score(y_test, y_pred_tfidf)))\n"
   ]
  },
  {
   "cell_type": "markdown",
   "metadata": {},
   "source": [
    "# 6. Búsqueda de los mejores parámetros\n",
    "\n",
    "\n",
    "Se probarán los parámetros del vectorizer:\n",
    " - max_features\n",
    " - ngram_range\n",
    " - stop_words\n",
    " - binary\n",
    " - token_pattern\n",
    " \n",
    "Feature Selection:\n",
    " - Distintos valores de percentil\n",
    " \n",
    "Modelo:\n",
    " - Valores del hiperparámetro C"
   ]
  },
  {
   "cell_type": "markdown",
   "metadata": {},
   "source": [
    "Vamos a hacer pipelines para que ejecute con Random Search y con GridSearch. Si bien uno reemplaza al otro en su uso, es sólo de modo \"experimental\" para apreciar las ventajas y desventajas de uno y otro"
   ]
  },
  {
   "cell_type": "code",
   "execution_count": 34,
   "metadata": {},
   "outputs": [],
   "source": [
    "from sklearn.pipeline import Pipeline\n",
    "\n",
    "pipeline1 = Pipeline([\n",
    "   ('vect', CountVectorizer()), \n",
    "    ('ftr', SelectPercentile()),\n",
    "   ('clf', LogisticRegression()), \n",
    "   ])\n",
    "\n",
    "pipeline2 = Pipeline([ \n",
    "   ('vect', TfidfVectorizer()), \n",
    "   ('ftr', SelectPercentile()),\n",
    "   ('clf', LogisticRegression()),\n",
    "   \n",
    "])\n"
   ]
  },
  {
   "cell_type": "code",
   "execution_count": 35,
   "metadata": {},
   "outputs": [],
   "source": [
    "parameters = {\n",
    "    'vect__max_features': [15000,20000,25000,30000],\n",
    "    'vect__stop_words': ['english'],# None],\n",
    "    'vect__binary': [True,False],\n",
    "    'vect__token_pattern' : [r'(?u)\\b\\w\\w\\w+\\b'],\n",
    "    #'clf__penalty': ['l1', 'l2'],\n",
    "    'clf__class_weight': ['balanced'],\n",
    "    'clf__C': [1, 10, 10000, 1e10],\n",
    "    'ftr__percentile':[10, 15, 20, 25],\n",
    "    'ftr__score_func':[f_classif], \n",
    "}"
   ]
  },
  {
   "cell_type": "code",
   "execution_count": 36,
   "metadata": {},
   "outputs": [],
   "source": [
    "random_search1 = RandomizedSearchCV (pipeline1, parameters,n_iter=5, n_jobs = -1 , verbose = 2 , cv=5)\n",
    "random_search2 = RandomizedSearchCV (pipeline2, parameters,n_iter=5, n_jobs = -1 , verbose = 2 , cv=5)\n"
   ]
  },
  {
   "cell_type": "code",
   "execution_count": 37,
   "metadata": {},
   "outputs": [
    {
     "name": "stdout",
     "output_type": "stream",
     "text": [
      "Performing Randomized Search 1...\n",
      "Fitting 5 folds for each of 5 candidates, totalling 25 fits\n"
     ]
    },
    {
     "name": "stderr",
     "output_type": "stream",
     "text": [
      "[Parallel(n_jobs=-1)]: Using backend LokyBackend with 4 concurrent workers.\n",
      "[Parallel(n_jobs=-1)]: Done  25 out of  25 | elapsed: 16.4min finished\n",
      "C:\\Users\\Noe\\Anaconda3II\\lib\\site-packages\\sklearn\\linear_model\\logistic.py:432: FutureWarning: Default solver will be changed to 'lbfgs' in 0.22. Specify a solver to silence this warning.\n",
      "  FutureWarning)\n",
      "C:\\Users\\Noe\\Anaconda3II\\lib\\site-packages\\sklearn\\linear_model\\logistic.py:469: FutureWarning: Default multi_class will be changed to 'auto' in 0.22. Specify the multi_class option to silence this warning.\n",
      "  \"this warning.\", FutureWarning)\n"
     ]
    },
    {
     "name": "stdout",
     "output_type": "stream",
     "text": [
      "Best score: 0.751\n",
      "Best parameters set:\n",
      "\t clf__C: 1\n",
      "\t clf__class_weight: 'balanced'\n",
      "\t ftr__percentile: 25\n",
      "\t ftr__score_func: <function f_classif at 0x000000245C23BA60>\n",
      "\t vect__binary: False\n",
      "\t vect__max_features: 30000\n",
      "\t vect__stop_words: 'english'\n",
      "\t vect__token_pattern: '(?u)\\\\b\\\\w\\\\w\\\\w+\\\\b'\n"
     ]
    }
   ],
   "source": [
    "print(\"Performing Randomized Search 1...\") \n",
    "random_search1.fit(X_train, y_train)\n",
    "\n",
    "print(\"Best score: %0.3f\" % random_search1.best_score_) \n",
    "print(\"Best parameters set:\" )\n",
    "best_parameters = random_search1.best_estimator_.get_params()\n",
    "for param_name in sorted (parameters . keys()): \n",
    "                    print(\"\\t %s: %r\" % (param_name, best_parameters[param_name])) "
   ]
  },
  {
   "cell_type": "code",
   "execution_count": 38,
   "metadata": {},
   "outputs": [
    {
     "name": "stdout",
     "output_type": "stream",
     "text": [
      "Performing Randomized Search 2...\n",
      "Fitting 5 folds for each of 5 candidates, totalling 25 fits\n"
     ]
    },
    {
     "name": "stderr",
     "output_type": "stream",
     "text": [
      "[Parallel(n_jobs=-1)]: Using backend LokyBackend with 4 concurrent workers.\n",
      "[Parallel(n_jobs=-1)]: Done  25 out of  25 | elapsed:  3.8min finished\n",
      "C:\\Users\\Noe\\Anaconda3II\\lib\\site-packages\\sklearn\\linear_model\\logistic.py:432: FutureWarning: Default solver will be changed to 'lbfgs' in 0.22. Specify a solver to silence this warning.\n",
      "  FutureWarning)\n",
      "C:\\Users\\Noe\\Anaconda3II\\lib\\site-packages\\sklearn\\linear_model\\logistic.py:469: FutureWarning: Default multi_class will be changed to 'auto' in 0.22. Specify the multi_class option to silence this warning.\n",
      "  \"this warning.\", FutureWarning)\n"
     ]
    },
    {
     "name": "stdout",
     "output_type": "stream",
     "text": [
      "Best score: 0.748\n",
      "Best parameters set:\n",
      "\t clf__C: 10\n",
      "\t clf__class_weight: 'balanced'\n",
      "\t ftr__percentile: 20\n",
      "\t ftr__score_func: <function f_classif at 0x000000245C23BA60>\n",
      "\t vect__binary: True\n",
      "\t vect__max_features: 15000\n",
      "\t vect__stop_words: 'english'\n",
      "\t vect__token_pattern: '(?u)\\\\b\\\\w\\\\w\\\\w+\\\\b'\n"
     ]
    }
   ],
   "source": [
    "print(\"Performing Randomized Search 2...\") \n",
    "random_search2.fit(X_train, y_train)\n",
    "\n",
    "print(\"Best score: %0.3f\" % random_search2.best_score_) \n",
    "print(\"Best parameters set:\" )\n",
    "best_parameters = random_search2.best_estimator_.get_params()\n",
    "for param_name in sorted (parameters . keys()): \n",
    "                    print(\"\\t %s: %r\" % (param_name, best_parameters[param_name])) "
   ]
  },
  {
   "cell_type": "markdown",
   "metadata": {},
   "source": [
    "Vamos a correr ahora una Grilla con parametros mas cercanos de acuerdo a los resultados del Random y seguimos probando con algunos hiperparámetros adicionales del Countvectorizer y TfidfVectorizer\n",
    "Confiamos que el score se optimizará con C=>10 features=>25000, binarizando"
   ]
  },
  {
   "cell_type": "code",
   "execution_count": 39,
   "metadata": {},
   "outputs": [],
   "source": [
    "parameters2 = {\n",
    "    'vect__max_features': [20000, 25000, 30000],\n",
    "    'vect__ngram_range': ((1, 1), (1, 2)),\n",
    "    'vect__stop_words': ['english'], # None],\n",
    "    'vect__binary': [True],#False],\n",
    "    'vect__token_pattern' : [r'(?u)\\b\\w\\w\\w+\\b'],\n",
    "    'clf__class_weight': ['balanced'],\n",
    "    #'clf__penalty': ['l2'],\n",
    "    'clf__C': [10, 10000, 1e10],\n",
    "    'ftr__percentile':[15, 20, 25],\n",
    "    'ftr__score_func':[f_classif], \n",
    "}\n",
    "\n",
    "  "
   ]
  },
  {
   "cell_type": "code",
   "execution_count": 40,
   "metadata": {},
   "outputs": [],
   "source": [
    "grid_search1 = GridSearchCV (pipeline1, parameters2, n_jobs = 4 , verbose = 2 , cv=5)\n",
    "grid_search2 = GridSearchCV (pipeline2, parameters2, n_jobs = 4 , verbose = 2 , cv=5)\n"
   ]
  },
  {
   "cell_type": "code",
   "execution_count": 41,
   "metadata": {},
   "outputs": [
    {
     "name": "stdout",
     "output_type": "stream",
     "text": [
      "Performing grid search1...\n",
      "Fitting 5 folds for each of 54 candidates, totalling 270 fits\n"
     ]
    },
    {
     "name": "stderr",
     "output_type": "stream",
     "text": [
      "[Parallel(n_jobs=4)]: Using backend LokyBackend with 4 concurrent workers.\n",
      "[Parallel(n_jobs=4)]: Done  33 tasks      | elapsed:  8.6min\n",
      "[Parallel(n_jobs=4)]: Done 154 tasks      | elapsed: 89.9min\n",
      "[Parallel(n_jobs=4)]: Done 270 out of 270 | elapsed: 193.0min finished\n",
      "C:\\Users\\Noe\\Anaconda3II\\lib\\site-packages\\sklearn\\linear_model\\logistic.py:432: FutureWarning: Default solver will be changed to 'lbfgs' in 0.22. Specify a solver to silence this warning.\n",
      "  FutureWarning)\n",
      "C:\\Users\\Noe\\Anaconda3II\\lib\\site-packages\\sklearn\\linear_model\\logistic.py:469: FutureWarning: Default multi_class will be changed to 'auto' in 0.22. Specify the multi_class option to silence this warning.\n",
      "  \"this warning.\", FutureWarning)\n"
     ]
    },
    {
     "name": "stdout",
     "output_type": "stream",
     "text": [
      "Best score LR-CountVectorizer: 0.749\n",
      "Best parameters set:\n",
      "\t clf__C: 10\n",
      "\t clf__class_weight: 'balanced'\n",
      "\t ftr__percentile: 25\n",
      "\t ftr__score_func: <function f_classif at 0x000000245C23BA60>\n",
      "\t vect__binary: True\n",
      "\t vect__max_features: 30000\n",
      "\t vect__ngram_range: (1, 2)\n",
      "\t vect__stop_words: 'english'\n",
      "\t vect__token_pattern: '(?u)\\\\b\\\\w\\\\w\\\\w+\\\\b'\n"
     ]
    }
   ],
   "source": [
    "print(\"Performing grid search1...\") \n",
    "grid_search1.fit(X_train, y_train)\n",
    "\n",
    "print(\"Best score LR-CountVectorizer: %0.3f\" % grid_search1.best_score_) \n",
    "print(\"Best parameters set:\" )\n",
    "best_parameters = grid_search1.best_estimator_.get_params()\n",
    "for param_name in sorted (parameters2 .keys()): \n",
    "                    print(\"\\t %s: %r\" % (param_name, best_parameters[param_name])) "
   ]
  },
  {
   "cell_type": "code",
   "execution_count": 42,
   "metadata": {},
   "outputs": [
    {
     "name": "stdout",
     "output_type": "stream",
     "text": [
      "Performing grid search2...\n",
      "Fitting 5 folds for each of 54 candidates, totalling 270 fits\n"
     ]
    },
    {
     "name": "stderr",
     "output_type": "stream",
     "text": [
      "[Parallel(n_jobs=4)]: Using backend LokyBackend with 4 concurrent workers.\n",
      "[Parallel(n_jobs=4)]: Done  33 tasks      | elapsed:  2.5min\n",
      "[Parallel(n_jobs=4)]: Done 154 tasks      | elapsed: 27.3min\n",
      "[Parallel(n_jobs=4)]: Done 270 out of 270 | elapsed: 83.8min finished\n",
      "C:\\Users\\Noe\\Anaconda3II\\lib\\site-packages\\sklearn\\linear_model\\logistic.py:432: FutureWarning: Default solver will be changed to 'lbfgs' in 0.22. Specify a solver to silence this warning.\n",
      "  FutureWarning)\n",
      "C:\\Users\\Noe\\Anaconda3II\\lib\\site-packages\\sklearn\\linear_model\\logistic.py:469: FutureWarning: Default multi_class will be changed to 'auto' in 0.22. Specify the multi_class option to silence this warning.\n",
      "  \"this warning.\", FutureWarning)\n"
     ]
    },
    {
     "name": "stdout",
     "output_type": "stream",
     "text": [
      "Best score LR-tfidf Vectorizer: 0.775\n",
      "Best parameters set:\n",
      "\t clf__C: 10\n",
      "\t clf__class_weight: 'balanced'\n",
      "\t ftr__percentile: 25\n",
      "\t ftr__score_func: <function f_classif at 0x000000245C23BA60>\n",
      "\t vect__binary: True\n",
      "\t vect__max_features: 30000\n",
      "\t vect__ngram_range: (1, 2)\n",
      "\t vect__stop_words: 'english'\n",
      "\t vect__token_pattern: '(?u)\\\\b\\\\w\\\\w\\\\w+\\\\b'\n"
     ]
    }
   ],
   "source": [
    "print(\"Performing grid search2...\") \n",
    "grid_search2.fit(X_train, y_train)\n",
    "\n",
    "print(\"Best score LR-tfidf Vectorizer: %0.3f\" % grid_search2.best_score_) \n",
    "print(\"Best parameters set:\" )\n",
    "best_parameters = grid_search2.best_estimator_.get_params()\n",
    "for param_name in sorted (parameters2 .keys()): \n",
    "                    print(\"\\t %s: %r\" % (param_name, best_parameters[param_name])) "
   ]
  },
  {
   "cell_type": "code",
   "execution_count": 43,
   "metadata": {},
   "outputs": [
    {
     "data": {
      "text/plain": [
       "Pipeline(memory=None,\n",
       "         steps=[('vect',\n",
       "                 TfidfVectorizer(analyzer='word', binary=True,\n",
       "                                 decode_error='strict',\n",
       "                                 dtype=<class 'numpy.float64'>,\n",
       "                                 encoding='utf-8', input='content',\n",
       "                                 lowercase=True, max_df=1.0, max_features=30000,\n",
       "                                 min_df=1, ngram_range=(1, 2), norm='l2',\n",
       "                                 preprocessor=None, smooth_idf=True,\n",
       "                                 stop_words='english', strip_accents=None,\n",
       "                                 sublinear_tf=False,\n",
       "                                 token_patte...\n",
       "                ('ftr',\n",
       "                 SelectPercentile(percentile=25,\n",
       "                                  score_func=<function f_classif at 0x000000245C23BA60>)),\n",
       "                ('clf',\n",
       "                 LogisticRegression(C=10, class_weight='balanced', dual=False,\n",
       "                                    fit_intercept=True, intercept_scaling=1,\n",
       "                                    l1_ratio=None, max_iter=100,\n",
       "                                    multi_class='warn', n_jobs=None,\n",
       "                                    penalty='l2', random_state=None,\n",
       "                                    solver='warn', tol=0.0001, verbose=0,\n",
       "                                    warm_start=False))],\n",
       "         verbose=False)"
      ]
     },
     "execution_count": 43,
     "metadata": {},
     "output_type": "execute_result"
    }
   ],
   "source": [
    "grid_search2.best_estimator_"
   ]
  },
  {
   "cell_type": "code",
   "execution_count": 44,
   "metadata": {},
   "outputs": [
    {
     "name": "stdout",
     "output_type": "stream",
     "text": [
      "Pipeline(memory=None,\n",
      "         steps=[('vect',\n",
      "                 TfidfVectorizer(analyzer='word', binary=True,\n",
      "                                 decode_error='strict',\n",
      "                                 dtype=<class 'numpy.float64'>,\n",
      "                                 encoding='utf-8', input='content',\n",
      "                                 lowercase=True, max_df=1.0, max_features=30000,\n",
      "                                 min_df=1, ngram_range=(1, 2), norm='l2',\n",
      "                                 preprocessor=None, smooth_idf=True,\n",
      "                                 stop_words='english', strip_accents=None,\n",
      "                                 sublinear_tf=False,\n",
      "                                 token_patte...\n",
      "                ('ftr',\n",
      "                 SelectPercentile(percentile=25,\n",
      "                                  score_func=<function f_classif at 0x000000245C23BA60>)),\n",
      "                ('clf',\n",
      "                 LogisticRegression(C=10, class_weight='balanced', dual=False,\n",
      "                                    fit_intercept=True, intercept_scaling=1,\n",
      "                                    l1_ratio=None, max_iter=100,\n",
      "                                    multi_class='warn', n_jobs=None,\n",
      "                                    penalty='l2', random_state=None,\n",
      "                                    solver='warn', tol=0.0001, verbose=0,\n",
      "                                    warm_start=False))],\n",
      "         verbose=False)\n",
      "0.7751477303250067\n",
      "{'clf__C': 10, 'clf__class_weight': 'balanced', 'ftr__percentile': 25, 'ftr__score_func': <function f_classif at 0x000000245C23BA60>, 'vect__binary': True, 'vect__max_features': 30000, 'vect__ngram_range': (1, 2), 'vect__stop_words': 'english', 'vect__token_pattern': '(?u)\\\\b\\\\w\\\\w\\\\w+\\\\b'}\n"
     ]
    }
   ],
   "source": [
    "print(grid_search2.best_estimator_)\n",
    "print(grid_search2.best_score_)\n",
    "print(grid_search2.best_params_)"
   ]
  },
  {
   "cell_type": "code",
   "execution_count": 45,
   "metadata": {},
   "outputs": [
    {
     "name": "stdout",
     "output_type": "stream",
     "text": [
      "True 30000\n",
      "(1, 2) english\n",
      "(?u)\\b\\w\\w\\w+\\b\n"
     ]
    }
   ],
   "source": [
    "print(grid_search2.best_params_['vect__binary'],grid_search2.best_params_['vect__max_features'])\n",
    "print(grid_search2.best_params_['vect__ngram_range'],grid_search2.best_params_['vect__stop_words'])\n",
    "print(grid_search2.best_params_['vect__token_pattern'])"
   ]
  },
  {
   "cell_type": "code",
   "execution_count": 46,
   "metadata": {},
   "outputs": [],
   "source": [
    "pipeline_best = Pipeline([\n",
    "   ('vect', TfidfVectorizer(binary=grid_search2.best_params_['vect__binary'],\n",
    "                            max_features=grid_search2.best_params_['vect__max_features'],\n",
    "                            ngram_range=grid_search2.best_params_['vect__ngram_range'],\n",
    "                            stop_words=grid_search2.best_params_['vect__stop_words'],\n",
    "                            token_pattern=grid_search2.best_params_['vect__token_pattern'])),\n",
    "    ('ftr', SelectPercentile(percentile=grid_search2.best_params_['ftr__percentile'],\n",
    "                            score_func = grid_search2.best_params_[ 'ftr__score_func'])),\n",
    "    ('clf', LogisticRegression(C=grid_search2.best_params_['clf__C'],\n",
    "                             class_weight=grid_search2.best_params_['clf__class_weight']))\n",
    "])\n"
   ]
  },
  {
   "cell_type": "code",
   "execution_count": 47,
   "metadata": {},
   "outputs": [
    {
     "name": "stderr",
     "output_type": "stream",
     "text": [
      "C:\\Users\\Noe\\Anaconda3II\\lib\\site-packages\\sklearn\\linear_model\\logistic.py:432: FutureWarning: Default solver will be changed to 'lbfgs' in 0.22. Specify a solver to silence this warning.\n",
      "  FutureWarning)\n",
      "C:\\Users\\Noe\\Anaconda3II\\lib\\site-packages\\sklearn\\linear_model\\logistic.py:469: FutureWarning: Default multi_class will be changed to 'auto' in 0.22. Specify the multi_class option to silence this warning.\n",
      "  \"this warning.\", FutureWarning)\n"
     ]
    },
    {
     "name": "stdout",
     "output_type": "stream",
     "text": [
      "Accuracy sobre Test: 0.7744762288477035\n"
     ]
    }
   ],
   "source": [
    "pipeline_best.fit(X_train,y_train)\n",
    "pred=pipeline_best.predict(X_test)\n",
    "\n",
    "print(\"Accuracy sobre Test: {}\".format(accuracy_score(y_test, pred)))"
   ]
  },
  {
   "cell_type": "code",
   "execution_count": 48,
   "metadata": {},
   "outputs": [
    {
     "name": "stderr",
     "output_type": "stream",
     "text": [
      "C:\\Users\\Noe\\Anaconda3II\\lib\\site-packages\\sklearn\\linear_model\\logistic.py:432: FutureWarning: Default solver will be changed to 'lbfgs' in 0.22. Specify a solver to silence this warning.\n",
      "  FutureWarning)\n",
      "C:\\Users\\Noe\\Anaconda3II\\lib\\site-packages\\sklearn\\linear_model\\logistic.py:469: FutureWarning: Default multi_class will be changed to 'auto' in 0.22. Specify the multi_class option to silence this warning.\n",
      "  \"this warning.\", FutureWarning)\n"
     ]
    },
    {
     "name": "stdout",
     "output_type": "stream",
     "text": [
      "Accuracy sobre Test: 0.7744762288477035\n"
     ]
    }
   ],
   "source": [
    "grid_search2.best_estimator_.fit(X_train,y_train)\n",
    "y_pred=grid_search2.best_estimator_.predict(X_test)\n",
    "\n",
    "print(\"Accuracy sobre Test: {}\".format(accuracy_score(y_test, y_pred)))"
   ]
  },
  {
   "cell_type": "code",
   "execution_count": 49,
   "metadata": {},
   "outputs": [
    {
     "data": {
      "text/plain": [
       "Index(['italian', 'mexican', 'southern_us', 'indian', 'chinese', 'french',\n",
       "       'cajun_creole', 'thai', 'japanese', 'greek', 'spanish', 'korean',\n",
       "       'vietnamese', 'moroccan', 'british', 'filipino', 'irish', 'jamaican',\n",
       "       'russian', 'brazilian'],\n",
       "      dtype='object')"
      ]
     },
     "execution_count": 49,
     "metadata": {},
     "output_type": "execute_result"
    }
   ],
   "source": [
    "cuisines = data_train['cuisine'].value_counts().index.copy()\n",
    "cuisines\n",
    "\n",
    "#y_test.value_counts().index.copy()"
   ]
  },
  {
   "cell_type": "code",
   "execution_count": 50,
   "metadata": {},
   "outputs": [
    {
     "data": {
      "text/plain": [
       "Index(['italian', 'mexican', 'southern_us', 'indian', 'chinese', 'french',\n",
       "       'cajun_creole', 'thai', 'japanese', 'greek', 'spanish', 'korean',\n",
       "       'vietnamese', 'moroccan', 'british', 'filipino', 'irish', 'jamaican',\n",
       "       'russian', 'brazilian'],\n",
       "      dtype='object')"
      ]
     },
     "execution_count": 50,
     "metadata": {},
     "output_type": "execute_result"
    }
   ],
   "source": [
    "y_test.value_counts().index.copy()"
   ]
  },
  {
   "cell_type": "code",
   "execution_count": 51,
   "metadata": {},
   "outputs": [
    {
     "data": {
      "image/png": "[encoded data removed]",
      "text/plain": [
       "<Figure size 1080x1080 with 1 Axes>"
      ]
     },
     "metadata": {
      "needs_background": "light"
     },
     "output_type": "display_data"
    }
   ],
   "source": [
    "from sklearn.utils.multiclass import unique_labels\n",
    "\n",
    "plt.figure(figsize=(15, 15))\n",
    "classes = unique_labels(y_test, y_pred)\n",
    "plt.title(\"confusion matrix\")\n",
    "\n",
    "mat = confusion_matrix(y_test, y_pred)\n",
    "ax=sns.heatmap(mat, square=True, annot=True, fmt='d', cbar=False)\n",
    "sns.set(font_scale=2) \n",
    "\n",
    "plt.xlabel('Etiquetas predichas')\n",
    "plt.ylabel('Etiquetas verdaderas')\n",
    "ax.set_xticklabels(classes,rotation=90)\n",
    "ax.set_yticklabels(classes,rotation=0);\n",
    "\n",
    "plt.savefig('LR Final sin scaler.jpg', dpi=300)\n",
    "\n",
    "# #117 brazil\n",
    "# #201 british\n"
   ]
  },
  {
   "cell_type": "markdown",
   "metadata": {},
   "source": [
    "#explicacion para eliminar\n",
    "En el horizontal están las etiquetas verdaderas = hay 116 registros de cocina brasilera en el Test-set y es el support\n",
    "en la vertical, esta todo lo que predijo como brasilero y su origen, son un total de 75 datos.\n",
    "los TP son 59 datos\n",
    "\n",
    "\n",
    "59/75 es el precision (todo lo que se predijo bien y sobre la prediccion de brasilero)\n",
    "59/117 es el recall - los datos que acertó, sobre la totalidad de datos brasileros\n"
   ]
  },
  {
   "cell_type": "code",
   "execution_count": 52,
   "metadata": {},
   "outputs": [],
   "source": [
    "from sklearn.metrics import classification_report\n"
   ]
  },
  {
   "cell_type": "code",
   "execution_count": 53,
   "metadata": {},
   "outputs": [
    {
     "name": "stdout",
     "output_type": "stream",
     "text": [
      "              precision    recall  f1-score   support\n",
      "\n",
      "   brazilian       0.61      0.59      0.60       116\n",
      "     british       0.45      0.52      0.48       201\n",
      "cajun_creole       0.71      0.74      0.73       386\n",
      "     chinese       0.81      0.83      0.82       668\n",
      "    filipino       0.62      0.60      0.61       189\n",
      "      french       0.58      0.64      0.61       661\n",
      "       greek       0.71      0.75      0.73       293\n",
      "      indian       0.87      0.89      0.88       748\n",
      "       irish       0.50      0.53      0.52       167\n",
      "     italian       0.87      0.81      0.84      1958\n",
      "    jamaican       0.75      0.69      0.72       131\n",
      "    japanese       0.80      0.71      0.75       355\n",
      "      korean       0.75      0.81      0.78       208\n",
      "     mexican       0.94      0.91      0.92      1606\n",
      "    moroccan       0.75      0.84      0.79       205\n",
      "     russian       0.42      0.52      0.46       122\n",
      " southern_us       0.76      0.74      0.75      1079\n",
      "     spanish       0.51      0.57      0.54       246\n",
      "        thai       0.81      0.76      0.78       383\n",
      "  vietnamese       0.62      0.65      0.63       206\n",
      "\n",
      "    accuracy                           0.77      9928\n",
      "   macro avg       0.69      0.71      0.70      9928\n",
      "weighted avg       0.78      0.77      0.78      9928\n",
      "\n"
     ]
    }
   ],
   "source": [
    "from sklearn.metrics import classification_report\n",
    "print(classification_report(y_test, y_pred))"
   ]
  },
  {
   "cell_type": "code",
   "execution_count": null,
   "metadata": {},
   "outputs": [],
   "source": []
  },
  {
   "cell_type": "code",
   "execution_count": null,
   "metadata": {},
   "outputs": [],
   "source": []
  },
  {
   "cell_type": "code",
   "execution_count": null,
   "metadata": {},
   "outputs": [],
   "source": []
  },
  {
   "cell_type": "code",
   "execution_count": null,
   "metadata": {},
   "outputs": [],
   "source": []
  }
 ],
 "metadata": {
  "kernelspec": {
   "display_name": "Python 3",
   "language": "python",
   "name": "python3"
  },
  "language_info": {
   "codemirror_mode": {
    "name": "ipython",
    "version": 3
   },
   "file_extension": ".py",
   "mimetype": "text/x-python",
   "name": "python",
   "nbconvert_exporter": "python",
   "pygments_lexer": "ipython3",
   "version": "3.7.3"
  }
 },
 "nbformat": 4,
 "nbformat_minor": 2
}
