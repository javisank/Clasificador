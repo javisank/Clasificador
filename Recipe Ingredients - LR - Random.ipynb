{
 "cells": [
  {
   "cell_type": "markdown",
   "metadata": {},
   "source": [
    "# 1. Importar librerías"
   ]
  },
  {
   "cell_type": "code",
   "execution_count": 1,
   "metadata": {},
   "outputs": [],
   "source": [
    "import numpy as np\n",
    "import pandas as pd\n",
    "import matplotlib.pyplot as plt\n",
    "import seaborn as sns\n",
    "\n",
    "from sklearn.model_selection import train_test_split\n",
    "from sklearn import linear_model \n",
    "from sklearn.linear_model import LogisticRegression \n",
    "from sklearn.model_selection import RandomizedSearchCV\n",
    "from sklearn.model_selection import GridSearchCV\n",
    "from sklearn.feature_selection import SelectPercentile, f_classif\n",
    "from sklearn.metrics import confusion_matrix,accuracy_score,classification_report\n",
    "from sklearn.feature_extraction.text import TfidfVectorizer,CountVectorizer\n",
    "from sklearn.pipeline import Pipeline\n",
    "from sklearn.utils.multiclass import unique_labels\n",
    "\n"
   ]
  },
  {
   "cell_type": "markdown",
   "metadata": {},
   "source": [
    "# 2. Importar set de entrenamiento"
   ]
  },
  {
   "cell_type": "code",
   "execution_count": 2,
   "metadata": {
    "scrolled": false
   },
   "outputs": [
    {
     "data": {
      "text/html": [
       "<div>\n",
       "<style scoped>\n",
       "    .dataframe tbody tr th:only-of-type {\n",
       "        vertical-align: middle;\n",
       "    }\n",
       "\n",
       "    .dataframe tbody tr th {\n",
       "        vertical-align: top;\n",
       "    }\n",
       "\n",
       "    .dataframe thead th {\n",
       "        text-align: right;\n",
       "    }\n",
       "</style>\n",
       "<table border=\"1\" class=\"dataframe\">\n",
       "  <thead>\n",
       "    <tr style=\"text-align: right;\">\n",
       "      <th></th>\n",
       "      <th>cuisine</th>\n",
       "      <th>id</th>\n",
       "      <th>ingredients</th>\n",
       "    </tr>\n",
       "  </thead>\n",
       "  <tbody>\n",
       "    <tr>\n",
       "      <th>0</th>\n",
       "      <td>greek</td>\n",
       "      <td>10259</td>\n",
       "      <td>[romaine lettuce, black olives, grape tomatoes...</td>\n",
       "    </tr>\n",
       "    <tr>\n",
       "      <th>1</th>\n",
       "      <td>southern_us</td>\n",
       "      <td>25693</td>\n",
       "      <td>[plain flour, ground pepper, salt, tomatoes, g...</td>\n",
       "    </tr>\n",
       "    <tr>\n",
       "      <th>2</th>\n",
       "      <td>filipino</td>\n",
       "      <td>20130</td>\n",
       "      <td>[eggs, pepper, salt, mayonaise, cooking oil, g...</td>\n",
       "    </tr>\n",
       "    <tr>\n",
       "      <th>3</th>\n",
       "      <td>indian</td>\n",
       "      <td>22213</td>\n",
       "      <td>[water, vegetable oil, wheat, salt]</td>\n",
       "    </tr>\n",
       "    <tr>\n",
       "      <th>4</th>\n",
       "      <td>indian</td>\n",
       "      <td>13162</td>\n",
       "      <td>[black pepper, shallots, cornflour, cayenne pe...</td>\n",
       "    </tr>\n",
       "  </tbody>\n",
       "</table>\n",
       "</div>"
      ],
      "text/plain": [
       "       cuisine     id                                        ingredients\n",
       "0        greek  10259  [romaine lettuce, black olives, grape tomatoes...\n",
       "1  southern_us  25693  [plain flour, ground pepper, salt, tomatoes, g...\n",
       "2     filipino  20130  [eggs, pepper, salt, mayonaise, cooking oil, g...\n",
       "3       indian  22213                [water, vegetable oil, wheat, salt]\n",
       "4       indian  13162  [black pepper, shallots, cornflour, cayenne pe..."
      ]
     },
     "execution_count": 2,
     "metadata": {},
     "output_type": "execute_result"
    }
   ],
   "source": [
    "data_train = pd.read_json('train.json')\n",
    "data_train.head()"
   ]
  },
  {
   "cell_type": "code",
   "execution_count": 3,
   "metadata": {},
   "outputs": [
    {
     "data": {
      "text/plain": [
       "italian         7838\n",
       "mexican         6438\n",
       "southern_us     4320\n",
       "indian          3003\n",
       "chinese         2673\n",
       "french          2646\n",
       "cajun_creole    1546\n",
       "thai            1539\n",
       "japanese        1423\n",
       "greek           1175\n",
       "spanish          989\n",
       "korean           830\n",
       "vietnamese       825\n",
       "moroccan         821\n",
       "british          804\n",
       "filipino         755\n",
       "irish            667\n",
       "jamaican         526\n",
       "russian          489\n",
       "brazilian        467\n",
       "Name: cuisine, dtype: int64"
      ]
     },
     "execution_count": 3,
     "metadata": {},
     "output_type": "execute_result"
    }
   ],
   "source": [
    "data_train['cuisine'].value_counts()"
   ]
  },
  {
   "cell_type": "code",
   "execution_count": 4,
   "metadata": {
    "scrolled": true
   },
   "outputs": [
    {
     "data": {
      "text/plain": [
       "list"
      ]
     },
     "execution_count": 4,
     "metadata": {},
     "output_type": "execute_result"
    }
   ],
   "source": [
    "type(data_train['ingredients'][0])"
   ]
  },
  {
   "cell_type": "markdown",
   "metadata": {},
   "source": [
    "Primero se necesita una columna con un string de ingredientes."
   ]
  },
  {
   "cell_type": "code",
   "execution_count": 5,
   "metadata": {},
   "outputs": [],
   "source": [
    "#data_train['ingr_lst'] = data_train['ingredients'].apply(lambda x: [item.replace(' ','') for item in x])"
   ]
  },
  {
   "cell_type": "code",
   "execution_count": 6,
   "metadata": {},
   "outputs": [
    {
     "data": {
      "text/html": [
       "<div>\n",
       "<style scoped>\n",
       "    .dataframe tbody tr th:only-of-type {\n",
       "        vertical-align: middle;\n",
       "    }\n",
       "\n",
       "    .dataframe tbody tr th {\n",
       "        vertical-align: top;\n",
       "    }\n",
       "\n",
       "    .dataframe thead th {\n",
       "        text-align: right;\n",
       "    }\n",
       "</style>\n",
       "<table border=\"1\" class=\"dataframe\">\n",
       "  <thead>\n",
       "    <tr style=\"text-align: right;\">\n",
       "      <th></th>\n",
       "      <th>cuisine</th>\n",
       "      <th>id</th>\n",
       "      <th>ingredients</th>\n",
       "      <th>ingr_str</th>\n",
       "    </tr>\n",
       "  </thead>\n",
       "  <tbody>\n",
       "    <tr>\n",
       "      <th>0</th>\n",
       "      <td>greek</td>\n",
       "      <td>10259</td>\n",
       "      <td>[romaine lettuce, black olives, grape tomatoes...</td>\n",
       "      <td>romaine lettuce black olives grape tomatoes ga...</td>\n",
       "    </tr>\n",
       "    <tr>\n",
       "      <th>1</th>\n",
       "      <td>southern_us</td>\n",
       "      <td>25693</td>\n",
       "      <td>[plain flour, ground pepper, salt, tomatoes, g...</td>\n",
       "      <td>plain flour ground pepper salt tomatoes ground...</td>\n",
       "    </tr>\n",
       "    <tr>\n",
       "      <th>2</th>\n",
       "      <td>filipino</td>\n",
       "      <td>20130</td>\n",
       "      <td>[eggs, pepper, salt, mayonaise, cooking oil, g...</td>\n",
       "      <td>eggs pepper salt mayonaise cooking oil green c...</td>\n",
       "    </tr>\n",
       "    <tr>\n",
       "      <th>3</th>\n",
       "      <td>indian</td>\n",
       "      <td>22213</td>\n",
       "      <td>[water, vegetable oil, wheat, salt]</td>\n",
       "      <td>water vegetable oil wheat salt</td>\n",
       "    </tr>\n",
       "    <tr>\n",
       "      <th>4</th>\n",
       "      <td>indian</td>\n",
       "      <td>13162</td>\n",
       "      <td>[black pepper, shallots, cornflour, cayenne pe...</td>\n",
       "      <td>black pepper shallots cornflour cayenne pepper...</td>\n",
       "    </tr>\n",
       "  </tbody>\n",
       "</table>\n",
       "</div>"
      ],
      "text/plain": [
       "       cuisine     id                                        ingredients  \\\n",
       "0        greek  10259  [romaine lettuce, black olives, grape tomatoes...   \n",
       "1  southern_us  25693  [plain flour, ground pepper, salt, tomatoes, g...   \n",
       "2     filipino  20130  [eggs, pepper, salt, mayonaise, cooking oil, g...   \n",
       "3       indian  22213                [water, vegetable oil, wheat, salt]   \n",
       "4       indian  13162  [black pepper, shallots, cornflour, cayenne pe...   \n",
       "\n",
       "                                            ingr_str  \n",
       "0  romaine lettuce black olives grape tomatoes ga...  \n",
       "1  plain flour ground pepper salt tomatoes ground...  \n",
       "2  eggs pepper salt mayonaise cooking oil green c...  \n",
       "3                     water vegetable oil wheat salt  \n",
       "4  black pepper shallots cornflour cayenne pepper...  "
      ]
     },
     "execution_count": 6,
     "metadata": {},
     "output_type": "execute_result"
    }
   ],
   "source": [
    "data_train['ingr_str'] = data_train['ingredients'].apply(lambda x: ' '.join(x))\n",
    "data_train.head()"
   ]
  },
  {
   "cell_type": "code",
   "execution_count": 7,
   "metadata": {},
   "outputs": [],
   "source": [
    "# data_train['ingr_str2'] = data_train['ingredients'].apply(lambda x: ' '.join(x))\n",
    "# data_train.head()"
   ]
  },
  {
   "cell_type": "code",
   "execution_count": 8,
   "metadata": {
    "scrolled": true
   },
   "outputs": [],
   "source": [
    "data_train['cant_ingr'] = data_train['ingredients'].str.len()\n",
    "# data_train.head()"
   ]
  },
  {
   "cell_type": "markdown",
   "metadata": {},
   "source": [
    " Vamos a eliminar las recetas vistas en el EDA que tienen sólo 1 ingrediente y aquellas mayores a 30"
   ]
  },
  {
   "cell_type": "code",
   "execution_count": 9,
   "metadata": {},
   "outputs": [],
   "source": [
    "data_train.drop(index=data_train.loc[data_train['cant_ingr']>30].index, inplace=True)"
   ]
  },
  {
   "cell_type": "code",
   "execution_count": 10,
   "metadata": {},
   "outputs": [],
   "source": [
    "data_train.drop(index=data_train.loc[data_train['cant_ingr']<2].index, inplace=True)"
   ]
  },
  {
   "cell_type": "code",
   "execution_count": 11,
   "metadata": {},
   "outputs": [
    {
     "data": {
      "text/html": [
       "<div>\n",
       "<style scoped>\n",
       "    .dataframe tbody tr th:only-of-type {\n",
       "        vertical-align: middle;\n",
       "    }\n",
       "\n",
       "    .dataframe tbody tr th {\n",
       "        vertical-align: top;\n",
       "    }\n",
       "\n",
       "    .dataframe thead th {\n",
       "        text-align: right;\n",
       "    }\n",
       "</style>\n",
       "<table border=\"1\" class=\"dataframe\">\n",
       "  <thead>\n",
       "    <tr style=\"text-align: right;\">\n",
       "      <th></th>\n",
       "      <th>cuisine</th>\n",
       "      <th>id</th>\n",
       "      <th>ingredients</th>\n",
       "      <th>ingr_str</th>\n",
       "      <th>cant_ingr</th>\n",
       "    </tr>\n",
       "  </thead>\n",
       "  <tbody>\n",
       "    <tr>\n",
       "      <th>0</th>\n",
       "      <td>greek</td>\n",
       "      <td>10259</td>\n",
       "      <td>[romaine lettuce, black olives, grape tomatoes...</td>\n",
       "      <td>romaine lettuce black olives grape tomatoes ga...</td>\n",
       "      <td>9</td>\n",
       "    </tr>\n",
       "    <tr>\n",
       "      <th>1</th>\n",
       "      <td>southern_us</td>\n",
       "      <td>25693</td>\n",
       "      <td>[plain flour, ground pepper, salt, tomatoes, g...</td>\n",
       "      <td>plain flour ground pepper salt tomatoes ground...</td>\n",
       "      <td>11</td>\n",
       "    </tr>\n",
       "    <tr>\n",
       "      <th>2</th>\n",
       "      <td>filipino</td>\n",
       "      <td>20130</td>\n",
       "      <td>[eggs, pepper, salt, mayonaise, cooking oil, g...</td>\n",
       "      <td>eggs pepper salt mayonaise cooking oil green c...</td>\n",
       "      <td>12</td>\n",
       "    </tr>\n",
       "    <tr>\n",
       "      <th>3</th>\n",
       "      <td>indian</td>\n",
       "      <td>22213</td>\n",
       "      <td>[water, vegetable oil, wheat, salt]</td>\n",
       "      <td>water vegetable oil wheat salt</td>\n",
       "      <td>4</td>\n",
       "    </tr>\n",
       "    <tr>\n",
       "      <th>4</th>\n",
       "      <td>indian</td>\n",
       "      <td>13162</td>\n",
       "      <td>[black pepper, shallots, cornflour, cayenne pe...</td>\n",
       "      <td>black pepper shallots cornflour cayenne pepper...</td>\n",
       "      <td>20</td>\n",
       "    </tr>\n",
       "  </tbody>\n",
       "</table>\n",
       "</div>"
      ],
      "text/plain": [
       "       cuisine     id                                        ingredients  \\\n",
       "0        greek  10259  [romaine lettuce, black olives, grape tomatoes...   \n",
       "1  southern_us  25693  [plain flour, ground pepper, salt, tomatoes, g...   \n",
       "2     filipino  20130  [eggs, pepper, salt, mayonaise, cooking oil, g...   \n",
       "3       indian  22213                [water, vegetable oil, wheat, salt]   \n",
       "4       indian  13162  [black pepper, shallots, cornflour, cayenne pe...   \n",
       "\n",
       "                                            ingr_str  cant_ingr  \n",
       "0  romaine lettuce black olives grape tomatoes ga...          9  \n",
       "1  plain flour ground pepper salt tomatoes ground...         11  \n",
       "2  eggs pepper salt mayonaise cooking oil green c...         12  \n",
       "3                     water vegetable oil wheat salt          4  \n",
       "4  black pepper shallots cornflour cayenne pepper...         20  "
      ]
     },
     "execution_count": 11,
     "metadata": {},
     "output_type": "execute_result"
    }
   ],
   "source": [
    "data_train.head()"
   ]
  },
  {
   "cell_type": "code",
   "execution_count": 12,
   "metadata": {},
   "outputs": [
    {
     "data": {
      "text/plain": [
       "(39712, 5)"
      ]
     },
     "execution_count": 12,
     "metadata": {},
     "output_type": "execute_result"
    }
   ],
   "source": [
    "data_train.shape"
   ]
  },
  {
   "cell_type": "markdown",
   "metadata": {},
   "source": [
    "Ya que los ingredientes a veces vienen como 2 palabras juntas, se decidió tomar esta representación. Luego se harán pruebas tomando la otra columna."
   ]
  },
  {
   "cell_type": "code",
   "execution_count": 13,
   "metadata": {},
   "outputs": [],
   "source": [
    "X = data_train['ingr_str']\n",
    "y = data_train['cuisine']"
   ]
  },
  {
   "cell_type": "markdown",
   "metadata": {},
   "source": [
    "# 3. Split en Train y Test\n",
    "\n",
    "Para armar y validar el modelo dividimos los datos del archivo 'train.json' en train y test. Luego de haber probado y elegido el mejor modelo posible, se realizarán predicciones sobre un nuevo set de datos del archivo 'test.json', del cual no se conocen las etiquetas."
   ]
  },
  {
   "cell_type": "code",
   "execution_count": 14,
   "metadata": {},
   "outputs": [],
   "source": [
    "X_train, X_test, y_train, y_test = train_test_split(X, y, test_size=0.25, stratify=y)"
   ]
  },
  {
   "cell_type": "code",
   "execution_count": 15,
   "metadata": {},
   "outputs": [
    {
     "data": {
      "text/plain": [
       "((39712,), (39712,))"
      ]
     },
     "execution_count": 15,
     "metadata": {},
     "output_type": "execute_result"
    }
   ],
   "source": [
    "X.shape,y.shape"
   ]
  },
  {
   "cell_type": "code",
   "execution_count": 16,
   "metadata": {},
   "outputs": [
    {
     "data": {
      "text/plain": [
       "((29784,), (29784,))"
      ]
     },
     "execution_count": 16,
     "metadata": {},
     "output_type": "execute_result"
    }
   ],
   "source": [
    "X_train.shape,y_train.shape"
   ]
  },
  {
   "cell_type": "code",
   "execution_count": 17,
   "metadata": {},
   "outputs": [
    {
     "data": {
      "text/plain": [
       "((9928,), (9928,))"
      ]
     },
     "execution_count": 17,
     "metadata": {},
     "output_type": "execute_result"
    }
   ],
   "source": [
    "X_test.shape,y_test.shape"
   ]
  },
  {
   "cell_type": "code",
   "execution_count": 18,
   "metadata": {},
   "outputs": [
    {
     "data": {
      "text/plain": [
       "italian         5876\n",
       "mexican         4818\n",
       "southern_us     3238\n",
       "indian          2244\n",
       "chinese         2003\n",
       "french          1982\n",
       "cajun_creole    1158\n",
       "thai            1150\n",
       "japanese        1064\n",
       "greek            880\n",
       "spanish          739\n",
       "korean           623\n",
       "vietnamese       617\n",
       "moroccan         614\n",
       "british          603\n",
       "filipino         566\n",
       "irish            500\n",
       "jamaican         393\n",
       "russian          367\n",
       "brazilian        349\n",
       "Name: cuisine, dtype: int64"
      ]
     },
     "execution_count": 18,
     "metadata": {},
     "output_type": "execute_result"
    }
   ],
   "source": [
    "y_train.value_counts()"
   ]
  },
  {
   "cell_type": "code",
   "execution_count": 19,
   "metadata": {},
   "outputs": [
    {
     "data": {
      "text/plain": [
       "italian         1958\n",
       "mexican         1606\n",
       "southern_us     1079\n",
       "indian           748\n",
       "chinese          668\n",
       "french           661\n",
       "cajun_creole     386\n",
       "thai             383\n",
       "japanese         355\n",
       "greek            294\n",
       "spanish          247\n",
       "korean           207\n",
       "vietnamese       206\n",
       "moroccan         205\n",
       "british          201\n",
       "filipino         188\n",
       "irish            167\n",
       "jamaican         131\n",
       "russian          122\n",
       "brazilian        116\n",
       "Name: cuisine, dtype: int64"
      ]
     },
     "execution_count": 19,
     "metadata": {},
     "output_type": "execute_result"
    }
   ],
   "source": [
    "y_test.value_counts()"
   ]
  },
  {
   "cell_type": "markdown",
   "metadata": {},
   "source": [
    "# 4. Pruebas con CountVectorizer y TfidfVectorizer"
   ]
  },
  {
   "cell_type": "code",
   "execution_count": 20,
   "metadata": {},
   "outputs": [],
   "source": [
    "# vec = CountVectorizer(lowercase=True,stop_words='english',token_pattern=r'(?u)\\b\\w\\w\\w+\\b',\n",
    "#                        ngram_range=(1,2),max_features=20000)\n",
    "\n",
    "# X_train_vec = vec.fit_transform(X_train)\n",
    "# X_test_vec = vec.transform(X_test)\n",
    "# len(vec.get_feature_names())"
   ]
  },
  {
   "cell_type": "code",
   "execution_count": 21,
   "metadata": {},
   "outputs": [],
   "source": [
    "# X_train_vec.shape"
   ]
  },
  {
   "cell_type": "code",
   "execution_count": 22,
   "metadata": {},
   "outputs": [],
   "source": [
    "# X_test_vec.shape"
   ]
  },
  {
   "cell_type": "code",
   "execution_count": 23,
   "metadata": {},
   "outputs": [],
   "source": [
    "# tfidf = TfidfVectorizer(lowercase=True,stop_words='english',token_pattern=r'(?u)\\b\\w\\w\\w+\\b',\n",
    "#                        ngram_range=(1,2),max_features=20000)\n",
    "\n",
    "# X_train_tfidf = tfidf.fit_transform(X_train)\n",
    "# X_test_tfidf = tfidf.transform(X_test)\n",
    "# len(tfidf.get_feature_names())"
   ]
  },
  {
   "cell_type": "code",
   "execution_count": 24,
   "metadata": {},
   "outputs": [],
   "source": [
    "# X_train_tfidf.shape"
   ]
  },
  {
   "cell_type": "code",
   "execution_count": 25,
   "metadata": {},
   "outputs": [],
   "source": [
    "# X_test_tfidf.shape"
   ]
  },
  {
   "cell_type": "code",
   "execution_count": null,
   "metadata": {},
   "outputs": [],
   "source": []
  },
  {
   "cell_type": "code",
   "execution_count": 26,
   "metadata": {},
   "outputs": [],
   "source": [
    "# feat_selector=SelectPercentile(f_classif, percentile=15)\n",
    "# feat_selector=feat_selector.fit(X_train_vec, y_train)\n",
    "# X_train_vec=feat_selector.transform(X_train_vec)\n",
    "# #CHEQUEAR VARIABLES QUE FITEAN Y TRANSFORMAN!!!!!!! \n",
    "# X_train_vec.shape"
   ]
  },
  {
   "cell_type": "code",
   "execution_count": 27,
   "metadata": {},
   "outputs": [],
   "source": [
    "# feat_selector=SelectPercentile(f_classif, percentile=15)\n",
    "# feat_selector=feat_selector.fit(X_train_tfidf, y_train)\n",
    "# X_train_tfidf=feat_selector.transform(X_train_tfidf)\n",
    "# X_train_tfidf.shape"
   ]
  },
  {
   "cell_type": "code",
   "execution_count": 28,
   "metadata": {},
   "outputs": [],
   "source": [
    "# X_test_vec=feat_selector.transform(X_test_vec)"
   ]
  },
  {
   "cell_type": "code",
   "execution_count": 29,
   "metadata": {},
   "outputs": [],
   "source": [
    "# X_test_tfidf=feat_selector.transform(X_test_tfidf)"
   ]
  },
  {
   "cell_type": "code",
   "execution_count": 30,
   "metadata": {},
   "outputs": [],
   "source": [
    "#vec.vocabulary_\n",
    "#tfidf.vocabulary"
   ]
  },
  {
   "cell_type": "markdown",
   "metadata": {},
   "source": [
    "# 5. Pruebas con Logistic Regresion"
   ]
  },
  {
   "cell_type": "code",
   "execution_count": 31,
   "metadata": {},
   "outputs": [],
   "source": [
    "# # Modelo Features tratadas con Countvectorizer\n",
    "# modelo_LR_vec = LogisticRegression()\n",
    "# modelo_LR_vec.fit(X_train_vec, y_train)\n",
    "# y_pred_LR_vec = modelo_LR_vec.predict(X_test_vec)\n",
    "\n",
    "# print(\"Accuracy sobre Train: {}\".format(accuracy_score(y_train, modelo_LR_vec.predict(X_train_vec))))\n",
    "# print(\"Accuracy sobre Test: {}\".format(accuracy_score(y_test, y_pred_LR_vec)))\n",
    "\n"
   ]
  },
  {
   "cell_type": "code",
   "execution_count": 32,
   "metadata": {},
   "outputs": [],
   "source": [
    "# # Modelo Features tratadas con tfidf\n",
    "\n",
    "# modelo_LR_tfidf = LogisticRegression()\n",
    "# modelo_LR_tfidf.fit(X_train_tfidf, y_train)\n",
    "# y_pred_tfidf = modelo_LR_tfidf.predict(X_test_tfidf)\n",
    "\n",
    "# print(\"Accuracy sobre Train: {}\".format(accuracy_score(y_train, modelo_LR_tfidf.predict(X_train_tfidf))))\n",
    "# print(\"Accuracy sobre Test: {}\".format(accuracy_score(y_test, y_pred_tfidf)))\n"
   ]
  },
  {
   "cell_type": "markdown",
   "metadata": {},
   "source": [
    "# 6. Búsqueda de los mejores parámetros\n",
    "\n",
    "\n",
    "Se probarán los parámetros del vectorizer:\n",
    " - max_features\n",
    " - ngram_range\n",
    " - stop_words\n",
    " - binary\n",
    " - token_pattern"
   ]
  },
  {
   "cell_type": "code",
   "execution_count": 33,
   "metadata": {},
   "outputs": [],
   "source": [
    "pipeline1 = Pipeline([\n",
    "   ('vect', CountVectorizer()), \n",
    "    ('ftr', SelectPercentile()),\n",
    "   ('clf', LogisticRegression()), \n",
    "   ])\n",
    "\n",
    "pipeline2 = Pipeline([ \n",
    "   ('vect', TfidfVectorizer()), \n",
    "   ('ftr', SelectPercentile()),\n",
    "   ('clf', LogisticRegression()),\n",
    "   \n",
    "])\n"
   ]
  },
  {
   "cell_type": "code",
   "execution_count": 34,
   "metadata": {},
   "outputs": [],
   "source": [
    "parameters = {\n",
    "    'vect__max_features': [5000,10000,15000],\n",
    "    'vect__ngram_range' : [(1,1),(1,2)],\n",
    "    'vect__stop_words': ['english'],\n",
    "    'vect__binary': [True,False],\n",
    "    'vect__token_pattern' : [r'(?u)\\b\\w\\w\\w+\\b'],\n",
    "    'clf__class_weight': ['balanced'],\n",
    "    'clf__C': [1, 10, 100, 1000],\n",
    "    'ftr__percentile':[10,15,20],\n",
    "    'ftr__score_func':[f_classif], \n",
    "}"
   ]
  },
  {
   "cell_type": "code",
   "execution_count": 35,
   "metadata": {},
   "outputs": [],
   "source": [
    "random_search1 = RandomizedSearchCV (pipeline1, parameters,n_iter=10, n_jobs = 4 , verbose = 2 , cv=3,random_state=15)\n",
    "random_search2 = RandomizedSearchCV (pipeline2, parameters,n_iter=10, n_jobs = 4 , verbose = 2 , cv=3,random_state=15)\n"
   ]
  },
  {
   "cell_type": "code",
   "execution_count": 36,
   "metadata": {},
   "outputs": [
    {
     "name": "stdout",
     "output_type": "stream",
     "text": [
      "Performing Randomized Search 1...\n",
      "Fitting 3 folds for each of 10 candidates, totalling 30 fits\n"
     ]
    },
    {
     "name": "stderr",
     "output_type": "stream",
     "text": [
      "[Parallel(n_jobs=4)]: Using backend LokyBackend with 4 concurrent workers.\n",
      "[Parallel(n_jobs=4)]: Done  30 out of  30 | elapsed: 10.4min finished\n",
      "C:\\Users\\JAVI\\Miniconda3\\envs\\dhds\\lib\\site-packages\\sklearn\\linear_model\\logistic.py:432: FutureWarning: Default solver will be changed to 'lbfgs' in 0.22. Specify a solver to silence this warning.\n",
      "  FutureWarning)\n",
      "C:\\Users\\JAVI\\Miniconda3\\envs\\dhds\\lib\\site-packages\\sklearn\\linear_model\\logistic.py:469: FutureWarning: Default multi_class will be changed to 'auto' in 0.22. Specify the multi_class option to silence this warning.\n",
      "  \"this warning.\", FutureWarning)\n"
     ]
    },
    {
     "name": "stdout",
     "output_type": "stream",
     "text": [
      "Best score: 0.730\n",
      "Best parameters set:\n",
      "\t clf__C: 10\n",
      "\t clf__class_weight: 'balanced'\n",
      "\t ftr__percentile: 15\n",
      "\t ftr__score_func: <function f_classif at 0x000001870D751488>\n",
      "\t vect__binary: False\n",
      "\t vect__max_features: 10000\n",
      "\t vect__ngram_range: (1, 2)\n",
      "\t vect__stop_words: 'english'\n",
      "\t vect__token_pattern: '(?u)\\\\b\\\\w\\\\w\\\\w+\\\\b'\n"
     ]
    }
   ],
   "source": [
    "print(\"Performing Randomized Search 1...\") \n",
    "random_search1.fit(X_train, y_train)\n",
    "\n",
    "print(\"Best score: %0.3f\" % random_search1.best_score_) \n",
    "print(\"Best parameters set:\" )\n",
    "best_parameters = random_search1.best_estimator_.get_params()\n",
    "for param_name in sorted (parameters . keys()): \n",
    "                    print(\"\\t %s: %r\" % (param_name, best_parameters[param_name])) "
   ]
  },
  {
   "cell_type": "code",
   "execution_count": 37,
   "metadata": {},
   "outputs": [
    {
     "name": "stdout",
     "output_type": "stream",
     "text": [
      "Performing Randomized Search 2...\n",
      "Fitting 3 folds for each of 10 candidates, totalling 30 fits\n"
     ]
    },
    {
     "name": "stderr",
     "output_type": "stream",
     "text": [
      "[Parallel(n_jobs=4)]: Using backend LokyBackend with 4 concurrent workers.\n",
      "[Parallel(n_jobs=4)]: Done  30 out of  30 | elapsed:  5.1min finished\n",
      "C:\\Users\\JAVI\\Miniconda3\\envs\\dhds\\lib\\site-packages\\sklearn\\linear_model\\logistic.py:432: FutureWarning: Default solver will be changed to 'lbfgs' in 0.22. Specify a solver to silence this warning.\n",
      "  FutureWarning)\n",
      "C:\\Users\\JAVI\\Miniconda3\\envs\\dhds\\lib\\site-packages\\sklearn\\linear_model\\logistic.py:469: FutureWarning: Default multi_class will be changed to 'auto' in 0.22. Specify the multi_class option to silence this warning.\n",
      "  \"this warning.\", FutureWarning)\n"
     ]
    },
    {
     "name": "stdout",
     "output_type": "stream",
     "text": [
      "Best score: 0.753\n",
      "Best parameters set:\n",
      "\t clf__C: 10\n",
      "\t clf__class_weight: 'balanced'\n",
      "\t ftr__percentile: 15\n",
      "\t ftr__score_func: <function f_classif at 0x000001870D751488>\n",
      "\t vect__binary: False\n",
      "\t vect__max_features: 10000\n",
      "\t vect__ngram_range: (1, 2)\n",
      "\t vect__stop_words: 'english'\n",
      "\t vect__token_pattern: '(?u)\\\\b\\\\w\\\\w\\\\w+\\\\b'\n"
     ]
    }
   ],
   "source": [
    "print(\"Performing Randomized Search 2...\") \n",
    "random_search2.fit(X_train, y_train)\n",
    "\n",
    "print(\"Best score: %0.3f\" % random_search2.best_score_) \n",
    "print(\"Best parameters set:\" )\n",
    "best_parameters = random_search2.best_estimator_.get_params()\n",
    "for param_name in sorted (parameters . keys()): \n",
    "                    print(\"\\t %s: %r\" % (param_name, best_parameters[param_name])) "
   ]
  },
  {
   "cell_type": "code",
   "execution_count": 38,
   "metadata": {},
   "outputs": [
    {
     "name": "stdout",
     "output_type": "stream",
     "text": [
      "Pipeline(memory=None,\n",
      "         steps=[('vect',\n",
      "                 CountVectorizer(analyzer='word', binary=False,\n",
      "                                 decode_error='strict',\n",
      "                                 dtype=<class 'numpy.int64'>, encoding='utf-8',\n",
      "                                 input='content', lowercase=True, max_df=1.0,\n",
      "                                 max_features=10000, min_df=1,\n",
      "                                 ngram_range=(1, 2), preprocessor=None,\n",
      "                                 stop_words='english', strip_accents=None,\n",
      "                                 token_pattern='(?u)\\\\b\\\\w\\\\w\\\\w+\\\\b',\n",
      "                                 tokenizer=None, vocab...\n",
      "                ('ftr',\n",
      "                 SelectPercentile(percentile=15,\n",
      "                                  score_func=<function f_classif at 0x000001870D751488>)),\n",
      "                ('clf',\n",
      "                 LogisticRegression(C=10, class_weight='balanced', dual=False,\n",
      "                                    fit_intercept=True, intercept_scaling=1,\n",
      "                                    l1_ratio=None, max_iter=100,\n",
      "                                    multi_class='warn', n_jobs=None,\n",
      "                                    penalty='l2', random_state=None,\n",
      "                                    solver='warn', tol=0.0001, verbose=0,\n",
      "                                    warm_start=False))],\n",
      "         verbose=False)\n",
      "0.7295863550899812\n",
      "{'vect__token_pattern': '(?u)\\\\b\\\\w\\\\w\\\\w+\\\\b', 'vect__stop_words': 'english', 'vect__ngram_range': (1, 2), 'vect__max_features': 10000, 'vect__binary': False, 'ftr__score_func': <function f_classif at 0x000001870D751488>, 'ftr__percentile': 15, 'clf__class_weight': 'balanced', 'clf__C': 10}\n"
     ]
    }
   ],
   "source": [
    "print(random_search1.best_estimator_)\n",
    "print(random_search1.best_score_)\n",
    "print(random_search1.best_params_)"
   ]
  },
  {
   "cell_type": "code",
   "execution_count": 39,
   "metadata": {},
   "outputs": [
    {
     "name": "stdout",
     "output_type": "stream",
     "text": [
      "Pipeline(memory=None,\n",
      "         steps=[('vect',\n",
      "                 TfidfVectorizer(analyzer='word', binary=False,\n",
      "                                 decode_error='strict',\n",
      "                                 dtype=<class 'numpy.float64'>,\n",
      "                                 encoding='utf-8', input='content',\n",
      "                                 lowercase=True, max_df=1.0, max_features=10000,\n",
      "                                 min_df=1, ngram_range=(1, 2), norm='l2',\n",
      "                                 preprocessor=None, smooth_idf=True,\n",
      "                                 stop_words='english', strip_accents=None,\n",
      "                                 sublinear_tf=False,\n",
      "                                 token_patt...\n",
      "                ('ftr',\n",
      "                 SelectPercentile(percentile=15,\n",
      "                                  score_func=<function f_classif at 0x000001870D751488>)),\n",
      "                ('clf',\n",
      "                 LogisticRegression(C=10, class_weight='balanced', dual=False,\n",
      "                                    fit_intercept=True, intercept_scaling=1,\n",
      "                                    l1_ratio=None, max_iter=100,\n",
      "                                    multi_class='warn', n_jobs=None,\n",
      "                                    penalty='l2', random_state=None,\n",
      "                                    solver='warn', tol=0.0001, verbose=0,\n",
      "                                    warm_start=False))],\n",
      "         verbose=False)\n",
      "0.7525181305398871\n",
      "{'vect__token_pattern': '(?u)\\\\b\\\\w\\\\w\\\\w+\\\\b', 'vect__stop_words': 'english', 'vect__ngram_range': (1, 2), 'vect__max_features': 10000, 'vect__binary': False, 'ftr__score_func': <function f_classif at 0x000001870D751488>, 'ftr__percentile': 15, 'clf__class_weight': 'balanced', 'clf__C': 10}\n"
     ]
    }
   ],
   "source": [
    "print(random_search2.best_estimator_)\n",
    "print(random_search2.best_score_)\n",
    "print(random_search2.best_params_)"
   ]
  },
  {
   "cell_type": "code",
   "execution_count": 40,
   "metadata": {},
   "outputs": [
    {
     "name": "stderr",
     "output_type": "stream",
     "text": [
      "C:\\Users\\JAVI\\Miniconda3\\envs\\dhds\\lib\\site-packages\\sklearn\\linear_model\\logistic.py:432: FutureWarning: Default solver will be changed to 'lbfgs' in 0.22. Specify a solver to silence this warning.\n",
      "  FutureWarning)\n",
      "C:\\Users\\JAVI\\Miniconda3\\envs\\dhds\\lib\\site-packages\\sklearn\\linear_model\\logistic.py:469: FutureWarning: Default multi_class will be changed to 'auto' in 0.22. Specify the multi_class option to silence this warning.\n",
      "  \"this warning.\", FutureWarning)\n"
     ]
    },
    {
     "name": "stdout",
     "output_type": "stream",
     "text": [
      "Accuracy sobre Test: 0.7362006446414182\n"
     ]
    }
   ],
   "source": [
    "random_search1.best_estimator_.fit(X_train,y_train)\n",
    "y_pred=random_search1.best_estimator_.predict(X_test)\n",
    "\n",
    "print(\"Accuracy sobre Test: {}\".format(accuracy_score(y_test, y_pred)))"
   ]
  },
  {
   "cell_type": "code",
   "execution_count": 41,
   "metadata": {},
   "outputs": [
    {
     "name": "stderr",
     "output_type": "stream",
     "text": [
      "C:\\Users\\JAVI\\Miniconda3\\envs\\dhds\\lib\\site-packages\\sklearn\\linear_model\\logistic.py:432: FutureWarning: Default solver will be changed to 'lbfgs' in 0.22. Specify a solver to silence this warning.\n",
      "  FutureWarning)\n",
      "C:\\Users\\JAVI\\Miniconda3\\envs\\dhds\\lib\\site-packages\\sklearn\\linear_model\\logistic.py:469: FutureWarning: Default multi_class will be changed to 'auto' in 0.22. Specify the multi_class option to silence this warning.\n",
      "  \"this warning.\", FutureWarning)\n"
     ]
    },
    {
     "name": "stdout",
     "output_type": "stream",
     "text": [
      "Accuracy sobre Test: 0.7601732473811442\n"
     ]
    }
   ],
   "source": [
    "random_search2.best_estimator_.fit(X_train,y_train)\n",
    "y_pred=random_search2.best_estimator_.predict(X_test)\n",
    "\n",
    "print(\"Accuracy sobre Test: {}\".format(accuracy_score(y_test, y_pred)))"
   ]
  },
  {
   "cell_type": "code",
   "execution_count": 42,
   "metadata": {},
   "outputs": [],
   "source": [
    "pipeline_best = Pipeline([\n",
    "   ('vect', TfidfVectorizer(binary=random_search2.best_params_['vect__binary'],\n",
    "                            max_features=random_search2.best_params_['vect__max_features'],\n",
    "                            ngram_range=random_search2.best_params_['vect__ngram_range'],\n",
    "                            stop_words=random_search2.best_params_['vect__stop_words'],\n",
    "                            token_pattern=random_search2.best_params_['vect__token_pattern'])),\n",
    "    ('ftr', SelectPercentile(percentile=random_search2.best_params_['ftr__percentile'],\n",
    "                            score_func = random_search2.best_params_[ 'ftr__score_func'])),\n",
    "    ('clf', LogisticRegression(C=random_search2.best_params_['clf__C'],\n",
    "                             class_weight=random_search2.best_params_['clf__class_weight']))\n",
    "])\n"
   ]
  },
  {
   "cell_type": "code",
   "execution_count": 43,
   "metadata": {},
   "outputs": [
    {
     "name": "stderr",
     "output_type": "stream",
     "text": [
      "C:\\Users\\JAVI\\Miniconda3\\envs\\dhds\\lib\\site-packages\\sklearn\\linear_model\\logistic.py:432: FutureWarning: Default solver will be changed to 'lbfgs' in 0.22. Specify a solver to silence this warning.\n",
      "  FutureWarning)\n",
      "C:\\Users\\JAVI\\Miniconda3\\envs\\dhds\\lib\\site-packages\\sklearn\\linear_model\\logistic.py:469: FutureWarning: Default multi_class will be changed to 'auto' in 0.22. Specify the multi_class option to silence this warning.\n",
      "  \"this warning.\", FutureWarning)\n"
     ]
    },
    {
     "name": "stdout",
     "output_type": "stream",
     "text": [
      "Accuracy sobre Test: 0.7601732473811442\n"
     ]
    }
   ],
   "source": [
    "pipeline_best.fit(X_train,y_train)\n",
    "pred=pipeline_best.predict(X_test)\n",
    "\n",
    "print(\"Accuracy sobre Test: {}\".format(accuracy_score(y_test, pred)))"
   ]
  },
  {
   "cell_type": "code",
   "execution_count": 44,
   "metadata": {},
   "outputs": [
    {
     "data": {
      "text/plain": [
       "Index(['italian', 'mexican', 'southern_us', 'indian', 'chinese', 'french',\n",
       "       'cajun_creole', 'thai', 'japanese', 'greek', 'spanish', 'korean',\n",
       "       'vietnamese', 'moroccan', 'british', 'filipino', 'irish', 'jamaican',\n",
       "       'russian', 'brazilian'],\n",
       "      dtype='object')"
      ]
     },
     "execution_count": 44,
     "metadata": {},
     "output_type": "execute_result"
    }
   ],
   "source": [
    "cuisines = data_train['cuisine'].value_counts().index.copy()\n",
    "cuisines\n",
    "\n",
    "#y_test.value_counts().index.copy()"
   ]
  },
  {
   "cell_type": "code",
   "execution_count": 45,
   "metadata": {},
   "outputs": [
    {
     "data": {
      "text/plain": [
       "Index(['italian', 'mexican', 'southern_us', 'indian', 'chinese', 'french',\n",
       "       'cajun_creole', 'thai', 'japanese', 'greek', 'spanish', 'korean',\n",
       "       'vietnamese', 'moroccan', 'british', 'filipino', 'irish', 'jamaican',\n",
       "       'russian', 'brazilian'],\n",
       "      dtype='object')"
      ]
     },
     "execution_count": 45,
     "metadata": {},
     "output_type": "execute_result"
    }
   ],
   "source": [
    "y_test.value_counts().index.copy()"
   ]
  },
  {
   "cell_type": "code",
   "execution_count": 54,
   "metadata": {
    "scrolled": false
   },
   "outputs": [
    {
     "data": {
      "image/png": "[encoded data removed]",
      "text/plain": [
       "<Figure size 1008x1008 with 1 Axes>"
      ]
     },
     "metadata": {
      "needs_background": "light"
     },
     "output_type": "display_data"
    }
   ],
   "source": [
    "plt.figure(figsize=(14, 14))\n",
    "classes = unique_labels(y_test, pred)\n",
    "\n",
    "# tick_marks = np.arange(len(classes))\n",
    "# plt.xticks(tick_marks, labels= classes, rotation=90)\n",
    "# plt.yticks(tick_marks, labels= classes, rotation=-45)\n",
    "plt.title(\"confusion matrix\")\n",
    "\n",
    "mat = confusion_matrix(y_test, pred)\n",
    "ax=sns.heatmap(mat, square=True, annot=True, fmt='d', cbar=False)\n",
    "    \n",
    "plt.xlabel('Etiquetas predichas')\n",
    "plt.ylabel('Etiquetas verdaderas')\n",
    "ax.set_xticklabels(classes,rotation=90)\n",
    "ax.set_yticklabels(classes,rotation=0);\n",
    "plt.savefig('Images/Con_Mat_LR.png')"
   ]
  },
  {
   "cell_type": "code",
   "execution_count": null,
   "metadata": {},
   "outputs": [],
   "source": []
  },
  {
   "cell_type": "code",
   "execution_count": 47,
   "metadata": {},
   "outputs": [
    {
     "name": "stdout",
     "output_type": "stream",
     "text": [
      "              precision    recall  f1-score   support\n",
      "\n",
      "   brazilian       0.53      0.63      0.57       116\n",
      "     british       0.40      0.49      0.44       201\n",
      "cajun_creole       0.69      0.78      0.73       386\n",
      "     chinese       0.84      0.83      0.84       668\n",
      "    filipino       0.54      0.64      0.59       188\n",
      "      french       0.56      0.63      0.59       661\n",
      "       greek       0.67      0.76      0.71       294\n",
      "      indian       0.88      0.88      0.88       748\n",
      "       irish       0.49      0.62      0.55       167\n",
      "     italian       0.89      0.79      0.84      1958\n",
      "    jamaican       0.64      0.80      0.71       131\n",
      "    japanese       0.83      0.70      0.76       355\n",
      "      korean       0.75      0.85      0.80       207\n",
      "     mexican       0.92      0.89      0.91      1606\n",
      "    moroccan       0.67      0.82      0.74       205\n",
      "     russian       0.34      0.48      0.40       122\n",
      " southern_us       0.76      0.64      0.70      1079\n",
      "     spanish       0.46      0.57      0.51       247\n",
      "        thai       0.82      0.77      0.79       383\n",
      "  vietnamese       0.66      0.65      0.65       206\n",
      "\n",
      "    accuracy                           0.76      9928\n",
      "   macro avg       0.67      0.71      0.68      9928\n",
      "weighted avg       0.78      0.76      0.77      9928\n",
      "\n"
     ]
    }
   ],
   "source": [
    "print(classification_report(y_test, y_pred))"
   ]
  },
  {
   "cell_type": "markdown",
   "metadata": {},
   "source": [
    "# Predicciones sobre datos nuevos"
   ]
  },
  {
   "cell_type": "code",
   "execution_count": 55,
   "metadata": {},
   "outputs": [
    {
     "data": {
      "text/html": [
       "<div>\n",
       "<style scoped>\n",
       "    .dataframe tbody tr th:only-of-type {\n",
       "        vertical-align: middle;\n",
       "    }\n",
       "\n",
       "    .dataframe tbody tr th {\n",
       "        vertical-align: top;\n",
       "    }\n",
       "\n",
       "    .dataframe thead th {\n",
       "        text-align: right;\n",
       "    }\n",
       "</style>\n",
       "<table border=\"1\" class=\"dataframe\">\n",
       "  <thead>\n",
       "    <tr style=\"text-align: right;\">\n",
       "      <th></th>\n",
       "      <th>id</th>\n",
       "      <th>ingredients</th>\n",
       "    </tr>\n",
       "  </thead>\n",
       "  <tbody>\n",
       "    <tr>\n",
       "      <th>0</th>\n",
       "      <td>18009</td>\n",
       "      <td>[baking powder, eggs, all-purpose flour, raisi...</td>\n",
       "    </tr>\n",
       "    <tr>\n",
       "      <th>1</th>\n",
       "      <td>28583</td>\n",
       "      <td>[sugar, egg yolks, corn starch, cream of tarta...</td>\n",
       "    </tr>\n",
       "    <tr>\n",
       "      <th>2</th>\n",
       "      <td>41580</td>\n",
       "      <td>[sausage links, fennel bulb, fronds, olive oil...</td>\n",
       "    </tr>\n",
       "    <tr>\n",
       "      <th>3</th>\n",
       "      <td>29752</td>\n",
       "      <td>[meat cuts, file powder, smoked sausage, okra,...</td>\n",
       "    </tr>\n",
       "    <tr>\n",
       "      <th>4</th>\n",
       "      <td>35687</td>\n",
       "      <td>[ground black pepper, salt, sausage casings, l...</td>\n",
       "    </tr>\n",
       "  </tbody>\n",
       "</table>\n",
       "</div>"
      ],
      "text/plain": [
       "      id                                        ingredients\n",
       "0  18009  [baking powder, eggs, all-purpose flour, raisi...\n",
       "1  28583  [sugar, egg yolks, corn starch, cream of tarta...\n",
       "2  41580  [sausage links, fennel bulb, fronds, olive oil...\n",
       "3  29752  [meat cuts, file powder, smoked sausage, okra,...\n",
       "4  35687  [ground black pepper, salt, sausage casings, l..."
      ]
     },
     "execution_count": 55,
     "metadata": {},
     "output_type": "execute_result"
    }
   ],
   "source": [
    "data_test = pd.read_json('test.json')\n",
    "data_test.head()"
   ]
  },
  {
   "cell_type": "code",
   "execution_count": 56,
   "metadata": {},
   "outputs": [
    {
     "data": {
      "text/plain": [
       "(9944, 2)"
      ]
     },
     "execution_count": 56,
     "metadata": {},
     "output_type": "execute_result"
    }
   ],
   "source": [
    "data_test.shape"
   ]
  },
  {
   "cell_type": "code",
   "execution_count": 57,
   "metadata": {},
   "outputs": [
    {
     "data": {
      "text/html": [
       "<div>\n",
       "<style scoped>\n",
       "    .dataframe tbody tr th:only-of-type {\n",
       "        vertical-align: middle;\n",
       "    }\n",
       "\n",
       "    .dataframe tbody tr th {\n",
       "        vertical-align: top;\n",
       "    }\n",
       "\n",
       "    .dataframe thead th {\n",
       "        text-align: right;\n",
       "    }\n",
       "</style>\n",
       "<table border=\"1\" class=\"dataframe\">\n",
       "  <thead>\n",
       "    <tr style=\"text-align: right;\">\n",
       "      <th></th>\n",
       "      <th>id</th>\n",
       "      <th>ingredients</th>\n",
       "      <th>ingr_str</th>\n",
       "    </tr>\n",
       "  </thead>\n",
       "  <tbody>\n",
       "    <tr>\n",
       "      <th>0</th>\n",
       "      <td>18009</td>\n",
       "      <td>[baking powder, eggs, all-purpose flour, raisi...</td>\n",
       "      <td>baking powder eggs all-purpose flour raisins m...</td>\n",
       "    </tr>\n",
       "    <tr>\n",
       "      <th>1</th>\n",
       "      <td>28583</td>\n",
       "      <td>[sugar, egg yolks, corn starch, cream of tarta...</td>\n",
       "      <td>sugar egg yolks corn starch cream of tartar ba...</td>\n",
       "    </tr>\n",
       "    <tr>\n",
       "      <th>2</th>\n",
       "      <td>41580</td>\n",
       "      <td>[sausage links, fennel bulb, fronds, olive oil...</td>\n",
       "      <td>sausage links fennel bulb fronds olive oil cub...</td>\n",
       "    </tr>\n",
       "    <tr>\n",
       "      <th>3</th>\n",
       "      <td>29752</td>\n",
       "      <td>[meat cuts, file powder, smoked sausage, okra,...</td>\n",
       "      <td>meat cuts file powder smoked sausage okra shri...</td>\n",
       "    </tr>\n",
       "    <tr>\n",
       "      <th>4</th>\n",
       "      <td>35687</td>\n",
       "      <td>[ground black pepper, salt, sausage casings, l...</td>\n",
       "      <td>ground black pepper salt sausage casings leeks...</td>\n",
       "    </tr>\n",
       "  </tbody>\n",
       "</table>\n",
       "</div>"
      ],
      "text/plain": [
       "      id                                        ingredients  \\\n",
       "0  18009  [baking powder, eggs, all-purpose flour, raisi...   \n",
       "1  28583  [sugar, egg yolks, corn starch, cream of tarta...   \n",
       "2  41580  [sausage links, fennel bulb, fronds, olive oil...   \n",
       "3  29752  [meat cuts, file powder, smoked sausage, okra,...   \n",
       "4  35687  [ground black pepper, salt, sausage casings, l...   \n",
       "\n",
       "                                            ingr_str  \n",
       "0  baking powder eggs all-purpose flour raisins m...  \n",
       "1  sugar egg yolks corn starch cream of tartar ba...  \n",
       "2  sausage links fennel bulb fronds olive oil cub...  \n",
       "3  meat cuts file powder smoked sausage okra shri...  \n",
       "4  ground black pepper salt sausage casings leeks...  "
      ]
     },
     "execution_count": 57,
     "metadata": {},
     "output_type": "execute_result"
    }
   ],
   "source": [
    "#data_test['ingr_lst'] = data_test['ingredients'].apply(lambda x: [item.replace(' ','') for item in x])\n",
    "data_test['ingr_str'] = data_test['ingredients'].apply(lambda x: ' '.join(x))\n",
    "data_test.head()\n",
    "#data_test.head()\n",
    "#X_new = data_test['ingr_str']\n",
    "#X_new = vec.transform(X_new)"
   ]
  },
  {
   "cell_type": "code",
   "execution_count": 58,
   "metadata": {},
   "outputs": [
    {
     "data": {
      "text/html": [
       "<div>\n",
       "<style scoped>\n",
       "    .dataframe tbody tr th:only-of-type {\n",
       "        vertical-align: middle;\n",
       "    }\n",
       "\n",
       "    .dataframe tbody tr th {\n",
       "        vertical-align: top;\n",
       "    }\n",
       "\n",
       "    .dataframe thead th {\n",
       "        text-align: right;\n",
       "    }\n",
       "</style>\n",
       "<table border=\"1\" class=\"dataframe\">\n",
       "  <thead>\n",
       "    <tr style=\"text-align: right;\">\n",
       "      <th></th>\n",
       "      <th>id</th>\n",
       "      <th>ingredients</th>\n",
       "      <th>predictions</th>\n",
       "    </tr>\n",
       "  </thead>\n",
       "  <tbody>\n",
       "    <tr>\n",
       "      <th>4855</th>\n",
       "      <td>48479</td>\n",
       "      <td>[bacon slices, sausage links, celery, russet p...</td>\n",
       "      <td>british</td>\n",
       "    </tr>\n",
       "    <tr>\n",
       "      <th>9446</th>\n",
       "      <td>3249</td>\n",
       "      <td>[light brown sugar, szechwan peppercorns, chin...</td>\n",
       "      <td>chinese</td>\n",
       "    </tr>\n",
       "    <tr>\n",
       "      <th>9418</th>\n",
       "      <td>40076</td>\n",
       "      <td>[romaine lettuce, chili powder, refried beans,...</td>\n",
       "      <td>mexican</td>\n",
       "    </tr>\n",
       "    <tr>\n",
       "      <th>1890</th>\n",
       "      <td>10255</td>\n",
       "      <td>[turnip greens, hot pepper sauce, sliced carro...</td>\n",
       "      <td>french</td>\n",
       "    </tr>\n",
       "    <tr>\n",
       "      <th>2354</th>\n",
       "      <td>3001</td>\n",
       "      <td>[yellow mustard seeds, ginger, ground turmeric...</td>\n",
       "      <td>indian</td>\n",
       "    </tr>\n",
       "    <tr>\n",
       "      <th>7749</th>\n",
       "      <td>6235</td>\n",
       "      <td>[diced tomatoes, pinto beans, jalapeno chilies...</td>\n",
       "      <td>mexican</td>\n",
       "    </tr>\n",
       "    <tr>\n",
       "      <th>2719</th>\n",
       "      <td>23160</td>\n",
       "      <td>[salt, ice water, unsalted butter, all-purpose...</td>\n",
       "      <td>southern_us</td>\n",
       "    </tr>\n",
       "    <tr>\n",
       "      <th>8233</th>\n",
       "      <td>23501</td>\n",
       "      <td>[green onions, ground cumin, cheddar cheese, s...</td>\n",
       "      <td>mexican</td>\n",
       "    </tr>\n",
       "    <tr>\n",
       "      <th>6113</th>\n",
       "      <td>21905</td>\n",
       "      <td>[pesto, chopped onion, navy beans, cooking spr...</td>\n",
       "      <td>italian</td>\n",
       "    </tr>\n",
       "    <tr>\n",
       "      <th>5028</th>\n",
       "      <td>10185</td>\n",
       "      <td>[celery ribs, vegetable oil, curry paste, fres...</td>\n",
       "      <td>indian</td>\n",
       "    </tr>\n",
       "  </tbody>\n",
       "</table>\n",
       "</div>"
      ],
      "text/plain": [
       "         id                                        ingredients  predictions\n",
       "4855  48479  [bacon slices, sausage links, celery, russet p...      british\n",
       "9446   3249  [light brown sugar, szechwan peppercorns, chin...      chinese\n",
       "9418  40076  [romaine lettuce, chili powder, refried beans,...      mexican\n",
       "1890  10255  [turnip greens, hot pepper sauce, sliced carro...       french\n",
       "2354   3001  [yellow mustard seeds, ginger, ground turmeric...       indian\n",
       "7749   6235  [diced tomatoes, pinto beans, jalapeno chilies...      mexican\n",
       "2719  23160  [salt, ice water, unsalted butter, all-purpose...  southern_us\n",
       "8233  23501  [green onions, ground cumin, cheddar cheese, s...      mexican\n",
       "6113  21905  [pesto, chopped onion, navy beans, cooking spr...      italian\n",
       "5028  10185  [celery ribs, vegetable oil, curry paste, fres...       indian"
      ]
     },
     "execution_count": 58,
     "metadata": {},
     "output_type": "execute_result"
    }
   ],
   "source": [
    "X = data_test['ingr_str']\n",
    "\n",
    "y_pred_new = pipeline_best.predict(X)\n",
    "\n",
    "d = {'id':data_test['id'],\n",
    "    'ingredients':data_test['ingredients'],\n",
    "    'predictions':y_pred_new}\n",
    "\n",
    "predicted_data = pd.DataFrame(d)\n",
    "predicted_data.sample(10)"
   ]
  },
  {
   "cell_type": "code",
   "execution_count": 59,
   "metadata": {},
   "outputs": [
    {
     "data": {
      "text/plain": [
       "italian         0.169147\n",
       "mexican         0.152051\n",
       "southern_us     0.098753\n",
       "indian          0.076529\n",
       "french          0.074316\n",
       "chinese         0.062751\n",
       "cajun_creole    0.041734\n",
       "thai            0.039722\n",
       "greek           0.033689\n",
       "japanese        0.030169\n",
       "spanish         0.028660\n",
       "british         0.026046\n",
       "vietnamese      0.023934\n",
       "russian         0.022928\n",
       "korean          0.022828\n",
       "filipino        0.022727\n",
       "moroccan        0.022627\n",
       "irish           0.021420\n",
       "brazilian       0.015286\n",
       "jamaican        0.014682\n",
       "dtype: float64"
      ]
     },
     "execution_count": 59,
     "metadata": {},
     "output_type": "execute_result"
    }
   ],
   "source": [
    "pd.Series(y_pred_new).value_counts(normalize=True)"
   ]
  },
  {
   "cell_type": "code",
   "execution_count": 60,
   "metadata": {},
   "outputs": [
    {
     "data": {
      "text/plain": [
       "italian         0.197270\n",
       "mexican         0.161765\n",
       "southern_us     0.108708\n",
       "indian          0.075342\n",
       "chinese         0.067259\n",
       "french          0.066554\n",
       "cajun_creole    0.038880\n",
       "thai            0.038603\n",
       "japanese        0.035732\n",
       "greek           0.029563\n",
       "spanish         0.024829\n",
       "korean          0.020900\n",
       "vietnamese      0.020724\n",
       "moroccan        0.020623\n",
       "british         0.020246\n",
       "filipino        0.018987\n",
       "irish           0.016796\n",
       "jamaican        0.013195\n",
       "russian         0.012314\n",
       "brazilian       0.011709\n",
       "Name: cuisine, dtype: float64"
      ]
     },
     "execution_count": 60,
     "metadata": {},
     "output_type": "execute_result"
    }
   ],
   "source": [
    "data_train['cuisine'].value_counts(normalize=True)"
   ]
  },
  {
   "cell_type": "code",
   "execution_count": null,
   "metadata": {},
   "outputs": [],
   "source": []
  },
  {
   "cell_type": "code",
   "execution_count": null,
   "metadata": {},
   "outputs": [],
   "source": []
  },
  {
   "cell_type": "code",
   "execution_count": null,
   "metadata": {},
   "outputs": [],
   "source": []
  },
  {
   "cell_type": "code",
   "execution_count": null,
   "metadata": {},
   "outputs": [],
   "source": []
  }
 ],
 "metadata": {
  "kernelspec": {
   "display_name": "Python 3",
   "language": "python",
   "name": "python3"
  },
  "language_info": {
   "codemirror_mode": {
    "name": "ipython",
    "version": 3
   },
   "file_extension": ".py",
   "mimetype": "text/x-python",
   "name": "python",
   "nbconvert_exporter": "python",
   "pygments_lexer": "ipython3",
   "version": "3.7.3"
  }
 },
 "nbformat": 4,
 "nbformat_minor": 2
}
