{
 "cells": [
  {
   "cell_type": "markdown",
   "metadata": {},
   "source": [
    "# 1. Importar librerías"
   ]
  },
  {
   "cell_type": "code",
   "execution_count": 1,
   "metadata": {},
   "outputs": [],
   "source": [
    "import numpy as np\n",
    "import pandas as pd\n",
    "import matplotlib.pyplot as plt\n",
    "import seaborn as sns\n",
    "\n",
    "from sklearn.model_selection import train_test_split\n",
    "#from sklearn.naive_bayes import MultinomialNB,ComplementNB\n",
    "from sklearn.model_selection import cross_val_score, KFold\n",
    "from sklearn.neighbors import KNeighborsClassifier\n",
    "from sklearn.preprocessing import StandardScaler,FunctionTransformer\n",
    "\n",
    "from sklearn.metrics import confusion_matrix,accuracy_score\n",
    "from sklearn.feature_extraction.text import TfidfVectorizer,CountVectorizer\n",
    "\n",
    "from sklearn.pipeline import Pipeline\n",
    "from sklearn.model_selection import GridSearchCV,RandomizedSearchCV\n",
    "from sklearn.metrics import confusion_matrix,accuracy_score,classification_report"
   ]
  },
  {
   "cell_type": "markdown",
   "metadata": {},
   "source": [
    "# 2. Importar set de entrenamiento"
   ]
  },
  {
   "cell_type": "code",
   "execution_count": 2,
   "metadata": {
    "scrolled": false
   },
   "outputs": [
    {
     "data": {
      "text/html": [
       "<div>\n",
       "<style scoped>\n",
       "    .dataframe tbody tr th:only-of-type {\n",
       "        vertical-align: middle;\n",
       "    }\n",
       "\n",
       "    .dataframe tbody tr th {\n",
       "        vertical-align: top;\n",
       "    }\n",
       "\n",
       "    .dataframe thead th {\n",
       "        text-align: right;\n",
       "    }\n",
       "</style>\n",
       "<table border=\"1\" class=\"dataframe\">\n",
       "  <thead>\n",
       "    <tr style=\"text-align: right;\">\n",
       "      <th></th>\n",
       "      <th>cuisine</th>\n",
       "      <th>id</th>\n",
       "      <th>ingredients</th>\n",
       "    </tr>\n",
       "  </thead>\n",
       "  <tbody>\n",
       "    <tr>\n",
       "      <th>0</th>\n",
       "      <td>greek</td>\n",
       "      <td>10259</td>\n",
       "      <td>[romaine lettuce, black olives, grape tomatoes...</td>\n",
       "    </tr>\n",
       "    <tr>\n",
       "      <th>1</th>\n",
       "      <td>southern_us</td>\n",
       "      <td>25693</td>\n",
       "      <td>[plain flour, ground pepper, salt, tomatoes, g...</td>\n",
       "    </tr>\n",
       "    <tr>\n",
       "      <th>2</th>\n",
       "      <td>filipino</td>\n",
       "      <td>20130</td>\n",
       "      <td>[eggs, pepper, salt, mayonaise, cooking oil, g...</td>\n",
       "    </tr>\n",
       "    <tr>\n",
       "      <th>3</th>\n",
       "      <td>indian</td>\n",
       "      <td>22213</td>\n",
       "      <td>[water, vegetable oil, wheat, salt]</td>\n",
       "    </tr>\n",
       "    <tr>\n",
       "      <th>4</th>\n",
       "      <td>indian</td>\n",
       "      <td>13162</td>\n",
       "      <td>[black pepper, shallots, cornflour, cayenne pe...</td>\n",
       "    </tr>\n",
       "  </tbody>\n",
       "</table>\n",
       "</div>"
      ],
      "text/plain": [
       "       cuisine     id                                        ingredients\n",
       "0        greek  10259  [romaine lettuce, black olives, grape tomatoes...\n",
       "1  southern_us  25693  [plain flour, ground pepper, salt, tomatoes, g...\n",
       "2     filipino  20130  [eggs, pepper, salt, mayonaise, cooking oil, g...\n",
       "3       indian  22213                [water, vegetable oil, wheat, salt]\n",
       "4       indian  13162  [black pepper, shallots, cornflour, cayenne pe..."
      ]
     },
     "execution_count": 2,
     "metadata": {},
     "output_type": "execute_result"
    }
   ],
   "source": [
    "data_train = pd.read_json('train.json')\n",
    "data_train.head()"
   ]
  },
  {
   "cell_type": "code",
   "execution_count": 3,
   "metadata": {
    "scrolled": true
   },
   "outputs": [
    {
     "data": {
      "text/plain": [
       "list"
      ]
     },
     "execution_count": 3,
     "metadata": {},
     "output_type": "execute_result"
    }
   ],
   "source": [
    "type(data_train['ingredients'][0])"
   ]
  },
  {
   "cell_type": "markdown",
   "metadata": {},
   "source": [
    "Primero se necesita una columna con un string de ingredientes."
   ]
  },
  {
   "cell_type": "code",
   "execution_count": 4,
   "metadata": {},
   "outputs": [
    {
     "data": {
      "text/html": [
       "<div>\n",
       "<style scoped>\n",
       "    .dataframe tbody tr th:only-of-type {\n",
       "        vertical-align: middle;\n",
       "    }\n",
       "\n",
       "    .dataframe tbody tr th {\n",
       "        vertical-align: top;\n",
       "    }\n",
       "\n",
       "    .dataframe thead th {\n",
       "        text-align: right;\n",
       "    }\n",
       "</style>\n",
       "<table border=\"1\" class=\"dataframe\">\n",
       "  <thead>\n",
       "    <tr style=\"text-align: right;\">\n",
       "      <th></th>\n",
       "      <th>cuisine</th>\n",
       "      <th>id</th>\n",
       "      <th>ingredients</th>\n",
       "      <th>ingr_str</th>\n",
       "    </tr>\n",
       "  </thead>\n",
       "  <tbody>\n",
       "    <tr>\n",
       "      <th>0</th>\n",
       "      <td>greek</td>\n",
       "      <td>10259</td>\n",
       "      <td>[romaine lettuce, black olives, grape tomatoes...</td>\n",
       "      <td>romaine lettuce black olives grape tomatoes ga...</td>\n",
       "    </tr>\n",
       "    <tr>\n",
       "      <th>1</th>\n",
       "      <td>southern_us</td>\n",
       "      <td>25693</td>\n",
       "      <td>[plain flour, ground pepper, salt, tomatoes, g...</td>\n",
       "      <td>plain flour ground pepper salt tomatoes ground...</td>\n",
       "    </tr>\n",
       "    <tr>\n",
       "      <th>2</th>\n",
       "      <td>filipino</td>\n",
       "      <td>20130</td>\n",
       "      <td>[eggs, pepper, salt, mayonaise, cooking oil, g...</td>\n",
       "      <td>eggs pepper salt mayonaise cooking oil green c...</td>\n",
       "    </tr>\n",
       "    <tr>\n",
       "      <th>3</th>\n",
       "      <td>indian</td>\n",
       "      <td>22213</td>\n",
       "      <td>[water, vegetable oil, wheat, salt]</td>\n",
       "      <td>water vegetable oil wheat salt</td>\n",
       "    </tr>\n",
       "    <tr>\n",
       "      <th>4</th>\n",
       "      <td>indian</td>\n",
       "      <td>13162</td>\n",
       "      <td>[black pepper, shallots, cornflour, cayenne pe...</td>\n",
       "      <td>black pepper shallots cornflour cayenne pepper...</td>\n",
       "    </tr>\n",
       "  </tbody>\n",
       "</table>\n",
       "</div>"
      ],
      "text/plain": [
       "       cuisine     id                                        ingredients  \\\n",
       "0        greek  10259  [romaine lettuce, black olives, grape tomatoes...   \n",
       "1  southern_us  25693  [plain flour, ground pepper, salt, tomatoes, g...   \n",
       "2     filipino  20130  [eggs, pepper, salt, mayonaise, cooking oil, g...   \n",
       "3       indian  22213                [water, vegetable oil, wheat, salt]   \n",
       "4       indian  13162  [black pepper, shallots, cornflour, cayenne pe...   \n",
       "\n",
       "                                            ingr_str  \n",
       "0  romaine lettuce black olives grape tomatoes ga...  \n",
       "1  plain flour ground pepper salt tomatoes ground...  \n",
       "2  eggs pepper salt mayonaise cooking oil green c...  \n",
       "3                     water vegetable oil wheat salt  \n",
       "4  black pepper shallots cornflour cayenne pepper...  "
      ]
     },
     "execution_count": 4,
     "metadata": {},
     "output_type": "execute_result"
    }
   ],
   "source": [
    "data_train['ingr_str'] = data_train['ingredients'].apply(lambda x: ' '.join(x))\n",
    "data_train.head()"
   ]
  },
  {
   "cell_type": "code",
   "execution_count": 5,
   "metadata": {},
   "outputs": [
    {
     "data": {
      "text/html": [
       "<div>\n",
       "<style scoped>\n",
       "    .dataframe tbody tr th:only-of-type {\n",
       "        vertical-align: middle;\n",
       "    }\n",
       "\n",
       "    .dataframe tbody tr th {\n",
       "        vertical-align: top;\n",
       "    }\n",
       "\n",
       "    .dataframe thead th {\n",
       "        text-align: right;\n",
       "    }\n",
       "</style>\n",
       "<table border=\"1\" class=\"dataframe\">\n",
       "  <thead>\n",
       "    <tr style=\"text-align: right;\">\n",
       "      <th></th>\n",
       "      <th>cuisine</th>\n",
       "      <th>id</th>\n",
       "      <th>ingredients</th>\n",
       "      <th>ingr_str</th>\n",
       "      <th>cant_ingr</th>\n",
       "    </tr>\n",
       "  </thead>\n",
       "  <tbody>\n",
       "    <tr>\n",
       "      <th>0</th>\n",
       "      <td>greek</td>\n",
       "      <td>10259</td>\n",
       "      <td>[romaine lettuce, black olives, grape tomatoes...</td>\n",
       "      <td>romaine lettuce black olives grape tomatoes ga...</td>\n",
       "      <td>9</td>\n",
       "    </tr>\n",
       "    <tr>\n",
       "      <th>1</th>\n",
       "      <td>southern_us</td>\n",
       "      <td>25693</td>\n",
       "      <td>[plain flour, ground pepper, salt, tomatoes, g...</td>\n",
       "      <td>plain flour ground pepper salt tomatoes ground...</td>\n",
       "      <td>11</td>\n",
       "    </tr>\n",
       "    <tr>\n",
       "      <th>2</th>\n",
       "      <td>filipino</td>\n",
       "      <td>20130</td>\n",
       "      <td>[eggs, pepper, salt, mayonaise, cooking oil, g...</td>\n",
       "      <td>eggs pepper salt mayonaise cooking oil green c...</td>\n",
       "      <td>12</td>\n",
       "    </tr>\n",
       "    <tr>\n",
       "      <th>3</th>\n",
       "      <td>indian</td>\n",
       "      <td>22213</td>\n",
       "      <td>[water, vegetable oil, wheat, salt]</td>\n",
       "      <td>water vegetable oil wheat salt</td>\n",
       "      <td>4</td>\n",
       "    </tr>\n",
       "    <tr>\n",
       "      <th>4</th>\n",
       "      <td>indian</td>\n",
       "      <td>13162</td>\n",
       "      <td>[black pepper, shallots, cornflour, cayenne pe...</td>\n",
       "      <td>black pepper shallots cornflour cayenne pepper...</td>\n",
       "      <td>20</td>\n",
       "    </tr>\n",
       "  </tbody>\n",
       "</table>\n",
       "</div>"
      ],
      "text/plain": [
       "       cuisine     id                                        ingredients  \\\n",
       "0        greek  10259  [romaine lettuce, black olives, grape tomatoes...   \n",
       "1  southern_us  25693  [plain flour, ground pepper, salt, tomatoes, g...   \n",
       "2     filipino  20130  [eggs, pepper, salt, mayonaise, cooking oil, g...   \n",
       "3       indian  22213                [water, vegetable oil, wheat, salt]   \n",
       "4       indian  13162  [black pepper, shallots, cornflour, cayenne pe...   \n",
       "\n",
       "                                            ingr_str  cant_ingr  \n",
       "0  romaine lettuce black olives grape tomatoes ga...          9  \n",
       "1  plain flour ground pepper salt tomatoes ground...         11  \n",
       "2  eggs pepper salt mayonaise cooking oil green c...         12  \n",
       "3                     water vegetable oil wheat salt          4  \n",
       "4  black pepper shallots cornflour cayenne pepper...         20  "
      ]
     },
     "execution_count": 5,
     "metadata": {},
     "output_type": "execute_result"
    }
   ],
   "source": [
    "data_train['cant_ingr'] = data_train['ingredients'].str.len()\n",
    "data_train.head()"
   ]
  },
  {
   "cell_type": "markdown",
   "metadata": {},
   "source": [
    "Por ser pocos datos, tomo como un filtro de outliers el sacar los que tengan más de 6 palabras."
   ]
  },
  {
   "cell_type": "code",
   "execution_count": 6,
   "metadata": {},
   "outputs": [
    {
     "data": {
      "text/plain": [
       "(39774, 5)"
      ]
     },
     "execution_count": 6,
     "metadata": {},
     "output_type": "execute_result"
    }
   ],
   "source": [
    "data_train.shape"
   ]
  },
  {
   "cell_type": "code",
   "execution_count": 7,
   "metadata": {},
   "outputs": [],
   "source": [
    "#data_train.drop(index=data_train.loc[data_train['ingr_len']>6].index,inplace=True)"
   ]
  },
  {
   "cell_type": "code",
   "execution_count": 8,
   "metadata": {},
   "outputs": [],
   "source": [
    "data_train.drop(index=data_train.loc[(data_train['cant_ingr']==1)|(data_train['cant_ingr']>30)].index,inplace=True)"
   ]
  },
  {
   "cell_type": "code",
   "execution_count": 9,
   "metadata": {},
   "outputs": [],
   "source": [
    "X = data_train['ingr_str']\n",
    "y = data_train['cuisine']"
   ]
  },
  {
   "cell_type": "markdown",
   "metadata": {},
   "source": [
    "# 3. Split en Train y Test\n",
    "\n",
    "Para armar y validar el modelo dividimos los datos del archivo 'train.json' en train y test. Luego de haber probado y elegido el mejor modelo posible, se realizarán predicciones sobre un nuevo set de datos del archivo 'test.json', del cual no se conocen las etiquetas."
   ]
  },
  {
   "cell_type": "code",
   "execution_count": 10,
   "metadata": {},
   "outputs": [],
   "source": [
    "X_train, X_test, y_train, y_test = train_test_split(X, y, test_size=0.25, stratify=y)"
   ]
  },
  {
   "cell_type": "code",
   "execution_count": 11,
   "metadata": {},
   "outputs": [
    {
     "data": {
      "text/plain": [
       "((39712,), (39712,))"
      ]
     },
     "execution_count": 11,
     "metadata": {},
     "output_type": "execute_result"
    }
   ],
   "source": [
    "X.shape,y.shape"
   ]
  },
  {
   "cell_type": "code",
   "execution_count": 12,
   "metadata": {},
   "outputs": [
    {
     "data": {
      "text/plain": [
       "((29784,), (29784,))"
      ]
     },
     "execution_count": 12,
     "metadata": {},
     "output_type": "execute_result"
    }
   ],
   "source": [
    "X_train.shape,y_train.shape"
   ]
  },
  {
   "cell_type": "code",
   "execution_count": 13,
   "metadata": {},
   "outputs": [
    {
     "data": {
      "text/plain": [
       "((9928,), (9928,))"
      ]
     },
     "execution_count": 13,
     "metadata": {},
     "output_type": "execute_result"
    }
   ],
   "source": [
    "X_test.shape,y_test.shape"
   ]
  },
  {
   "cell_type": "code",
   "execution_count": 14,
   "metadata": {},
   "outputs": [],
   "source": [
    "# pipeline = Pipeline([\n",
    "#    ('vect', CountVectorizer(analyzer='word', binary=True, decode_error='strict',\n",
    "#                             encoding='utf-8',lowercase=True, max_df=1.0,\n",
    "#                             max_features=5000, min_df=1,ngram_range=(1, 1), stop_words='english',\n",
    "#                             strip_accents=None, token_pattern='(?u)\\\\b\\\\w\\\\w\\\\w+\\\\b')),\n",
    "#     ('transformer',FunctionTransformer(lambda x: x.astype('float'), validate=False)),\n",
    "#     ('scaler',StandardScaler()),\n",
    "#     ('clf', KNeighborsClassifier()), \n",
    "# ])"
   ]
  },
  {
   "cell_type": "code",
   "execution_count": 15,
   "metadata": {},
   "outputs": [],
   "source": [
    "# k_range = list(range(1,20))"
   ]
  },
  {
   "cell_type": "code",
   "execution_count": 16,
   "metadata": {},
   "outputs": [],
   "source": [
    "# parameters = {\n",
    "# #     'vect__max_features': [5000,10000,15000],\n",
    "# #     'vect__ngram_range': ((1, 1), (1, 2)),\n",
    "# #     'vect__stop_words': ['english', None],\n",
    "# #     'vect__binary': [True,False],\n",
    "# #     'vect__token_pattern' : [r'(?u)\\b\\w\\w\\w+\\b'],\n",
    "#     'scaler__with_mean' : [False],\n",
    "#     'clf__n_neighbors': list(range(17,24)),\n",
    "#     'clf__weights' : ['uniform','distance']\n",
    "# }"
   ]
  },
  {
   "cell_type": "code",
   "execution_count": 17,
   "metadata": {},
   "outputs": [],
   "source": [
    "# grid_search = GridSearchCV (pipeline, parameters, n_jobs = 2 , verbose = 2 , cv=3)\n",
    "#random_search = RandomizedSearchCV(pipeline, parameters, n_iter=20, cv=3, scoring='accuracy',verbose=2,n_jobs=2)"
   ]
  },
  {
   "cell_type": "code",
   "execution_count": 18,
   "metadata": {},
   "outputs": [],
   "source": [
    "# print(\"Performing random search...\") \n",
    "# random_search.fit(X_train, y_train)\n",
    "\n",
    "# print(\"Best score: %0.3f\" % random_search.best_score_) \n",
    "# print(\"Best parameters set:\" )\n",
    "# best_parameters = random_search.best_estimator_.get_params()\n",
    "# for param_name in sorted (parameters . keys()): \n",
    "#                     print(\"\\t %s: %r\" % (param_name, best_parameters[param_name])) "
   ]
  },
  {
   "cell_type": "code",
   "execution_count": 19,
   "metadata": {},
   "outputs": [],
   "source": [
    "# print(\"Performing grid search...\") \n",
    "# grid_search.fit(X_train, y_train)\n",
    "\n",
    "# print(\"Best score: %0.3f\" % grid_search.best_score_) \n",
    "# print(\"Best parameters set:\" )\n",
    "# best_parameters = grid_search.best_estimator_.get_params()\n",
    "# for param_name in sorted (parameters . keys()): \n",
    "#                     print(\"\\t %s: %r\" % (param_name, best_parameters[param_name])) "
   ]
  },
  {
   "cell_type": "code",
   "execution_count": null,
   "metadata": {},
   "outputs": [],
   "source": []
  },
  {
   "cell_type": "code",
   "execution_count": null,
   "metadata": {},
   "outputs": [],
   "source": []
  },
  {
   "cell_type": "code",
   "execution_count": 20,
   "metadata": {},
   "outputs": [],
   "source": [
    "# #vec = CountVectorizer(stop_words='english')\n",
    "# vec = CountVectorizer(binary=True,lowercase=True)\n",
    "\n",
    "# X_train = vec.fit_transform(X_train)\n",
    "# X_test = vec.transform(X_test)"
   ]
  },
  {
   "cell_type": "markdown",
   "metadata": {},
   "source": [
    "# KNN"
   ]
  },
  {
   "cell_type": "code",
   "execution_count": 21,
   "metadata": {},
   "outputs": [],
   "source": [
    "vec = CountVectorizer(analyzer='word', binary=True, decode_error='strict',\n",
    "                      encoding='utf-8',lowercase=True, max_df=1.0,\n",
    "                      max_features=5000, min_df=1,ngram_range=(1, 1), stop_words='english',\n",
    "                      strip_accents=None, token_pattern='(?u)\\\\b\\\\w\\\\w\\\\w+\\\\b')\n",
    "\n",
    "X_train = vec.fit_transform(X_train)\n",
    "X_test = vec.transform(X_test)"
   ]
  },
  {
   "cell_type": "code",
   "execution_count": 22,
   "metadata": {},
   "outputs": [],
   "source": [
    "scaler = StandardScaler(with_mean=False)\n",
    "X_train = scaler.fit_transform(X_train.astype('float64'))\n",
    "X_test = scaler.transform(X_test.astype('float64'))"
   ]
  },
  {
   "cell_type": "code",
   "execution_count": 23,
   "metadata": {},
   "outputs": [
    {
     "data": {
      "text/plain": [
       "((29784, 2774), (29784,))"
      ]
     },
     "execution_count": 23,
     "metadata": {},
     "output_type": "execute_result"
    }
   ],
   "source": [
    "X_train.shape,y_train.shape"
   ]
  },
  {
   "cell_type": "code",
   "execution_count": 24,
   "metadata": {},
   "outputs": [],
   "source": [
    "# feat_selector = SelectPercentile(f_classif, percentile=10)\n",
    "# feat_selector = feat_selector.fit(X_train,y_train)\n",
    "# X_train_new = feat_selector.transform(X_train)\n",
    "# X_train_new.shape"
   ]
  },
  {
   "cell_type": "code",
   "execution_count": 25,
   "metadata": {},
   "outputs": [
    {
     "data": {
      "text/plain": [
       "((9928, 2774), (9928,))"
      ]
     },
     "execution_count": 25,
     "metadata": {},
     "output_type": "execute_result"
    }
   ],
   "source": [
    "X_test.shape,y_test.shape"
   ]
  },
  {
   "cell_type": "code",
   "execution_count": 26,
   "metadata": {},
   "outputs": [],
   "source": [
    "# X_test_new = feat_selector.transform(X_test)\n",
    "# X_test_new.shape"
   ]
  },
  {
   "cell_type": "code",
   "execution_count": null,
   "metadata": {},
   "outputs": [],
   "source": []
  },
  {
   "cell_type": "code",
   "execution_count": 27,
   "metadata": {},
   "outputs": [],
   "source": [
    "def crossval_knn(X_train,y_train,k_range=(1,5),weights='uniform'):\n",
    "    kf = KFold(n_splits=5, shuffle=True, random_state=12)\n",
    "    scores=[]\n",
    "    for i in range(k_range[0],k_range[1]+1):\n",
    "        print(\"training model with {} neighbours.\".format(i))\n",
    "        model = KNeighborsClassifier(n_neighbors=i,n_jobs=2,weights=weights)\n",
    "        cv_scores = cross_val_score(model, X_train, y_train, cv=kf)\n",
    "        dict_row_score = {'score_medio':np.mean(cv_scores),\\\n",
    "                      'score_std':np.std(cv_scores), 'n_neighbours':i}\n",
    "        scores.append(dict_row_score)\n",
    "    \n",
    "    df = pd.DataFrame(scores)\n",
    "    df['lim_sup']=df['score_medio']+df['score_std']\n",
    "    df['lim_inf']=df['score_medio']-df['score_std']\n",
    "    \n",
    "    return df"
   ]
  },
  {
   "cell_type": "code",
   "execution_count": 28,
   "metadata": {},
   "outputs": [
    {
     "name": "stdout",
     "output_type": "stream",
     "text": [
      "training model with 1 neighbours.\n",
      "training model with 2 neighbours.\n",
      "training model with 3 neighbours.\n",
      "training model with 4 neighbours.\n",
      "training model with 5 neighbours.\n",
      "training model with 6 neighbours.\n",
      "training model with 7 neighbours.\n",
      "training model with 8 neighbours.\n",
      "training model with 9 neighbours.\n",
      "training model with 10 neighbours.\n",
      "training model with 11 neighbours.\n",
      "training model with 12 neighbours.\n",
      "training model with 13 neighbours.\n",
      "training model with 14 neighbours.\n",
      "training model with 15 neighbours.\n",
      "training model with 16 neighbours.\n",
      "training model with 17 neighbours.\n",
      "training model with 18 neighbours.\n",
      "training model with 19 neighbours.\n",
      "training model with 20 neighbours.\n",
      "training model with 21 neighbours.\n",
      "training model with 22 neighbours.\n",
      "training model with 23 neighbours.\n",
      "training model with 24 neighbours.\n",
      "training model with 25 neighbours.\n",
      "training model with 26 neighbours.\n",
      "training model with 27 neighbours.\n",
      "training model with 28 neighbours.\n",
      "training model with 29 neighbours.\n",
      "training model with 30 neighbours.\n"
     ]
    },
    {
     "data": {
      "text/html": [
       "<div>\n",
       "<style scoped>\n",
       "    .dataframe tbody tr th:only-of-type {\n",
       "        vertical-align: middle;\n",
       "    }\n",
       "\n",
       "    .dataframe tbody tr th {\n",
       "        vertical-align: top;\n",
       "    }\n",
       "\n",
       "    .dataframe thead th {\n",
       "        text-align: right;\n",
       "    }\n",
       "</style>\n",
       "<table border=\"1\" class=\"dataframe\">\n",
       "  <thead>\n",
       "    <tr style=\"text-align: right;\">\n",
       "      <th></th>\n",
       "      <th>n_neighbours</th>\n",
       "      <th>score_medio</th>\n",
       "      <th>score_std</th>\n",
       "      <th>lim_sup</th>\n",
       "      <th>lim_inf</th>\n",
       "    </tr>\n",
       "  </thead>\n",
       "  <tbody>\n",
       "    <tr>\n",
       "      <th>0</th>\n",
       "      <td>1</td>\n",
       "      <td>0.553485</td>\n",
       "      <td>0.005945</td>\n",
       "      <td>0.559430</td>\n",
       "      <td>0.547540</td>\n",
       "    </tr>\n",
       "    <tr>\n",
       "      <th>1</th>\n",
       "      <td>2</td>\n",
       "      <td>0.528371</td>\n",
       "      <td>0.005971</td>\n",
       "      <td>0.534342</td>\n",
       "      <td>0.522400</td>\n",
       "    </tr>\n",
       "    <tr>\n",
       "      <th>2</th>\n",
       "      <td>3</td>\n",
       "      <td>0.550564</td>\n",
       "      <td>0.004425</td>\n",
       "      <td>0.554989</td>\n",
       "      <td>0.546139</td>\n",
       "    </tr>\n",
       "    <tr>\n",
       "      <th>3</th>\n",
       "      <td>4</td>\n",
       "      <td>0.570642</td>\n",
       "      <td>0.004316</td>\n",
       "      <td>0.574958</td>\n",
       "      <td>0.566326</td>\n",
       "    </tr>\n",
       "    <tr>\n",
       "      <th>4</th>\n",
       "      <td>5</td>\n",
       "      <td>0.585146</td>\n",
       "      <td>0.005302</td>\n",
       "      <td>0.590448</td>\n",
       "      <td>0.579844</td>\n",
       "    </tr>\n",
       "    <tr>\n",
       "      <th>5</th>\n",
       "      <td>6</td>\n",
       "      <td>0.595655</td>\n",
       "      <td>0.004113</td>\n",
       "      <td>0.599768</td>\n",
       "      <td>0.591542</td>\n",
       "    </tr>\n",
       "    <tr>\n",
       "      <th>6</th>\n",
       "      <td>7</td>\n",
       "      <td>0.601565</td>\n",
       "      <td>0.001357</td>\n",
       "      <td>0.602921</td>\n",
       "      <td>0.600208</td>\n",
       "    </tr>\n",
       "    <tr>\n",
       "      <th>7</th>\n",
       "      <td>8</td>\n",
       "      <td>0.608850</td>\n",
       "      <td>0.002631</td>\n",
       "      <td>0.611482</td>\n",
       "      <td>0.606219</td>\n",
       "    </tr>\n",
       "    <tr>\n",
       "      <th>8</th>\n",
       "      <td>9</td>\n",
       "      <td>0.613887</td>\n",
       "      <td>0.003037</td>\n",
       "      <td>0.616924</td>\n",
       "      <td>0.610849</td>\n",
       "    </tr>\n",
       "    <tr>\n",
       "      <th>9</th>\n",
       "      <td>10</td>\n",
       "      <td>0.619829</td>\n",
       "      <td>0.001466</td>\n",
       "      <td>0.621296</td>\n",
       "      <td>0.618363</td>\n",
       "    </tr>\n",
       "    <tr>\n",
       "      <th>10</th>\n",
       "      <td>11</td>\n",
       "      <td>0.626142</td>\n",
       "      <td>0.002377</td>\n",
       "      <td>0.628519</td>\n",
       "      <td>0.623764</td>\n",
       "    </tr>\n",
       "    <tr>\n",
       "      <th>11</th>\n",
       "      <td>12</td>\n",
       "      <td>0.629633</td>\n",
       "      <td>0.003134</td>\n",
       "      <td>0.632767</td>\n",
       "      <td>0.626499</td>\n",
       "    </tr>\n",
       "    <tr>\n",
       "      <th>12</th>\n",
       "      <td>13</td>\n",
       "      <td>0.631715</td>\n",
       "      <td>0.002719</td>\n",
       "      <td>0.634434</td>\n",
       "      <td>0.628996</td>\n",
       "    </tr>\n",
       "    <tr>\n",
       "      <th>13</th>\n",
       "      <td>14</td>\n",
       "      <td>0.635475</td>\n",
       "      <td>0.005416</td>\n",
       "      <td>0.640892</td>\n",
       "      <td>0.630059</td>\n",
       "    </tr>\n",
       "    <tr>\n",
       "      <th>14</th>\n",
       "      <td>15</td>\n",
       "      <td>0.637792</td>\n",
       "      <td>0.005241</td>\n",
       "      <td>0.643033</td>\n",
       "      <td>0.632551</td>\n",
       "    </tr>\n",
       "    <tr>\n",
       "      <th>15</th>\n",
       "      <td>16</td>\n",
       "      <td>0.639068</td>\n",
       "      <td>0.004947</td>\n",
       "      <td>0.644014</td>\n",
       "      <td>0.634121</td>\n",
       "    </tr>\n",
       "    <tr>\n",
       "      <th>16</th>\n",
       "      <td>17</td>\n",
       "      <td>0.641519</td>\n",
       "      <td>0.004524</td>\n",
       "      <td>0.646043</td>\n",
       "      <td>0.636995</td>\n",
       "    </tr>\n",
       "    <tr>\n",
       "      <th>17</th>\n",
       "      <td>18</td>\n",
       "      <td>0.643030</td>\n",
       "      <td>0.004923</td>\n",
       "      <td>0.647952</td>\n",
       "      <td>0.638107</td>\n",
       "    </tr>\n",
       "    <tr>\n",
       "      <th>18</th>\n",
       "      <td>19</td>\n",
       "      <td>0.645145</td>\n",
       "      <td>0.005074</td>\n",
       "      <td>0.650219</td>\n",
       "      <td>0.640071</td>\n",
       "    </tr>\n",
       "    <tr>\n",
       "      <th>19</th>\n",
       "      <td>20</td>\n",
       "      <td>0.646924</td>\n",
       "      <td>0.003598</td>\n",
       "      <td>0.650523</td>\n",
       "      <td>0.643326</td>\n",
       "    </tr>\n",
       "    <tr>\n",
       "      <th>20</th>\n",
       "      <td>21</td>\n",
       "      <td>0.648099</td>\n",
       "      <td>0.004332</td>\n",
       "      <td>0.652432</td>\n",
       "      <td>0.643767</td>\n",
       "    </tr>\n",
       "    <tr>\n",
       "      <th>21</th>\n",
       "      <td>22</td>\n",
       "      <td>0.649006</td>\n",
       "      <td>0.003911</td>\n",
       "      <td>0.652917</td>\n",
       "      <td>0.645095</td>\n",
       "    </tr>\n",
       "    <tr>\n",
       "      <th>22</th>\n",
       "      <td>23</td>\n",
       "      <td>0.650483</td>\n",
       "      <td>0.004972</td>\n",
       "      <td>0.655455</td>\n",
       "      <td>0.645512</td>\n",
       "    </tr>\n",
       "    <tr>\n",
       "      <th>23</th>\n",
       "      <td>24</td>\n",
       "      <td>0.651759</td>\n",
       "      <td>0.004845</td>\n",
       "      <td>0.656604</td>\n",
       "      <td>0.646914</td>\n",
       "    </tr>\n",
       "    <tr>\n",
       "      <th>24</th>\n",
       "      <td>25</td>\n",
       "      <td>0.652196</td>\n",
       "      <td>0.004821</td>\n",
       "      <td>0.657017</td>\n",
       "      <td>0.647374</td>\n",
       "    </tr>\n",
       "    <tr>\n",
       "      <th>25</th>\n",
       "      <td>26</td>\n",
       "      <td>0.653404</td>\n",
       "      <td>0.004446</td>\n",
       "      <td>0.657850</td>\n",
       "      <td>0.648958</td>\n",
       "    </tr>\n",
       "    <tr>\n",
       "      <th>26</th>\n",
       "      <td>27</td>\n",
       "      <td>0.653270</td>\n",
       "      <td>0.005091</td>\n",
       "      <td>0.658361</td>\n",
       "      <td>0.648179</td>\n",
       "    </tr>\n",
       "    <tr>\n",
       "      <th>27</th>\n",
       "      <td>28</td>\n",
       "      <td>0.653606</td>\n",
       "      <td>0.004893</td>\n",
       "      <td>0.658499</td>\n",
       "      <td>0.648713</td>\n",
       "    </tr>\n",
       "    <tr>\n",
       "      <th>28</th>\n",
       "      <td>29</td>\n",
       "      <td>0.654479</td>\n",
       "      <td>0.005304</td>\n",
       "      <td>0.659783</td>\n",
       "      <td>0.649175</td>\n",
       "    </tr>\n",
       "    <tr>\n",
       "      <th>29</th>\n",
       "      <td>30</td>\n",
       "      <td>0.654344</td>\n",
       "      <td>0.004892</td>\n",
       "      <td>0.659236</td>\n",
       "      <td>0.649453</td>\n",
       "    </tr>\n",
       "  </tbody>\n",
       "</table>\n",
       "</div>"
      ],
      "text/plain": [
       "    n_neighbours  score_medio  score_std   lim_sup   lim_inf\n",
       "0              1     0.553485   0.005945  0.559430  0.547540\n",
       "1              2     0.528371   0.005971  0.534342  0.522400\n",
       "2              3     0.550564   0.004425  0.554989  0.546139\n",
       "3              4     0.570642   0.004316  0.574958  0.566326\n",
       "4              5     0.585146   0.005302  0.590448  0.579844\n",
       "5              6     0.595655   0.004113  0.599768  0.591542\n",
       "6              7     0.601565   0.001357  0.602921  0.600208\n",
       "7              8     0.608850   0.002631  0.611482  0.606219\n",
       "8              9     0.613887   0.003037  0.616924  0.610849\n",
       "9             10     0.619829   0.001466  0.621296  0.618363\n",
       "10            11     0.626142   0.002377  0.628519  0.623764\n",
       "11            12     0.629633   0.003134  0.632767  0.626499\n",
       "12            13     0.631715   0.002719  0.634434  0.628996\n",
       "13            14     0.635475   0.005416  0.640892  0.630059\n",
       "14            15     0.637792   0.005241  0.643033  0.632551\n",
       "15            16     0.639068   0.004947  0.644014  0.634121\n",
       "16            17     0.641519   0.004524  0.646043  0.636995\n",
       "17            18     0.643030   0.004923  0.647952  0.638107\n",
       "18            19     0.645145   0.005074  0.650219  0.640071\n",
       "19            20     0.646924   0.003598  0.650523  0.643326\n",
       "20            21     0.648099   0.004332  0.652432  0.643767\n",
       "21            22     0.649006   0.003911  0.652917  0.645095\n",
       "22            23     0.650483   0.004972  0.655455  0.645512\n",
       "23            24     0.651759   0.004845  0.656604  0.646914\n",
       "24            25     0.652196   0.004821  0.657017  0.647374\n",
       "25            26     0.653404   0.004446  0.657850  0.648958\n",
       "26            27     0.653270   0.005091  0.658361  0.648179\n",
       "27            28     0.653606   0.004893  0.658499  0.648713\n",
       "28            29     0.654479   0.005304  0.659783  0.649175\n",
       "29            30     0.654344   0.004892  0.659236  0.649453"
      ]
     },
     "execution_count": 28,
     "metadata": {},
     "output_type": "execute_result"
    }
   ],
   "source": [
    "df_scores1 = crossval_knn(X_train,y_train,k_range=(1,30),weights='uniform')\n",
    "df_scores1"
   ]
  },
  {
   "cell_type": "code",
   "execution_count": 29,
   "metadata": {
    "scrolled": false
   },
   "outputs": [
    {
     "data": {
      "text/plain": [
       "[<matplotlib.lines.Line2D at 0x26148810ef0>]"
      ]
     },
     "execution_count": 29,
     "metadata": {},
     "output_type": "execute_result"
    },
    {
     "data": {
      "image/png": "[encoded data removed]",
      "text/plain": [
       "<Figure size 432x288 with 1 Axes>"
      ]
     },
     "metadata": {
      "needs_background": "light"
     },
     "output_type": "display_data"
    }
   ],
   "source": [
    "plt.plot(df_scores1['n_neighbours'],df_scores1['lim_inf'],color='r')\n",
    "plt.plot(df_scores1['n_neighbours'],df_scores1['score_medio'],color='b')\n",
    "plt.plot(df_scores1['n_neighbours'],df_scores1['lim_sup'],color='r')\n",
    "#plt.ylim(0.4, 0.52);"
   ]
  },
  {
   "cell_type": "code",
   "execution_count": 30,
   "metadata": {
    "scrolled": true
   },
   "outputs": [
    {
     "data": {
      "text/html": [
       "<div>\n",
       "<style scoped>\n",
       "    .dataframe tbody tr th:only-of-type {\n",
       "        vertical-align: middle;\n",
       "    }\n",
       "\n",
       "    .dataframe tbody tr th {\n",
       "        vertical-align: top;\n",
       "    }\n",
       "\n",
       "    .dataframe thead th {\n",
       "        text-align: right;\n",
       "    }\n",
       "</style>\n",
       "<table border=\"1\" class=\"dataframe\">\n",
       "  <thead>\n",
       "    <tr style=\"text-align: right;\">\n",
       "      <th></th>\n",
       "      <th>n_neighbours</th>\n",
       "      <th>score_medio</th>\n",
       "    </tr>\n",
       "  </thead>\n",
       "  <tbody>\n",
       "    <tr>\n",
       "      <th>28</th>\n",
       "      <td>29</td>\n",
       "      <td>0.654479</td>\n",
       "    </tr>\n",
       "  </tbody>\n",
       "</table>\n",
       "</div>"
      ],
      "text/plain": [
       "    n_neighbours  score_medio\n",
       "28            29     0.654479"
      ]
     },
     "execution_count": 30,
     "metadata": {},
     "output_type": "execute_result"
    }
   ],
   "source": [
    "best_k1 = df_scores1.loc[df_scores1.score_medio == df_scores1.score_medio.max(),['n_neighbours','score_medio']]\n",
    "best_k1"
   ]
  },
  {
   "cell_type": "code",
   "execution_count": 31,
   "metadata": {},
   "outputs": [
    {
     "name": "stdout",
     "output_type": "stream",
     "text": [
      "training model with 1 neighbours.\n",
      "training model with 2 neighbours.\n",
      "training model with 3 neighbours.\n",
      "training model with 4 neighbours.\n",
      "training model with 5 neighbours.\n",
      "training model with 6 neighbours.\n",
      "training model with 7 neighbours.\n",
      "training model with 8 neighbours.\n",
      "training model with 9 neighbours.\n",
      "training model with 10 neighbours.\n",
      "training model with 11 neighbours.\n",
      "training model with 12 neighbours.\n",
      "training model with 13 neighbours.\n",
      "training model with 14 neighbours.\n",
      "training model with 15 neighbours.\n",
      "training model with 16 neighbours.\n",
      "training model with 17 neighbours.\n",
      "training model with 18 neighbours.\n",
      "training model with 19 neighbours.\n",
      "training model with 20 neighbours.\n",
      "training model with 21 neighbours.\n",
      "training model with 22 neighbours.\n",
      "training model with 23 neighbours.\n",
      "training model with 24 neighbours.\n",
      "training model with 25 neighbours.\n",
      "training model with 26 neighbours.\n",
      "training model with 27 neighbours.\n",
      "training model with 28 neighbours.\n",
      "training model with 29 neighbours.\n",
      "training model with 30 neighbours.\n"
     ]
    },
    {
     "data": {
      "text/html": [
       "<div>\n",
       "<style scoped>\n",
       "    .dataframe tbody tr th:only-of-type {\n",
       "        vertical-align: middle;\n",
       "    }\n",
       "\n",
       "    .dataframe tbody tr th {\n",
       "        vertical-align: top;\n",
       "    }\n",
       "\n",
       "    .dataframe thead th {\n",
       "        text-align: right;\n",
       "    }\n",
       "</style>\n",
       "<table border=\"1\" class=\"dataframe\">\n",
       "  <thead>\n",
       "    <tr style=\"text-align: right;\">\n",
       "      <th></th>\n",
       "      <th>n_neighbours</th>\n",
       "      <th>score_medio</th>\n",
       "      <th>score_std</th>\n",
       "      <th>lim_sup</th>\n",
       "      <th>lim_inf</th>\n",
       "    </tr>\n",
       "  </thead>\n",
       "  <tbody>\n",
       "    <tr>\n",
       "      <th>0</th>\n",
       "      <td>1</td>\n",
       "      <td>0.553485</td>\n",
       "      <td>0.005945</td>\n",
       "      <td>0.559430</td>\n",
       "      <td>0.547540</td>\n",
       "    </tr>\n",
       "    <tr>\n",
       "      <th>1</th>\n",
       "      <td>2</td>\n",
       "      <td>0.553418</td>\n",
       "      <td>0.005842</td>\n",
       "      <td>0.559260</td>\n",
       "      <td>0.547576</td>\n",
       "    </tr>\n",
       "    <tr>\n",
       "      <th>2</th>\n",
       "      <td>3</td>\n",
       "      <td>0.572824</td>\n",
       "      <td>0.002804</td>\n",
       "      <td>0.575628</td>\n",
       "      <td>0.570020</td>\n",
       "    </tr>\n",
       "    <tr>\n",
       "      <th>3</th>\n",
       "      <td>4</td>\n",
       "      <td>0.585616</td>\n",
       "      <td>0.002872</td>\n",
       "      <td>0.588488</td>\n",
       "      <td>0.582745</td>\n",
       "    </tr>\n",
       "    <tr>\n",
       "      <th>4</th>\n",
       "      <td>5</td>\n",
       "      <td>0.597737</td>\n",
       "      <td>0.001714</td>\n",
       "      <td>0.599451</td>\n",
       "      <td>0.596023</td>\n",
       "    </tr>\n",
       "    <tr>\n",
       "      <th>5</th>\n",
       "      <td>6</td>\n",
       "      <td>0.607742</td>\n",
       "      <td>0.002199</td>\n",
       "      <td>0.609941</td>\n",
       "      <td>0.605544</td>\n",
       "    </tr>\n",
       "    <tr>\n",
       "      <th>6</th>\n",
       "      <td>7</td>\n",
       "      <td>0.613551</td>\n",
       "      <td>0.000767</td>\n",
       "      <td>0.614318</td>\n",
       "      <td>0.612784</td>\n",
       "    </tr>\n",
       "    <tr>\n",
       "      <th>7</th>\n",
       "      <td>8</td>\n",
       "      <td>0.620333</td>\n",
       "      <td>0.001527</td>\n",
       "      <td>0.621860</td>\n",
       "      <td>0.618806</td>\n",
       "    </tr>\n",
       "    <tr>\n",
       "      <th>8</th>\n",
       "      <td>9</td>\n",
       "      <td>0.625470</td>\n",
       "      <td>0.001250</td>\n",
       "      <td>0.626720</td>\n",
       "      <td>0.624220</td>\n",
       "    </tr>\n",
       "    <tr>\n",
       "      <th>9</th>\n",
       "      <td>10</td>\n",
       "      <td>0.630103</td>\n",
       "      <td>0.000755</td>\n",
       "      <td>0.630858</td>\n",
       "      <td>0.629349</td>\n",
       "    </tr>\n",
       "    <tr>\n",
       "      <th>10</th>\n",
       "      <td>11</td>\n",
       "      <td>0.635744</td>\n",
       "      <td>0.001333</td>\n",
       "      <td>0.637077</td>\n",
       "      <td>0.634411</td>\n",
       "    </tr>\n",
       "    <tr>\n",
       "      <th>11</th>\n",
       "      <td>12</td>\n",
       "      <td>0.640646</td>\n",
       "      <td>0.003228</td>\n",
       "      <td>0.643874</td>\n",
       "      <td>0.637418</td>\n",
       "    </tr>\n",
       "    <tr>\n",
       "      <th>12</th>\n",
       "      <td>13</td>\n",
       "      <td>0.644071</td>\n",
       "      <td>0.003040</td>\n",
       "      <td>0.647111</td>\n",
       "      <td>0.641031</td>\n",
       "    </tr>\n",
       "    <tr>\n",
       "      <th>13</th>\n",
       "      <td>14</td>\n",
       "      <td>0.647394</td>\n",
       "      <td>0.003500</td>\n",
       "      <td>0.650894</td>\n",
       "      <td>0.643895</td>\n",
       "    </tr>\n",
       "    <tr>\n",
       "      <th>14</th>\n",
       "      <td>15</td>\n",
       "      <td>0.649678</td>\n",
       "      <td>0.004965</td>\n",
       "      <td>0.654642</td>\n",
       "      <td>0.644713</td>\n",
       "    </tr>\n",
       "    <tr>\n",
       "      <th>15</th>\n",
       "      <td>16</td>\n",
       "      <td>0.651961</td>\n",
       "      <td>0.004240</td>\n",
       "      <td>0.656201</td>\n",
       "      <td>0.647720</td>\n",
       "    </tr>\n",
       "    <tr>\n",
       "      <th>16</th>\n",
       "      <td>17</td>\n",
       "      <td>0.654445</td>\n",
       "      <td>0.003912</td>\n",
       "      <td>0.658358</td>\n",
       "      <td>0.650533</td>\n",
       "    </tr>\n",
       "    <tr>\n",
       "      <th>17</th>\n",
       "      <td>18</td>\n",
       "      <td>0.656460</td>\n",
       "      <td>0.004213</td>\n",
       "      <td>0.660673</td>\n",
       "      <td>0.652246</td>\n",
       "    </tr>\n",
       "    <tr>\n",
       "      <th>18</th>\n",
       "      <td>19</td>\n",
       "      <td>0.657366</td>\n",
       "      <td>0.004224</td>\n",
       "      <td>0.661591</td>\n",
       "      <td>0.653142</td>\n",
       "    </tr>\n",
       "    <tr>\n",
       "      <th>19</th>\n",
       "      <td>20</td>\n",
       "      <td>0.659952</td>\n",
       "      <td>0.004153</td>\n",
       "      <td>0.664104</td>\n",
       "      <td>0.655799</td>\n",
       "    </tr>\n",
       "    <tr>\n",
       "      <th>20</th>\n",
       "      <td>21</td>\n",
       "      <td>0.662067</td>\n",
       "      <td>0.004284</td>\n",
       "      <td>0.666350</td>\n",
       "      <td>0.657783</td>\n",
       "    </tr>\n",
       "    <tr>\n",
       "      <th>21</th>\n",
       "      <td>22</td>\n",
       "      <td>0.662839</td>\n",
       "      <td>0.004736</td>\n",
       "      <td>0.667575</td>\n",
       "      <td>0.658103</td>\n",
       "    </tr>\n",
       "    <tr>\n",
       "      <th>22</th>\n",
       "      <td>23</td>\n",
       "      <td>0.663376</td>\n",
       "      <td>0.004274</td>\n",
       "      <td>0.667651</td>\n",
       "      <td>0.659102</td>\n",
       "    </tr>\n",
       "    <tr>\n",
       "      <th>23</th>\n",
       "      <td>24</td>\n",
       "      <td>0.664719</td>\n",
       "      <td>0.004574</td>\n",
       "      <td>0.669293</td>\n",
       "      <td>0.660145</td>\n",
       "    </tr>\n",
       "    <tr>\n",
       "      <th>24</th>\n",
       "      <td>25</td>\n",
       "      <td>0.664988</td>\n",
       "      <td>0.005441</td>\n",
       "      <td>0.670429</td>\n",
       "      <td>0.659547</td>\n",
       "    </tr>\n",
       "    <tr>\n",
       "      <th>25</th>\n",
       "      <td>26</td>\n",
       "      <td>0.665122</td>\n",
       "      <td>0.005549</td>\n",
       "      <td>0.670671</td>\n",
       "      <td>0.659573</td>\n",
       "    </tr>\n",
       "    <tr>\n",
       "      <th>26</th>\n",
       "      <td>27</td>\n",
       "      <td>0.666163</td>\n",
       "      <td>0.004719</td>\n",
       "      <td>0.670882</td>\n",
       "      <td>0.661444</td>\n",
       "    </tr>\n",
       "    <tr>\n",
       "      <th>27</th>\n",
       "      <td>28</td>\n",
       "      <td>0.666734</td>\n",
       "      <td>0.004962</td>\n",
       "      <td>0.671696</td>\n",
       "      <td>0.661772</td>\n",
       "    </tr>\n",
       "    <tr>\n",
       "      <th>28</th>\n",
       "      <td>29</td>\n",
       "      <td>0.665659</td>\n",
       "      <td>0.005655</td>\n",
       "      <td>0.671314</td>\n",
       "      <td>0.660004</td>\n",
       "    </tr>\n",
       "    <tr>\n",
       "      <th>29</th>\n",
       "      <td>30</td>\n",
       "      <td>0.666532</td>\n",
       "      <td>0.005560</td>\n",
       "      <td>0.672093</td>\n",
       "      <td>0.660972</td>\n",
       "    </tr>\n",
       "  </tbody>\n",
       "</table>\n",
       "</div>"
      ],
      "text/plain": [
       "    n_neighbours  score_medio  score_std   lim_sup   lim_inf\n",
       "0              1     0.553485   0.005945  0.559430  0.547540\n",
       "1              2     0.553418   0.005842  0.559260  0.547576\n",
       "2              3     0.572824   0.002804  0.575628  0.570020\n",
       "3              4     0.585616   0.002872  0.588488  0.582745\n",
       "4              5     0.597737   0.001714  0.599451  0.596023\n",
       "5              6     0.607742   0.002199  0.609941  0.605544\n",
       "6              7     0.613551   0.000767  0.614318  0.612784\n",
       "7              8     0.620333   0.001527  0.621860  0.618806\n",
       "8              9     0.625470   0.001250  0.626720  0.624220\n",
       "9             10     0.630103   0.000755  0.630858  0.629349\n",
       "10            11     0.635744   0.001333  0.637077  0.634411\n",
       "11            12     0.640646   0.003228  0.643874  0.637418\n",
       "12            13     0.644071   0.003040  0.647111  0.641031\n",
       "13            14     0.647394   0.003500  0.650894  0.643895\n",
       "14            15     0.649678   0.004965  0.654642  0.644713\n",
       "15            16     0.651961   0.004240  0.656201  0.647720\n",
       "16            17     0.654445   0.003912  0.658358  0.650533\n",
       "17            18     0.656460   0.004213  0.660673  0.652246\n",
       "18            19     0.657366   0.004224  0.661591  0.653142\n",
       "19            20     0.659952   0.004153  0.664104  0.655799\n",
       "20            21     0.662067   0.004284  0.666350  0.657783\n",
       "21            22     0.662839   0.004736  0.667575  0.658103\n",
       "22            23     0.663376   0.004274  0.667651  0.659102\n",
       "23            24     0.664719   0.004574  0.669293  0.660145\n",
       "24            25     0.664988   0.005441  0.670429  0.659547\n",
       "25            26     0.665122   0.005549  0.670671  0.659573\n",
       "26            27     0.666163   0.004719  0.670882  0.661444\n",
       "27            28     0.666734   0.004962  0.671696  0.661772\n",
       "28            29     0.665659   0.005655  0.671314  0.660004\n",
       "29            30     0.666532   0.005560  0.672093  0.660972"
      ]
     },
     "execution_count": 31,
     "metadata": {},
     "output_type": "execute_result"
    }
   ],
   "source": [
    "df_scores2 = crossval_knn(X_train,y_train,k_range=(1,30),weights='distance')\n",
    "df_scores2"
   ]
  },
  {
   "cell_type": "code",
   "execution_count": 32,
   "metadata": {},
   "outputs": [
    {
     "data": {
      "text/plain": [
       "[<matplotlib.lines.Line2D at 0x261488a7e10>]"
      ]
     },
     "execution_count": 32,
     "metadata": {},
     "output_type": "execute_result"
    },
    {
     "data": {
      "image/png": "[encoded data removed]",
      "text/plain": [
       "<Figure size 432x288 with 1 Axes>"
      ]
     },
     "metadata": {
      "needs_background": "light"
     },
     "output_type": "display_data"
    }
   ],
   "source": [
    "plt.plot(df_scores2['n_neighbours'],df_scores2['lim_inf'],color='r')\n",
    "plt.plot(df_scores2['n_neighbours'],df_scores2['score_medio'],color='b')\n",
    "plt.plot(df_scores2['n_neighbours'],df_scores2['lim_sup'],color='r')\n",
    "#plt.ylim(0.4, 0.52);"
   ]
  },
  {
   "cell_type": "code",
   "execution_count": 33,
   "metadata": {},
   "outputs": [
    {
     "data": {
      "text/html": [
       "<div>\n",
       "<style scoped>\n",
       "    .dataframe tbody tr th:only-of-type {\n",
       "        vertical-align: middle;\n",
       "    }\n",
       "\n",
       "    .dataframe tbody tr th {\n",
       "        vertical-align: top;\n",
       "    }\n",
       "\n",
       "    .dataframe thead th {\n",
       "        text-align: right;\n",
       "    }\n",
       "</style>\n",
       "<table border=\"1\" class=\"dataframe\">\n",
       "  <thead>\n",
       "    <tr style=\"text-align: right;\">\n",
       "      <th></th>\n",
       "      <th>n_neighbours</th>\n",
       "      <th>score_medio</th>\n",
       "    </tr>\n",
       "  </thead>\n",
       "  <tbody>\n",
       "    <tr>\n",
       "      <th>27</th>\n",
       "      <td>28</td>\n",
       "      <td>0.666734</td>\n",
       "    </tr>\n",
       "  </tbody>\n",
       "</table>\n",
       "</div>"
      ],
      "text/plain": [
       "    n_neighbours  score_medio\n",
       "27            28     0.666734"
      ]
     },
     "execution_count": 33,
     "metadata": {},
     "output_type": "execute_result"
    }
   ],
   "source": [
    "best_k2 = df_scores2.loc[df_scores2.score_medio == df_scores2.score_medio.max(),['n_neighbours','score_medio']]\n",
    "best_k2"
   ]
  },
  {
   "cell_type": "code",
   "execution_count": 34,
   "metadata": {},
   "outputs": [
    {
     "data": {
      "text/plain": [
       "28"
      ]
     },
     "execution_count": 34,
     "metadata": {},
     "output_type": "execute_result"
    }
   ],
   "source": [
    "best_k2['n_neighbours'].values[0]"
   ]
  },
  {
   "cell_type": "code",
   "execution_count": 35,
   "metadata": {},
   "outputs": [
    {
     "data": {
      "text/plain": [
       "KNeighborsClassifier(algorithm='auto', leaf_size=30, metric='minkowski',\n",
       "                     metric_params=None, n_jobs=None, n_neighbors=28, p=2,\n",
       "                     weights='distance')"
      ]
     },
     "execution_count": 35,
     "metadata": {},
     "output_type": "execute_result"
    }
   ],
   "source": [
    "model = KNeighborsClassifier(n_neighbors=best_k2['n_neighbours'].values[0],weights='distance')\n",
    "model.fit(X_train,y_train)"
   ]
  },
  {
   "cell_type": "code",
   "execution_count": 36,
   "metadata": {},
   "outputs": [
    {
     "data": {
      "text/plain": [
       "((29784, 2774), (29784,))"
      ]
     },
     "execution_count": 36,
     "metadata": {},
     "output_type": "execute_result"
    }
   ],
   "source": [
    "X_train.shape,y_train.shape"
   ]
  },
  {
   "cell_type": "code",
   "execution_count": 37,
   "metadata": {},
   "outputs": [
    {
     "data": {
      "text/plain": [
       "((9928, 2774), (9928,))"
      ]
     },
     "execution_count": 37,
     "metadata": {},
     "output_type": "execute_result"
    }
   ],
   "source": [
    "X_test.shape,y_test.shape"
   ]
  },
  {
   "cell_type": "code",
   "execution_count": 38,
   "metadata": {},
   "outputs": [],
   "source": [
    "y_pred = model.predict(X_test)"
   ]
  },
  {
   "cell_type": "code",
   "execution_count": 39,
   "metadata": {},
   "outputs": [
    {
     "data": {
      "text/plain": [
       "0.6687147461724415"
      ]
     },
     "execution_count": 39,
     "metadata": {},
     "output_type": "execute_result"
    }
   ],
   "source": [
    "accuracy_score(y_test,y_pred)"
   ]
  },
  {
   "cell_type": "code",
   "execution_count": 40,
   "metadata": {},
   "outputs": [
    {
     "data": {
      "text/plain": [
       "0.9997649744829439"
      ]
     },
     "execution_count": 40,
     "metadata": {},
     "output_type": "execute_result"
    }
   ],
   "source": [
    "y_pred_train = model.predict(X_train)\n",
    "accuracy_score(y_train,y_pred_train)"
   ]
  },
  {
   "cell_type": "code",
   "execution_count": 41,
   "metadata": {},
   "outputs": [
    {
     "data": {
      "image/png": "[encoded data removed]",
      "text/plain": [
       "<Figure size 720x720 with 2 Axes>"
      ]
     },
     "metadata": {
      "needs_background": "light"
     },
     "output_type": "display_data"
    }
   ],
   "source": [
    "fig, (ax1, ax2) = plt.subplots(2, 1, sharey=True)\n",
    "\n",
    "fig.set_figheight(10)\n",
    "fig.set_figwidth(10)\n",
    "fig.suptitle('KNN Scores', fontsize=16)\n",
    "\n",
    "ax1.set_title('Uniform')\n",
    "ax1.set_xlabel('K')\n",
    "ax1.set_ylabel('Accuracy')\n",
    "ax1.plot(df_scores1['n_neighbours'],df_scores1['lim_inf'],color='r')\n",
    "ax1.plot(df_scores1['n_neighbours'],df_scores1['score_medio'],color='b')\n",
    "ax1.plot(df_scores1['n_neighbours'],df_scores1['lim_sup'],color='r')\n",
    "\n",
    "ax2.set_title('Distance')\n",
    "ax2.set_xlabel('K')\n",
    "ax2.set_ylabel('Accuracy')\n",
    "ax2.plot(df_scores2['n_neighbours'],df_scores2['lim_inf'],color='r')\n",
    "ax2.plot(df_scores2['n_neighbours'],df_scores2['score_medio'],color='b')\n",
    "ax2.plot(df_scores2['n_neighbours'],df_scores2['lim_sup'],color='r')\n",
    "\n",
    "plt.savefig('Images/KNN_Scores.png')\n"
   ]
  },
  {
   "cell_type": "code",
   "execution_count": 42,
   "metadata": {},
   "outputs": [
    {
     "name": "stdout",
     "output_type": "stream",
     "text": [
      "              precision    recall  f1-score   support\n",
      "\n",
      "   brazilian       0.47      0.42      0.45       116\n",
      "     british       0.49      0.16      0.25       201\n",
      "cajun_creole       0.74      0.40      0.52       386\n",
      "     chinese       0.69      0.71      0.70       668\n",
      "    filipino       0.65      0.42      0.51       188\n",
      "      french       0.55      0.50      0.52       661\n",
      "       greek       0.70      0.48      0.57       293\n",
      "      indian       0.73      0.78      0.76       748\n",
      "       irish       0.45      0.41      0.43       167\n",
      "     italian       0.64      0.86      0.74      1959\n",
      "    jamaican       0.82      0.61      0.70       131\n",
      "    japanese       0.75      0.63      0.68       355\n",
      "      korean       0.70      0.64      0.67       207\n",
      "     mexican       0.73      0.87      0.79      1606\n",
      "    moroccan       0.75      0.37      0.49       205\n",
      "     russian       0.71      0.26      0.38       122\n",
      " southern_us       0.61      0.75      0.67      1079\n",
      "     spanish       0.66      0.20      0.31       247\n",
      "        thai       0.81      0.46      0.59       383\n",
      "  vietnamese       0.63      0.34      0.45       206\n",
      "\n",
      "    accuracy                           0.67      9928\n",
      "   macro avg       0.67      0.51      0.56      9928\n",
      "weighted avg       0.67      0.67      0.65      9928\n",
      "\n"
     ]
    }
   ],
   "source": [
    "print(classification_report(y_test, y_pred))"
   ]
  },
  {
   "cell_type": "markdown",
   "metadata": {},
   "source": [
    "El modelo con KNN no es muy bueno."
   ]
  }
 ],
 "metadata": {
  "kernelspec": {
   "display_name": "Python 3",
   "language": "python",
   "name": "python3"
  },
  "language_info": {
   "codemirror_mode": {
    "name": "ipython",
    "version": 3
   },
   "file_extension": ".py",
   "mimetype": "text/x-python",
   "name": "python",
   "nbconvert_exporter": "python",
   "pygments_lexer": "ipython3",
   "version": "3.7.3"
  }
 },
 "nbformat": 4,
 "nbformat_minor": 2
}
