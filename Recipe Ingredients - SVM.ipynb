{
 "cells": [
  {
   "cell_type": "markdown",
   "metadata": {},
   "source": [
    "# 1. Importar librerías"
   ]
  },
  {
   "cell_type": "code",
   "execution_count": 1,
   "metadata": {},
   "outputs": [],
   "source": [
    "import numpy as np\n",
    "import pandas as pd\n",
    "import matplotlib.pyplot as plt\n",
    "import seaborn as sns\n",
    "\n",
    "from sklearn.model_selection import train_test_split\n",
    "from sklearn.svm import LinearSVC,SVC\n",
    "from sklearn.linear_model import SGDClassifier\n",
    "\n",
    "from sklearn.metrics import confusion_matrix,accuracy_score,classification_report\n",
    "from sklearn.feature_extraction.text import TfidfVectorizer,CountVectorizer\n",
    "from sklearn.feature_selection import SelectPercentile, f_classif\n",
    "from sklearn.pipeline import Pipeline\n",
    "\n",
    "from sklearn.preprocessing import LabelEncoder\n",
    "from sklearn.model_selection import GridSearchCV\n",
    "from sklearn.utils.multiclass import unique_labels"
   ]
  },
  {
   "cell_type": "markdown",
   "metadata": {},
   "source": [
    "# 2. Importar set de entrenamiento"
   ]
  },
  {
   "cell_type": "code",
   "execution_count": 2,
   "metadata": {
    "scrolled": false
   },
   "outputs": [
    {
     "data": {
      "text/html": [
       "<div>\n",
       "<style scoped>\n",
       "    .dataframe tbody tr th:only-of-type {\n",
       "        vertical-align: middle;\n",
       "    }\n",
       "\n",
       "    .dataframe tbody tr th {\n",
       "        vertical-align: top;\n",
       "    }\n",
       "\n",
       "    .dataframe thead th {\n",
       "        text-align: right;\n",
       "    }\n",
       "</style>\n",
       "<table border=\"1\" class=\"dataframe\">\n",
       "  <thead>\n",
       "    <tr style=\"text-align: right;\">\n",
       "      <th></th>\n",
       "      <th>cuisine</th>\n",
       "      <th>id</th>\n",
       "      <th>ingredients</th>\n",
       "    </tr>\n",
       "  </thead>\n",
       "  <tbody>\n",
       "    <tr>\n",
       "      <th>0</th>\n",
       "      <td>greek</td>\n",
       "      <td>10259</td>\n",
       "      <td>[romaine lettuce, black olives, grape tomatoes...</td>\n",
       "    </tr>\n",
       "    <tr>\n",
       "      <th>1</th>\n",
       "      <td>southern_us</td>\n",
       "      <td>25693</td>\n",
       "      <td>[plain flour, ground pepper, salt, tomatoes, g...</td>\n",
       "    </tr>\n",
       "    <tr>\n",
       "      <th>2</th>\n",
       "      <td>filipino</td>\n",
       "      <td>20130</td>\n",
       "      <td>[eggs, pepper, salt, mayonaise, cooking oil, g...</td>\n",
       "    </tr>\n",
       "    <tr>\n",
       "      <th>3</th>\n",
       "      <td>indian</td>\n",
       "      <td>22213</td>\n",
       "      <td>[water, vegetable oil, wheat, salt]</td>\n",
       "    </tr>\n",
       "    <tr>\n",
       "      <th>4</th>\n",
       "      <td>indian</td>\n",
       "      <td>13162</td>\n",
       "      <td>[black pepper, shallots, cornflour, cayenne pe...</td>\n",
       "    </tr>\n",
       "  </tbody>\n",
       "</table>\n",
       "</div>"
      ],
      "text/plain": [
       "       cuisine     id                                        ingredients\n",
       "0        greek  10259  [romaine lettuce, black olives, grape tomatoes...\n",
       "1  southern_us  25693  [plain flour, ground pepper, salt, tomatoes, g...\n",
       "2     filipino  20130  [eggs, pepper, salt, mayonaise, cooking oil, g...\n",
       "3       indian  22213                [water, vegetable oil, wheat, salt]\n",
       "4       indian  13162  [black pepper, shallots, cornflour, cayenne pe..."
      ]
     },
     "execution_count": 2,
     "metadata": {},
     "output_type": "execute_result"
    }
   ],
   "source": [
    "data_train = pd.read_json('train.json')\n",
    "data_train.head()"
   ]
  },
  {
   "cell_type": "code",
   "execution_count": 3,
   "metadata": {},
   "outputs": [
    {
     "data": {
      "text/html": [
       "<div>\n",
       "<style scoped>\n",
       "    .dataframe tbody tr th:only-of-type {\n",
       "        vertical-align: middle;\n",
       "    }\n",
       "\n",
       "    .dataframe tbody tr th {\n",
       "        vertical-align: top;\n",
       "    }\n",
       "\n",
       "    .dataframe thead th {\n",
       "        text-align: right;\n",
       "    }\n",
       "</style>\n",
       "<table border=\"1\" class=\"dataframe\">\n",
       "  <thead>\n",
       "    <tr style=\"text-align: right;\">\n",
       "      <th></th>\n",
       "      <th>cuisine</th>\n",
       "      <th>id</th>\n",
       "      <th>ingredients</th>\n",
       "      <th>ingr_data</th>\n",
       "    </tr>\n",
       "  </thead>\n",
       "  <tbody>\n",
       "    <tr>\n",
       "      <th>0</th>\n",
       "      <td>greek</td>\n",
       "      <td>10259</td>\n",
       "      <td>[romaine lettuce, black olives, grape tomatoes...</td>\n",
       "      <td>romaine lettuce black olives grape tomatoes ga...</td>\n",
       "    </tr>\n",
       "    <tr>\n",
       "      <th>1</th>\n",
       "      <td>southern_us</td>\n",
       "      <td>25693</td>\n",
       "      <td>[plain flour, ground pepper, salt, tomatoes, g...</td>\n",
       "      <td>plain flour ground pepper salt tomatoes ground...</td>\n",
       "    </tr>\n",
       "    <tr>\n",
       "      <th>2</th>\n",
       "      <td>filipino</td>\n",
       "      <td>20130</td>\n",
       "      <td>[eggs, pepper, salt, mayonaise, cooking oil, g...</td>\n",
       "      <td>eggs pepper salt mayonaise cooking oil green c...</td>\n",
       "    </tr>\n",
       "    <tr>\n",
       "      <th>3</th>\n",
       "      <td>indian</td>\n",
       "      <td>22213</td>\n",
       "      <td>[water, vegetable oil, wheat, salt]</td>\n",
       "      <td>water vegetable oil wheat salt</td>\n",
       "    </tr>\n",
       "    <tr>\n",
       "      <th>4</th>\n",
       "      <td>indian</td>\n",
       "      <td>13162</td>\n",
       "      <td>[black pepper, shallots, cornflour, cayenne pe...</td>\n",
       "      <td>black pepper shallots cornflour cayenne pepper...</td>\n",
       "    </tr>\n",
       "  </tbody>\n",
       "</table>\n",
       "</div>"
      ],
      "text/plain": [
       "       cuisine     id                                        ingredients  \\\n",
       "0        greek  10259  [romaine lettuce, black olives, grape tomatoes...   \n",
       "1  southern_us  25693  [plain flour, ground pepper, salt, tomatoes, g...   \n",
       "2     filipino  20130  [eggs, pepper, salt, mayonaise, cooking oil, g...   \n",
       "3       indian  22213                [water, vegetable oil, wheat, salt]   \n",
       "4       indian  13162  [black pepper, shallots, cornflour, cayenne pe...   \n",
       "\n",
       "                                           ingr_data  \n",
       "0  romaine lettuce black olives grape tomatoes ga...  \n",
       "1  plain flour ground pepper salt tomatoes ground...  \n",
       "2  eggs pepper salt mayonaise cooking oil green c...  \n",
       "3                     water vegetable oil wheat salt  \n",
       "4  black pepper shallots cornflour cayenne pepper...  "
      ]
     },
     "execution_count": 3,
     "metadata": {},
     "output_type": "execute_result"
    }
   ],
   "source": [
    "data_train['ingr_data'] = data_train['ingredients'].apply(lambda x: \" \".join(x).lower())\n",
    "data_train.head()"
   ]
  },
  {
   "cell_type": "markdown",
   "metadata": {},
   "source": [
    "Por ser pocos datos, tomo como un filtro de outliers el sacar los que tengan más de 6 palabras."
   ]
  },
  {
   "cell_type": "code",
   "execution_count": 4,
   "metadata": {},
   "outputs": [
    {
     "data": {
      "text/plain": [
       "(39774, 4)"
      ]
     },
     "execution_count": 4,
     "metadata": {},
     "output_type": "execute_result"
    }
   ],
   "source": [
    "data_train.shape"
   ]
  },
  {
   "cell_type": "code",
   "execution_count": 5,
   "metadata": {},
   "outputs": [],
   "source": [
    "X = data_train['ingr_data']\n",
    "#target = data_train['cuisine']\n",
    "y = data_train['cuisine']"
   ]
  },
  {
   "cell_type": "code",
   "execution_count": 6,
   "metadata": {},
   "outputs": [],
   "source": [
    "# label = LabelEncoder()\n",
    "# y = label.fit_transform(target)"
   ]
  },
  {
   "cell_type": "code",
   "execution_count": 7,
   "metadata": {},
   "outputs": [],
   "source": [
    "#label.classes_"
   ]
  },
  {
   "cell_type": "code",
   "execution_count": 8,
   "metadata": {},
   "outputs": [
    {
     "data": {
      "text/plain": [
       "array(['greek', 'southern_us', 'filipino', 'indian', 'jamaican',\n",
       "       'spanish', 'italian', 'mexican', 'chinese', 'british', 'thai',\n",
       "       'vietnamese', 'cajun_creole', 'brazilian', 'french', 'japanese',\n",
       "       'irish', 'korean', 'moroccan', 'russian'], dtype=object)"
      ]
     },
     "execution_count": 8,
     "metadata": {},
     "output_type": "execute_result"
    }
   ],
   "source": [
    "pd.Series(y).unique()"
   ]
  },
  {
   "cell_type": "markdown",
   "metadata": {},
   "source": [
    "# Balancear las clases"
   ]
  },
  {
   "cell_type": "markdown",
   "metadata": {},
   "source": [
    "Hacerlo con 'class_weight' "
   ]
  },
  {
   "cell_type": "markdown",
   "metadata": {},
   "source": [
    "# 3. Split en Train y Test\n",
    "\n",
    "Para armar y validar el modelo dividimos los datos del archivo 'train.json' en train y test. Luego de haber probado y elegido el mejor modelo posible, se realizarán predicciones sobre un nuevo set de datos del archivo 'test.json', del cual no se conocen las etiquetas."
   ]
  },
  {
   "cell_type": "code",
   "execution_count": 6,
   "metadata": {},
   "outputs": [],
   "source": [
    "X_train, X_test, y_train, y_test = train_test_split(X, y, test_size=0.25, stratify=y)"
   ]
  },
  {
   "cell_type": "code",
   "execution_count": 10,
   "metadata": {},
   "outputs": [
    {
     "data": {
      "text/plain": [
       "((39774,), (39774,))"
      ]
     },
     "execution_count": 10,
     "metadata": {},
     "output_type": "execute_result"
    }
   ],
   "source": [
    "X.shape,y.shape"
   ]
  },
  {
   "cell_type": "code",
   "execution_count": 11,
   "metadata": {},
   "outputs": [
    {
     "data": {
      "text/plain": [
       "((29830,), (29830,))"
      ]
     },
     "execution_count": 11,
     "metadata": {},
     "output_type": "execute_result"
    }
   ],
   "source": [
    "X_train.shape,y_train.shape"
   ]
  },
  {
   "cell_type": "code",
   "execution_count": 13,
   "metadata": {},
   "outputs": [
    {
     "data": {
      "text/plain": [
       "((9944,), (9944,))"
      ]
     },
     "execution_count": 13,
     "metadata": {},
     "output_type": "execute_result"
    }
   ],
   "source": [
    "X_test.shape,y_test.shape"
   ]
  },
  {
   "cell_type": "code",
   "execution_count": 14,
   "metadata": {},
   "outputs": [],
   "source": [
    "vec = CountVectorizer(analyzer='word', binary=True, decode_error='strict',\n",
    "                      encoding='utf-8',lowercase=True, max_df=1.0,\n",
    "                      max_features=5000, min_df=1,ngram_range=(1, 1), stop_words='english',\n",
    "                      strip_accents=None, token_pattern='(?u)\\\\b\\\\w\\\\w\\\\w+\\\\b')\n",
    "\n",
    "X_train = vec.fit_transform(X_train)\n",
    "X_test = vec.transform(X_test)"
   ]
  },
  {
   "cell_type": "code",
   "execution_count": 15,
   "metadata": {},
   "outputs": [],
   "source": [
    "# #vec = CountVectorizer(stop_words='english')\n",
    "# vec = CountVectorizer(binary=True,lowercase=True)\n",
    "# X_train = vec.fit_transform(X_train)\n",
    "# X_test = vec.transform(X_test)"
   ]
  },
  {
   "cell_type": "code",
   "execution_count": 16,
   "metadata": {},
   "outputs": [],
   "source": [
    "# modelo_tfidf = TfidfVectorizer(binary=True)\n",
    "# X_train = modelo_tfidf.fit_transform(X_train)\n",
    "# X_test = modelo_tfidf.transform(X_test)"
   ]
  },
  {
   "cell_type": "code",
   "execution_count": 17,
   "metadata": {},
   "outputs": [
    {
     "data": {
      "text/plain": [
       "((29830, 2821), (29830,))"
      ]
     },
     "execution_count": 17,
     "metadata": {},
     "output_type": "execute_result"
    }
   ],
   "source": [
    "X_train.shape,y_train.shape\n"
   ]
  },
  {
   "cell_type": "code",
   "execution_count": 18,
   "metadata": {},
   "outputs": [
    {
     "data": {
      "text/plain": [
       "(29830, 282)"
      ]
     },
     "execution_count": 18,
     "metadata": {},
     "output_type": "execute_result"
    }
   ],
   "source": [
    "feat_selector = SelectPercentile(f_classif, percentile=10)\n",
    "feat_selector = feat_selector.fit(X_train,y_train)\n",
    "\n",
    "X_train_new = feat_selector.transform(X_train)\n",
    "X_train_new.shape"
   ]
  },
  {
   "cell_type": "code",
   "execution_count": 19,
   "metadata": {},
   "outputs": [
    {
     "data": {
      "text/plain": [
       "((9944, 2821), (9944,))"
      ]
     },
     "execution_count": 19,
     "metadata": {},
     "output_type": "execute_result"
    }
   ],
   "source": [
    "X_test.shape,y_test.shape\n"
   ]
  },
  {
   "cell_type": "code",
   "execution_count": 20,
   "metadata": {},
   "outputs": [
    {
     "data": {
      "text/plain": [
       "(9944, 282)"
      ]
     },
     "execution_count": 20,
     "metadata": {},
     "output_type": "execute_result"
    }
   ],
   "source": [
    "X_test_new = feat_selector.transform(X_test)\n",
    "X_test_new.shape"
   ]
  },
  {
   "cell_type": "markdown",
   "metadata": {},
   "source": [
    "# 4. Instanciando el modelo"
   ]
  },
  {
   "cell_type": "code",
   "execution_count": 12,
   "metadata": {},
   "outputs": [],
   "source": [
    "X_train, X_test, y_train, y_test = train_test_split(X, y, test_size=0.25, stratify=y)"
   ]
  },
  {
   "cell_type": "code",
   "execution_count": 22,
   "metadata": {},
   "outputs": [],
   "source": [
    "# SVC.get_params(SVC).keys()"
   ]
  },
  {
   "cell_type": "code",
   "execution_count": 23,
   "metadata": {},
   "outputs": [],
   "source": [
    "pipeline = Pipeline([\n",
    "    ('vect', CountVectorizer()), \n",
    "    ('ftr', SelectPercentile()),\n",
    "    ('clf', SVC()), \n",
    "   ])"
   ]
  },
  {
   "cell_type": "code",
   "execution_count": 24,
   "metadata": {},
   "outputs": [],
   "source": [
    "parameters = {\n",
    "    'vect__max_features': [5000,10000],\n",
    "    'vect__ngram_range': [(1, 1),(1,2)],\n",
    "    'vect__stop_words': ['english'],\n",
    "    'vect__binary': [True],\n",
    "    'vect__token_pattern' : [r'(?u)\\b\\w\\w\\w+\\b'],\n",
    "    'ftr__percentile':[10],\n",
    "    'ftr__score_func':[f_classif],\n",
    "    'clf__C':[10,100],\n",
    "    'clf__gamma':[0.1,1],\n",
    "    'clf__kernel':['rbf'],\n",
    "    'clf__class_weight':['balanced'],\n",
    "    'clf__probability':[False],\n",
    "    'clf__max_iter':[50000]\n",
    "}"
   ]
  },
  {
   "cell_type": "code",
   "execution_count": 25,
   "metadata": {},
   "outputs": [],
   "source": [
    "grid_search = GridSearchCV(pipeline, parameters, n_jobs = -1 , verbose = 2 , cv=3)"
   ]
  },
  {
   "cell_type": "code",
   "execution_count": 26,
   "metadata": {
    "scrolled": false
   },
   "outputs": [
    {
     "name": "stdout",
     "output_type": "stream",
     "text": [
      "Performing grid search...\n",
      "Fitting 3 folds for each of 16 candidates, totalling 48 fits\n"
     ]
    },
    {
     "name": "stderr",
     "output_type": "stream",
     "text": [
      "[Parallel(n_jobs=-1)]: Using backend LokyBackend with 8 concurrent workers.\n",
      "[Parallel(n_jobs=-1)]: Done  25 tasks      | elapsed: 26.5min\n",
      "[Parallel(n_jobs=-1)]: Done  48 out of  48 | elapsed: 49.7min finished\n"
     ]
    },
    {
     "name": "stdout",
     "output_type": "stream",
     "text": [
      "Best score: 0.739\n",
      "Best parameters set:\n",
      "\t clf__C: 10\n",
      "\t clf__class_weight: 'balanced'\n",
      "\t clf__gamma: 0.1\n",
      "\t clf__kernel: 'rbf'\n",
      "\t clf__max_iter: 50000\n",
      "\t clf__probability: False\n",
      "\t ftr__percentile: 10\n",
      "\t ftr__score_func: <function f_classif at 0x0000017F9E7A4D90>\n",
      "\t vect__binary: True\n",
      "\t vect__max_features: 10000\n",
      "\t vect__ngram_range: (1, 2)\n",
      "\t vect__stop_words: 'english'\n",
      "\t vect__token_pattern: '(?u)\\\\b\\\\w\\\\w\\\\w+\\\\b'\n"
     ]
    }
   ],
   "source": [
    "print(\"Performing grid search...\") \n",
    "grid_search.fit(X_train, y_train)\n",
    "\n",
    "print(\"Best score: %0.3f\" % grid_search.best_score_) \n",
    "print(\"Best parameters set:\" )\n",
    "best_parameters = grid_search.best_estimator_.get_params()\n",
    "for param_name in sorted (parameters . keys()): \n",
    "                    print(\"\\t %s: %r\" % (param_name, best_parameters[param_name])) "
   ]
  },
  {
   "cell_type": "code",
   "execution_count": 11,
   "metadata": {},
   "outputs": [
    {
     "ename": "NameError",
     "evalue": "name 'grid_search' is not defined",
     "output_type": "error",
     "traceback": [
      "\u001b[1;31m---------------------------------------------------------------------------\u001b[0m",
      "\u001b[1;31mNameError\u001b[0m                                 Traceback (most recent call last)",
      "\u001b[1;32m<ipython-input-11-620386c59f3d>\u001b[0m in \u001b[0;36m<module>\u001b[1;34m\u001b[0m\n\u001b[0;32m      1\u001b[0m pipe_best1 = Pipeline([\n\u001b[1;32m----> 2\u001b[1;33m     ('vect', CountVectorizer(binary = grid_search.best_params_['vect__binary'],\n\u001b[0m\u001b[0;32m      3\u001b[0m                             \u001b[0mmax_features\u001b[0m \u001b[1;33m=\u001b[0m \u001b[0mgrid_search\u001b[0m\u001b[1;33m.\u001b[0m\u001b[0mbest_params_\u001b[0m\u001b[1;33m[\u001b[0m\u001b[1;34m'vect__max_features'\u001b[0m\u001b[1;33m]\u001b[0m\u001b[1;33m,\u001b[0m\u001b[1;33m\u001b[0m\u001b[1;33m\u001b[0m\u001b[0m\n\u001b[0;32m      4\u001b[0m                             \u001b[0mngram_range\u001b[0m \u001b[1;33m=\u001b[0m \u001b[0mgrid_search\u001b[0m\u001b[1;33m.\u001b[0m\u001b[0mbest_params_\u001b[0m\u001b[1;33m[\u001b[0m\u001b[1;34m'vect__ngram_range'\u001b[0m\u001b[1;33m]\u001b[0m\u001b[1;33m,\u001b[0m\u001b[1;33m\u001b[0m\u001b[1;33m\u001b[0m\u001b[0m\n\u001b[0;32m      5\u001b[0m                             \u001b[0mstop_words\u001b[0m \u001b[1;33m=\u001b[0m \u001b[1;34m'english'\u001b[0m\u001b[1;33m,\u001b[0m\u001b[1;33m\u001b[0m\u001b[1;33m\u001b[0m\u001b[0m\n",
      "\u001b[1;31mNameError\u001b[0m: name 'grid_search' is not defined"
     ]
    }
   ],
   "source": [
    "pipe_best1 = Pipeline([\n",
    "    ('vect', CountVectorizer(binary = grid_search.best_params_['vect__binary'],\n",
    "                            max_features = grid_search.best_params_['vect__max_features'],\n",
    "                            ngram_range = grid_search.best_params_['vect__ngram_range'],\n",
    "                            stop_words = 'english',\n",
    "                            token_pattern = '(?u)\\\\b\\\\w\\\\w\\\\w+\\\\b')), \n",
    "    ('ftr', SelectPercentile(percentile = grid_search.best_params_['ftr__percentile'],\n",
    "                            score_func = grid_search.best_params_['ftr__score_func'])),\n",
    "    ('clf', SVC(C = grid_search.best_params_['clf__C'],\n",
    "               class_weight = 'balanced',\n",
    "               gamma = grid_search.best_params_['clf__gamma'],\n",
    "               kernel = 'rbf',\n",
    "               max_iter = 50000)), \n",
    "   ])"
   ]
  },
  {
   "cell_type": "code",
   "execution_count": null,
   "metadata": {},
   "outputs": [],
   "source": [
    "pipe_best1.fit(X_train,y_train)"
   ]
  },
  {
   "cell_type": "code",
   "execution_count": null,
   "metadata": {},
   "outputs": [],
   "source": [
    "y_pred = pipe_best1.predict(X_test)\n",
    "y_pred_train = pipe_best1.predict(X_train)\n",
    "print(\"Accuracy sobre Train: {}\".format(accuracy_score(y_train, y_pred_train)))\n",
    "print(\"Accuracy sobre Test: {}\".format(accuracy_score(y_test, y_pred)))"
   ]
  },
  {
   "cell_type": "code",
   "execution_count": null,
   "metadata": {},
   "outputs": [],
   "source": [
    "plt.figure(figsize=(15, 15))\n",
    "classes = unique_labels(y_test, y_pred)\n",
    "\n",
    "# #tick_marks = np.arange(len(classes))\n",
    "# plt.xticks(tick_marks, labels= classes, rotation=90)\n",
    "# plt.yticks(tick_marks, labels= classes, rotation=-45)\n",
    "plt.title(\"confusion matrix\")\n",
    "\n",
    "mat = confusion_matrix(y_test, y_pred)\n",
    "ax=sns.heatmap(mat, square=True, annot=True, fmt='d', cbar=False)\n",
    "    \n",
    "plt.xlabel('Etiquetas predichas')\n",
    "plt.ylabel('Etiquetas verdaderas')\n",
    "ax.set_xticklabels(classes,rotation=90)\n",
    "ax.set_yticklabels(classes,rotation=0);\n",
    "plt.savefig('Images/Con_Mat_SVM.png')"
   ]
  },
  {
   "cell_type": "code",
   "execution_count": null,
   "metadata": {},
   "outputs": [],
   "source": [
    "print(classification_report(y_test, y_pred))"
   ]
  },
  {
   "cell_type": "code",
   "execution_count": 7,
   "metadata": {},
   "outputs": [],
   "source": [
    "pipe_best = Pipeline(steps=[\n",
    "    ('vect', CountVectorizer(binary=True,max_features=5000,ngram_range=(1,1),\n",
    "                             stop_words='english',token_pattern='(?u)\\\\b\\\\w\\\\w\\\\w+\\\\b')),\n",
    "    ('ftr', SelectPercentile(score_func = f_classif,percentile=20)),\n",
    "    ('clf', SVC(C=10,class_weight='balanced',gamma=0.1,kernel='rbf',\n",
    "               max_iter=50000,probability=False)), \n",
    "     ],verbose=True)"
   ]
  },
  {
   "cell_type": "code",
   "execution_count": 8,
   "metadata": {
    "scrolled": true
   },
   "outputs": [
    {
     "name": "stdout",
     "output_type": "stream",
     "text": [
      "[Pipeline] .............. (step 1 of 3) Processing vect, total=   0.8s\n",
      "[Pipeline] ............... (step 2 of 3) Processing ftr, total=   0.1s\n",
      "[Pipeline] ............... (step 3 of 3) Processing clf, total= 2.4min\n",
      "Accuracy sobre Train: 0.9897083473013745\n",
      "Accuracy sobre Test: 0.7774537409493162\n"
     ]
    }
   ],
   "source": [
    "pipe_best.fit(X_train,y_train)\n",
    "pred=pipe_best.predict(X_test)\n",
    "\n",
    "y_pred_train = pipe_best.predict(X_train)\n",
    "print(\"Accuracy sobre Train: {}\".format(accuracy_score(y_train, y_pred_train)))\n",
    "print(\"Accuracy sobre Test: {}\".format(accuracy_score(y_test, pred)))"
   ]
  },
  {
   "cell_type": "code",
   "execution_count": 9,
   "metadata": {},
   "outputs": [
    {
     "data": {
      "image/png": "[encoded data removed]",
      "text/plain": [
       "<Figure size 1080x1080 with 1 Axes>"
      ]
     },
     "metadata": {
      "needs_background": "light"
     },
     "output_type": "display_data"
    }
   ],
   "source": [
    "plt.figure(figsize=(15, 15))\n",
    "classes = unique_labels(y_test, pred)\n",
    "\n",
    "# #tick_marks = np.arange(len(classes))\n",
    "# plt.xticks(tick_marks, labels= classes, rotation=90)\n",
    "# plt.yticks(tick_marks, labels= classes, rotation=-45)\n",
    "plt.title(\"confusion matrix\")\n",
    "\n",
    "mat = confusion_matrix(y_test, pred)\n",
    "ax=sns.heatmap(mat, square=True, annot=True, fmt='d', cbar=False)\n",
    "    \n",
    "plt.xlabel('Etiquetas predichas')\n",
    "plt.ylabel('Etiquetas verdaderas')\n",
    "ax.set_xticklabels(classes,rotation=90)\n",
    "ax.set_yticklabels(classes,rotation=0);\n",
    "plt.savefig('Images/Con_Mat_SVM.png')"
   ]
  },
  {
   "cell_type": "code",
   "execution_count": 10,
   "metadata": {},
   "outputs": [
    {
     "name": "stdout",
     "output_type": "stream",
     "text": [
      "              precision    recall  f1-score   support\n",
      "\n",
      "   brazilian       0.79      0.57      0.66       117\n",
      "     british       0.53      0.46      0.49       201\n",
      "cajun_creole       0.77      0.72      0.74       386\n",
      "     chinese       0.77      0.85      0.80       668\n",
      "    filipino       0.69      0.63      0.66       189\n",
      "      french       0.56      0.69      0.62       662\n",
      "       greek       0.73      0.67      0.70       294\n",
      "      indian       0.84      0.90      0.87       751\n",
      "       irish       0.67      0.53      0.59       167\n",
      "     italian       0.82      0.86      0.84      1960\n",
      "    jamaican       0.86      0.69      0.76       131\n",
      "    japanese       0.80      0.68      0.74       356\n",
      "      korean       0.83      0.77      0.80       207\n",
      "     mexican       0.91      0.90      0.91      1610\n",
      "    moroccan       0.82      0.77      0.79       205\n",
      "     russian       0.53      0.43      0.48       122\n",
      " southern_us       0.71      0.77      0.74      1080\n",
      "     spanish       0.66      0.49      0.56       247\n",
      "        thai       0.80      0.81      0.80       385\n",
      "  vietnamese       0.75      0.48      0.58       206\n",
      "\n",
      "    accuracy                           0.78      9944\n",
      "   macro avg       0.74      0.68      0.71      9944\n",
      "weighted avg       0.78      0.78      0.78      9944\n",
      "\n"
     ]
    }
   ],
   "source": [
    "print(classification_report(y_test, pred))"
   ]
  },
  {
   "cell_type": "code",
   "execution_count": null,
   "metadata": {},
   "outputs": [],
   "source": [
    "grid_search.best_estimator_.fit(X_train,y_train)\n",
    "y_pred=grid_search1.best_estimator_.predict(X_test)\n",
    "\n",
    "print(\"Accuracy sobre Test: {}\".format(accuracy_score(y_test, y_pred)))"
   ]
  },
  {
   "cell_type": "code",
   "execution_count": null,
   "metadata": {},
   "outputs": [],
   "source": []
  },
  {
   "cell_type": "code",
   "execution_count": null,
   "metadata": {},
   "outputs": [],
   "source": [
    "# LinearSVC.get_params(LinearSVC).keys()"
   ]
  },
  {
   "cell_type": "code",
   "execution_count": null,
   "metadata": {},
   "outputs": [],
   "source": []
  },
  {
   "cell_type": "code",
   "execution_count": null,
   "metadata": {},
   "outputs": [],
   "source": [
    "#from sklearn.preprocessing import MaxAbsScaler\n",
    "\n",
    "#scaler = MaxAbsScaler()\n",
    "\n",
    "#X_train = scaler.fit_transform(X_train)\n",
    "#X_test = scaler.transform(X_test)"
   ]
  },
  {
   "cell_type": "code",
   "execution_count": null,
   "metadata": {},
   "outputs": [],
   "source": [
    "# #parameters = {'C':(0.1,1,10,100),'multi_class':('ovr','crammer_singer')}\n",
    "# #clf = GridSearchCV(estimator=lin_svc, param_grid=parameters,cv=kf)\n",
    "# #print(\"accuracy:\"+str(np.average(cross_val_score(clf, X_train, Y, scoring='accuracy'))))\n",
    "# #print(\"f1:\"+str(np.average(cross_val_score(clf, X_train, Y, scoring='f1'))))\n",
    "\n",
    "# from sklearn.model_selection import GridSearchCV\n",
    "# from sklearn.model_selection import StratifiedKFold\n",
    "# kf = StratifiedKFold(n_splits=3,shuffle=True,random_state=10)\n",
    "\n",
    "# model_SVC = SVC()\n",
    "# param_grid = {'C':[10,100],'gamma':[0.1,1],'max_iter':[100000],'kernel':['rbf']}\n",
    "# grid_search = GridSearchCV(estimator=model_SVC, param_grid=param_grid,cv=kf,verbose=2,n_jobs=2)\n"
   ]
  },
  {
   "cell_type": "code",
   "execution_count": null,
   "metadata": {},
   "outputs": [],
   "source": [
    "# grid_search.fit(X_train_new,y_train)"
   ]
  },
  {
   "cell_type": "code",
   "execution_count": null,
   "metadata": {},
   "outputs": [],
   "source": [
    "# from sklearn.model_selection import StratifiedKFold\n",
    "# kf = StratifiedKFold(n_splits=5,shuffle=True,random_state=10)\n",
    "# svc = SVC()\n",
    "# parameters = {'C':[10,100],'gamma':[0.1,1],'decision_function_shape':['ovr']}\n",
    "# grid_search = GridSearchCV(estimator=svc,param_grid=parameters,cv=kf)\n",
    "# grid_search.fit(X_train,y_train)"
   ]
  },
  {
   "cell_type": "code",
   "execution_count": null,
   "metadata": {},
   "outputs": [],
   "source": [
    "\n",
    "# lin_svc = LinearSVC(max_iter=10000,multi_class='ovr',C=100)\n",
    "# lin_svc.fit(X_train,y_train)\n",
    "# y_pred = lin_svc.predict(X_test)\n",
    "# accuracy_score(y_test,y_pred)\n"
   ]
  },
  {
   "cell_type": "code",
   "execution_count": null,
   "metadata": {},
   "outputs": [],
   "source": [
    "# model_SVC = SVC(C=100, # penalty parameter\n",
    "#                 kernel='rbf', # kernel type, rbf working fine here\n",
    "#                 degree=3, # default value\n",
    "#                 gamma=1, # kernel coefficient\n",
    "#                 coef0=1, # change to 1 from default value of 0.0\n",
    "#                 shrinking=True, # using shrinking heuristics\n",
    "#                 tol=0.001, # stopping criterion tolerance \n",
    "#                 probability=False, # no need to enable probability estimates\n",
    "#                 cache_size=200, # 200 MB cache size\n",
    "#                 class_weight=None, # all classes are treated equally \n",
    "#                 verbose=False, # print the logs \n",
    "#                 max_iter=-1, # no limit, let it run\n",
    "#                 decision_function_shape=None, # will use one vs rest explicitly \n",
    "#                 random_state=None)"
   ]
  },
  {
   "cell_type": "code",
   "execution_count": null,
   "metadata": {
    "scrolled": true
   },
   "outputs": [],
   "source": [
    "# model_SVC.fit(X_train,y_train)"
   ]
  },
  {
   "cell_type": "code",
   "execution_count": null,
   "metadata": {},
   "outputs": [],
   "source": [
    "# y_pred = model_SVC.predict(X_test)\n",
    "# accuracy_score(y_test,y_pred)"
   ]
  },
  {
   "cell_type": "code",
   "execution_count": null,
   "metadata": {},
   "outputs": [],
   "source": []
  },
  {
   "cell_type": "code",
   "execution_count": null,
   "metadata": {},
   "outputs": [],
   "source": []
  },
  {
   "cell_type": "code",
   "execution_count": null,
   "metadata": {},
   "outputs": [],
   "source": []
  }
 ],
 "metadata": {
  "kernelspec": {
   "display_name": "Python 3",
   "language": "python",
   "name": "python3"
  },
  "language_info": {
   "codemirror_mode": {
    "name": "ipython",
    "version": 3
   },
   "file_extension": ".py",
   "mimetype": "text/x-python",
   "name": "python",
   "nbconvert_exporter": "python",
   "pygments_lexer": "ipython3",
   "version": "3.7.1"
  }
 },
 "nbformat": 4,
 "nbformat_minor": 2
}
